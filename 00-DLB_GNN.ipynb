{
  "cells": [
    {
      "cell_type": "markdown",
      "metadata": {
        "id": "view-in-github",
        "colab_type": "text"
      },
      "source": [
        "<a href=\"https://colab.research.google.com/github/AmirJlr/Molecular-Property-Prediction/blob/master/00-DLB_GNN.ipynb\" target=\"_parent\"><img src=\"https://colab.research.google.com/assets/colab-badge.svg\" alt=\"Open In Colab\"/></a>"
      ]
    },
    {
      "cell_type": "markdown",
      "metadata": {
        "id": "wnImCo7iDqbp"
      },
      "source": [
        "# [deep learning for molecules & materials](https://dmol.pub/)\n",
        "\n",
        "## Graph Neural Networks\n",
        "\n",
        "Historically, the biggest difficulty for machine learning with molecules was the choice and computation of \"descriptors\". Graph neural networks (GNNs) are a category of deep neural networks whose inputs are graphs and provide a way around the choice of descriptors. A GNN can take a molecule directly as input.\n",
        "\n",
        "\n",
        "```\n",
        "After completing this chapter, you should be able to :\n",
        "\n",
        "  * Represent a molecule in a graph\n",
        "  * Discuss and categorize common graph neural network architectures\n",
        "  * Build a GNN and choose a read-out function for the type of labels\n",
        "  * Distinguish between graph, edge, and node features\n",
        "  * Formulate a GNN into edge-updates, node-updates, and aggregation steps\n",
        "```\n",
        "\n",
        "GNNs are specific layers that input a graph and output a graph. Before we dive too deep into them, we must first understand **how a graph is represented in a computer and how molecules are converted into graphs**.\n",
        "\n"
      ]
    },
    {
      "cell_type": "markdown",
      "metadata": {
        "id": "ga-qs9biDqbv"
      },
      "source": [
        "## Representing a Graph\n",
        "\n",
        "A graph $\\mathbf{G}$ is a set of nodes $\\mathbf{V}$ and edges $\\mathbf{E}$. In our setting, node $i$ is defined by a vector $\\vec{v}_i$, so that the set of nodes can be written as a rank 2 tensor.\n",
        "\n",
        "The edges can be represented as an adjacency matrix $\\mathbf{E}$, where if $e_{ij} = 1$ then nodes $i$ and $j$ are connected by an edge.\n",
        "\n",
        " In many fields, graphs are often immediately simplified to be directed and acyclic, which simplifies things.\n",
        "\n",
        " Molecules are instead undirected and have cycles (rings). Thus, our adjacency matrices are always symmetric $e_{ij} = e_{ji}$ because there is no concept of direction in chemical bonds. Often our edges themselves have features, so that $e_{ij}$ is itself a vector. Then the adjacency matrix becomes a rank 3 tensor. Examples of edge features might be **covalent bond ** order or distance between two nodes.\n",
        "\n",
        "<figure>\n",
        "   <img src='https://dmol.pub/_images/methanol.jpg' alt=\"depiction of methanol as lewis dot structure\" width=400 />\n",
        "   <figcaption>Methanol with atoms numbered so that we can convert it to a graph.</figcaption>\n",
        "</figure>\n",
        "\n",
        "\n",
        "Let's see how a graph can be constructed from a molecule. Consider methanol, shown in above figure. I've numbered the atoms so that we have an order for defining the nodes/edges. First, the node features. You can use anything for node features, but often we'll begin with one-hot encoded feature vectors:\n",
        "\n",
        "| Node | C  | H  | O  |\n",
        "|:-----|----|----|---:|\n",
        "| 1    | 0  | 1  |  0 |\n",
        "| 2    | 0  | 1  |  0 |\n",
        "| 3    | 0  | 1  |  0 |\n",
        "| 4    | 1  | 0  |  0 |\n",
        "| 5    | 0  | 0  |  1 |\n",
        "| 6    | 0  | 1  |  0 |\n",
        "\n",
        "$\\mathbf{V}$ will be the combined feature vectors of these nodes. The adjacency matrix $\\mathbf{E}$ will look like:\n",
        "\n",
        "\n",
        "|    | 1  | 2  | 3  | 4  | 5  | 6  |\n",
        "|:---|----|----|----|----|----|---:|\n",
        "| 1  | 0  | 0  | 0  | 1  | 0  |  0 |\n",
        "| 2  | 0  | 0  | 0  | 1  | 0  |  0 |\n",
        "| 3  | 0  | 0  | 0  | 1  | 0  |  0 |\n",
        "| 4  | 1  | 1  | 1  | 0  | 1  |  0 |\n",
        "| 5  | 0  | 0  | 0  | 1  | 0  |  1 |\n",
        "| 6  | 0  | 0  | 0  | 0  | 1  |  0 |\n",
        "\n",
        "\n",
        "Take a moment to understand these two. For example, notice that rows 1, 2, and 3 only have the 4th column as non-zero. That's because atoms 1-3 are bonded only to carbon (atom 4). Also, the diagonal is always 0 because atoms cannot be bonded with themselves.\n",
        "\n",
        "**We'll now begin with a function which can convert a smiles string into this representation.**"
      ]
    },
    {
      "cell_type": "code",
      "source": [
        "### Install Packages :\n",
        "!pip install pyg_lib torch_scatter torch_sparse torch_cluster torch_spline_conv -f https://data.pyg.org/whl/torch-2.1.0+cu121.html\n",
        "!pip install torch_geometric\n",
        "!pip install rdkit"
      ],
      "metadata": {
        "colab": {
          "base_uri": "https://localhost:8080/"
        },
        "id": "2LR-2xfTKoMn",
        "outputId": "4b396d4d-274c-423b-e63c-d8638e6f12b5"
      },
      "execution_count": 1,
      "outputs": [
        {
          "output_type": "stream",
          "name": "stdout",
          "text": [
            "Looking in links: https://data.pyg.org/whl/torch-2.1.0+cu121.html\n",
            "Collecting pyg_lib\n",
            "  Downloading https://data.pyg.org/whl/torch-2.1.0%2Bcu121/pyg_lib-0.4.0%2Bpt21cu121-cp310-cp310-linux_x86_64.whl (2.5 MB)\n",
            "\u001b[2K     \u001b[90m━━━━━━━━━━━━━━━━━━━━━━━━━━━━━━━━━━━━━━━━\u001b[0m \u001b[32m2.5/2.5 MB\u001b[0m \u001b[31m22.4 MB/s\u001b[0m eta \u001b[36m0:00:00\u001b[0m\n",
            "\u001b[?25hCollecting torch_scatter\n",
            "  Downloading https://data.pyg.org/whl/torch-2.1.0%2Bcu121/torch_scatter-2.1.2%2Bpt21cu121-cp310-cp310-linux_x86_64.whl (10.8 MB)\n",
            "\u001b[2K     \u001b[90m━━━━━━━━━━━━━━━━━━━━━━━━━━━━━━━━━━━━━━━━\u001b[0m \u001b[32m10.8/10.8 MB\u001b[0m \u001b[31m32.5 MB/s\u001b[0m eta \u001b[36m0:00:00\u001b[0m\n",
            "\u001b[?25hCollecting torch_sparse\n",
            "  Downloading https://data.pyg.org/whl/torch-2.1.0%2Bcu121/torch_sparse-0.6.18%2Bpt21cu121-cp310-cp310-linux_x86_64.whl (5.0 MB)\n",
            "\u001b[2K     \u001b[90m━━━━━━━━━━━━━━━━━━━━━━━━━━━━━━━━━━━━━━━━\u001b[0m \u001b[32m5.0/5.0 MB\u001b[0m \u001b[31m43.4 MB/s\u001b[0m eta \u001b[36m0:00:00\u001b[0m\n",
            "\u001b[?25hCollecting torch_cluster\n",
            "  Downloading https://data.pyg.org/whl/torch-2.1.0%2Bcu121/torch_cluster-1.6.3%2Bpt21cu121-cp310-cp310-linux_x86_64.whl (3.3 MB)\n",
            "\u001b[2K     \u001b[90m━━━━━━━━━━━━━━━━━━━━━━━━━━━━━━━━━━━━━━━━\u001b[0m \u001b[32m3.3/3.3 MB\u001b[0m \u001b[31m26.5 MB/s\u001b[0m eta \u001b[36m0:00:00\u001b[0m\n",
            "\u001b[?25hCollecting torch_spline_conv\n",
            "  Downloading https://data.pyg.org/whl/torch-2.1.0%2Bcu121/torch_spline_conv-1.2.2%2Bpt21cu121-cp310-cp310-linux_x86_64.whl (932 kB)\n",
            "\u001b[2K     \u001b[90m━━━━━━━━━━━━━━━━━━━━━━━━━━━━━━━━━━━━━━━━\u001b[0m \u001b[32m932.1/932.1 kB\u001b[0m \u001b[31m23.5 MB/s\u001b[0m eta \u001b[36m0:00:00\u001b[0m\n",
            "\u001b[?25hRequirement already satisfied: scipy in /usr/local/lib/python3.10/dist-packages (from torch_sparse) (1.11.4)\n",
            "Requirement already satisfied: numpy<1.28.0,>=1.21.6 in /usr/local/lib/python3.10/dist-packages (from scipy->torch_sparse) (1.25.2)\n",
            "Installing collected packages: torch_spline_conv, torch_scatter, pyg_lib, torch_sparse, torch_cluster\n",
            "Successfully installed pyg_lib-0.4.0+pt21cu121 torch_cluster-1.6.3+pt21cu121 torch_scatter-2.1.2+pt21cu121 torch_sparse-0.6.18+pt21cu121 torch_spline_conv-1.2.2+pt21cu121\n",
            "Collecting torch_geometric\n",
            "  Downloading torch_geometric-2.5.0-py3-none-any.whl (1.1 MB)\n",
            "\u001b[2K     \u001b[90m━━━━━━━━━━━━━━━━━━━━━━━━━━━━━━━━━━━━━━━━\u001b[0m \u001b[32m1.1/1.1 MB\u001b[0m \u001b[31m5.5 MB/s\u001b[0m eta \u001b[36m0:00:00\u001b[0m\n",
            "\u001b[?25hRequirement already satisfied: tqdm in /usr/local/lib/python3.10/dist-packages (from torch_geometric) (4.66.2)\n",
            "Requirement already satisfied: numpy in /usr/local/lib/python3.10/dist-packages (from torch_geometric) (1.25.2)\n",
            "Requirement already satisfied: scipy in /usr/local/lib/python3.10/dist-packages (from torch_geometric) (1.11.4)\n",
            "Requirement already satisfied: fsspec in /usr/local/lib/python3.10/dist-packages (from torch_geometric) (2023.6.0)\n",
            "Requirement already satisfied: jinja2 in /usr/local/lib/python3.10/dist-packages (from torch_geometric) (3.1.3)\n",
            "Requirement already satisfied: aiohttp in /usr/local/lib/python3.10/dist-packages (from torch_geometric) (3.9.3)\n",
            "Requirement already satisfied: requests in /usr/local/lib/python3.10/dist-packages (from torch_geometric) (2.31.0)\n",
            "Requirement already satisfied: pyparsing in /usr/local/lib/python3.10/dist-packages (from torch_geometric) (3.1.1)\n",
            "Requirement already satisfied: scikit-learn in /usr/local/lib/python3.10/dist-packages (from torch_geometric) (1.2.2)\n",
            "Requirement already satisfied: psutil>=5.8.0 in /usr/local/lib/python3.10/dist-packages (from torch_geometric) (5.9.5)\n",
            "Requirement already satisfied: aiosignal>=1.1.2 in /usr/local/lib/python3.10/dist-packages (from aiohttp->torch_geometric) (1.3.1)\n",
            "Requirement already satisfied: attrs>=17.3.0 in /usr/local/lib/python3.10/dist-packages (from aiohttp->torch_geometric) (23.2.0)\n",
            "Requirement already satisfied: frozenlist>=1.1.1 in /usr/local/lib/python3.10/dist-packages (from aiohttp->torch_geometric) (1.4.1)\n",
            "Requirement already satisfied: multidict<7.0,>=4.5 in /usr/local/lib/python3.10/dist-packages (from aiohttp->torch_geometric) (6.0.5)\n",
            "Requirement already satisfied: yarl<2.0,>=1.0 in /usr/local/lib/python3.10/dist-packages (from aiohttp->torch_geometric) (1.9.4)\n",
            "Requirement already satisfied: async-timeout<5.0,>=4.0 in /usr/local/lib/python3.10/dist-packages (from aiohttp->torch_geometric) (4.0.3)\n",
            "Requirement already satisfied: MarkupSafe>=2.0 in /usr/local/lib/python3.10/dist-packages (from jinja2->torch_geometric) (2.1.5)\n",
            "Requirement already satisfied: charset-normalizer<4,>=2 in /usr/local/lib/python3.10/dist-packages (from requests->torch_geometric) (3.3.2)\n",
            "Requirement already satisfied: idna<4,>=2.5 in /usr/local/lib/python3.10/dist-packages (from requests->torch_geometric) (3.6)\n",
            "Requirement already satisfied: urllib3<3,>=1.21.1 in /usr/local/lib/python3.10/dist-packages (from requests->torch_geometric) (2.0.7)\n",
            "Requirement already satisfied: certifi>=2017.4.17 in /usr/local/lib/python3.10/dist-packages (from requests->torch_geometric) (2024.2.2)\n",
            "Requirement already satisfied: joblib>=1.1.1 in /usr/local/lib/python3.10/dist-packages (from scikit-learn->torch_geometric) (1.3.2)\n",
            "Requirement already satisfied: threadpoolctl>=2.0.0 in /usr/local/lib/python3.10/dist-packages (from scikit-learn->torch_geometric) (3.3.0)\n",
            "Installing collected packages: torch_geometric\n",
            "Successfully installed torch_geometric-2.5.0\n",
            "Collecting rdkit\n",
            "  Downloading rdkit-2023.9.5-cp310-cp310-manylinux_2_17_x86_64.manylinux2014_x86_64.whl (34.4 MB)\n",
            "\u001b[2K     \u001b[90m━━━━━━━━━━━━━━━━━━━━━━━━━━━━━━━━━━━━━━━━\u001b[0m \u001b[32m34.4/34.4 MB\u001b[0m \u001b[31m18.4 MB/s\u001b[0m eta \u001b[36m0:00:00\u001b[0m\n",
            "\u001b[?25hRequirement already satisfied: numpy in /usr/local/lib/python3.10/dist-packages (from rdkit) (1.25.2)\n",
            "Requirement already satisfied: Pillow in /usr/local/lib/python3.10/dist-packages (from rdkit) (9.4.0)\n",
            "Installing collected packages: rdkit\n",
            "Successfully installed rdkit-2023.9.5\n"
          ]
        }
      ]
    },
    {
      "cell_type": "code",
      "execution_count": 3,
      "metadata": {
        "id": "5D-8ejI0Dqbx"
      },
      "outputs": [],
      "source": [
        "import matplotlib.pyplot as plt\n",
        "import matplotlib as mpl\n",
        "import numpy as np\n",
        "import tensorflow as tf\n",
        "import pandas as pd\n",
        "import rdkit, rdkit.Chem, rdkit.Chem.rdDepictor, rdkit.Chem.Draw\n",
        "import networkx as nx"
      ]
    },
    {
      "cell_type": "code",
      "execution_count": 4,
      "metadata": {
        "id": "dHhI-2QyDqbz"
      },
      "outputs": [],
      "source": [
        "soldata = pd.read_csv(\n",
        "    \"https://github.com/whitead/dmol-book/raw/main/data/curated-solubility-dataset.csv\"\n",
        ")\n",
        "np.random.seed(0)\n",
        "my_elements = {6: \"C\", 8: \"O\", 1: \"H\"}"
      ]
    },
    {
      "cell_type": "code",
      "source": [
        "soldata.head(3)"
      ],
      "metadata": {
        "colab": {
          "base_uri": "https://localhost:8080/",
          "height": 262
        },
        "id": "x7FeCn1lOFm2",
        "outputId": "58d3910e-eb82-4a63-bd6f-a211938ddcd3"
      },
      "execution_count": 7,
      "outputs": [
        {
          "output_type": "execute_result",
          "data": {
            "text/plain": [
              "    ID                                        Name  \\\n",
              "0  A-3  N,N,N-trimethyloctadecan-1-aminium bromide   \n",
              "1  A-4                    Benzo[cd]indol-2(1H)-one   \n",
              "2  A-5                        4-chlorobenzaldehyde   \n",
              "\n",
              "                                               InChI  \\\n",
              "0  InChI=1S/C21H46N.BrH/c1-5-6-7-8-9-10-11-12-13-...   \n",
              "1  InChI=1S/C11H7NO/c13-11-8-5-1-3-7-4-2-6-9(12-1...   \n",
              "2        InChI=1S/C7H5ClO/c8-7-3-1-6(5-9)2-4-7/h1-5H   \n",
              "\n",
              "                      InChIKey                               SMILES  \\\n",
              "0  SZEMGTQCPRNXEG-UHFFFAOYSA-M  [Br-].CCCCCCCCCCCCCCCCCC[N+](C)(C)C   \n",
              "1  GPYLCFQEKPUWLD-UHFFFAOYSA-N                 O=C1Nc2cccc3cccc1c23   \n",
              "2  AVPYQKSLYISFPO-UHFFFAOYSA-N                      Clc1ccc(C=O)cc1   \n",
              "\n",
              "   Solubility   SD  Ocurrences Group    MolWt  ...  NumRotatableBonds  \\\n",
              "0   -3.616127  0.0           1    G1  392.510  ...               17.0   \n",
              "1   -3.254767  0.0           1    G1  169.183  ...                0.0   \n",
              "2   -2.177078  0.0           1    G1  140.569  ...                1.0   \n",
              "\n",
              "   NumValenceElectrons  NumAromaticRings  NumSaturatedRings  \\\n",
              "0                142.0               0.0                0.0   \n",
              "1                 62.0               2.0                0.0   \n",
              "2                 46.0               1.0                0.0   \n",
              "\n",
              "   NumAliphaticRings  RingCount   TPSA   LabuteASA  BalabanJ     BertzCT  \n",
              "0                0.0        0.0   0.00  158.520601  0.000000  210.377334  \n",
              "1                1.0        3.0  29.10   75.183563  2.582996  511.229248  \n",
              "2                0.0        1.0  17.07   58.261134  3.009782  202.661065  \n",
              "\n",
              "[3 rows x 26 columns]"
            ],
            "text/html": [
              "\n",
              "  <div id=\"df-6bec5973-74ad-4fd8-bd5c-9efc5e037c1e\" class=\"colab-df-container\">\n",
              "    <div>\n",
              "<style scoped>\n",
              "    .dataframe tbody tr th:only-of-type {\n",
              "        vertical-align: middle;\n",
              "    }\n",
              "\n",
              "    .dataframe tbody tr th {\n",
              "        vertical-align: top;\n",
              "    }\n",
              "\n",
              "    .dataframe thead th {\n",
              "        text-align: right;\n",
              "    }\n",
              "</style>\n",
              "<table border=\"1\" class=\"dataframe\">\n",
              "  <thead>\n",
              "    <tr style=\"text-align: right;\">\n",
              "      <th></th>\n",
              "      <th>ID</th>\n",
              "      <th>Name</th>\n",
              "      <th>InChI</th>\n",
              "      <th>InChIKey</th>\n",
              "      <th>SMILES</th>\n",
              "      <th>Solubility</th>\n",
              "      <th>SD</th>\n",
              "      <th>Ocurrences</th>\n",
              "      <th>Group</th>\n",
              "      <th>MolWt</th>\n",
              "      <th>...</th>\n",
              "      <th>NumRotatableBonds</th>\n",
              "      <th>NumValenceElectrons</th>\n",
              "      <th>NumAromaticRings</th>\n",
              "      <th>NumSaturatedRings</th>\n",
              "      <th>NumAliphaticRings</th>\n",
              "      <th>RingCount</th>\n",
              "      <th>TPSA</th>\n",
              "      <th>LabuteASA</th>\n",
              "      <th>BalabanJ</th>\n",
              "      <th>BertzCT</th>\n",
              "    </tr>\n",
              "  </thead>\n",
              "  <tbody>\n",
              "    <tr>\n",
              "      <th>0</th>\n",
              "      <td>A-3</td>\n",
              "      <td>N,N,N-trimethyloctadecan-1-aminium bromide</td>\n",
              "      <td>InChI=1S/C21H46N.BrH/c1-5-6-7-8-9-10-11-12-13-...</td>\n",
              "      <td>SZEMGTQCPRNXEG-UHFFFAOYSA-M</td>\n",
              "      <td>[Br-].CCCCCCCCCCCCCCCCCC[N+](C)(C)C</td>\n",
              "      <td>-3.616127</td>\n",
              "      <td>0.0</td>\n",
              "      <td>1</td>\n",
              "      <td>G1</td>\n",
              "      <td>392.510</td>\n",
              "      <td>...</td>\n",
              "      <td>17.0</td>\n",
              "      <td>142.0</td>\n",
              "      <td>0.0</td>\n",
              "      <td>0.0</td>\n",
              "      <td>0.0</td>\n",
              "      <td>0.0</td>\n",
              "      <td>0.00</td>\n",
              "      <td>158.520601</td>\n",
              "      <td>0.000000</td>\n",
              "      <td>210.377334</td>\n",
              "    </tr>\n",
              "    <tr>\n",
              "      <th>1</th>\n",
              "      <td>A-4</td>\n",
              "      <td>Benzo[cd]indol-2(1H)-one</td>\n",
              "      <td>InChI=1S/C11H7NO/c13-11-8-5-1-3-7-4-2-6-9(12-1...</td>\n",
              "      <td>GPYLCFQEKPUWLD-UHFFFAOYSA-N</td>\n",
              "      <td>O=C1Nc2cccc3cccc1c23</td>\n",
              "      <td>-3.254767</td>\n",
              "      <td>0.0</td>\n",
              "      <td>1</td>\n",
              "      <td>G1</td>\n",
              "      <td>169.183</td>\n",
              "      <td>...</td>\n",
              "      <td>0.0</td>\n",
              "      <td>62.0</td>\n",
              "      <td>2.0</td>\n",
              "      <td>0.0</td>\n",
              "      <td>1.0</td>\n",
              "      <td>3.0</td>\n",
              "      <td>29.10</td>\n",
              "      <td>75.183563</td>\n",
              "      <td>2.582996</td>\n",
              "      <td>511.229248</td>\n",
              "    </tr>\n",
              "    <tr>\n",
              "      <th>2</th>\n",
              "      <td>A-5</td>\n",
              "      <td>4-chlorobenzaldehyde</td>\n",
              "      <td>InChI=1S/C7H5ClO/c8-7-3-1-6(5-9)2-4-7/h1-5H</td>\n",
              "      <td>AVPYQKSLYISFPO-UHFFFAOYSA-N</td>\n",
              "      <td>Clc1ccc(C=O)cc1</td>\n",
              "      <td>-2.177078</td>\n",
              "      <td>0.0</td>\n",
              "      <td>1</td>\n",
              "      <td>G1</td>\n",
              "      <td>140.569</td>\n",
              "      <td>...</td>\n",
              "      <td>1.0</td>\n",
              "      <td>46.0</td>\n",
              "      <td>1.0</td>\n",
              "      <td>0.0</td>\n",
              "      <td>0.0</td>\n",
              "      <td>1.0</td>\n",
              "      <td>17.07</td>\n",
              "      <td>58.261134</td>\n",
              "      <td>3.009782</td>\n",
              "      <td>202.661065</td>\n",
              "    </tr>\n",
              "  </tbody>\n",
              "</table>\n",
              "<p>3 rows × 26 columns</p>\n",
              "</div>\n",
              "    <div class=\"colab-df-buttons\">\n",
              "\n",
              "  <div class=\"colab-df-container\">\n",
              "    <button class=\"colab-df-convert\" onclick=\"convertToInteractive('df-6bec5973-74ad-4fd8-bd5c-9efc5e037c1e')\"\n",
              "            title=\"Convert this dataframe to an interactive table.\"\n",
              "            style=\"display:none;\">\n",
              "\n",
              "  <svg xmlns=\"http://www.w3.org/2000/svg\" height=\"24px\" viewBox=\"0 -960 960 960\">\n",
              "    <path d=\"M120-120v-720h720v720H120Zm60-500h600v-160H180v160Zm220 220h160v-160H400v160Zm0 220h160v-160H400v160ZM180-400h160v-160H180v160Zm440 0h160v-160H620v160ZM180-180h160v-160H180v160Zm440 0h160v-160H620v160Z\"/>\n",
              "  </svg>\n",
              "    </button>\n",
              "\n",
              "  <style>\n",
              "    .colab-df-container {\n",
              "      display:flex;\n",
              "      gap: 12px;\n",
              "    }\n",
              "\n",
              "    .colab-df-convert {\n",
              "      background-color: #E8F0FE;\n",
              "      border: none;\n",
              "      border-radius: 50%;\n",
              "      cursor: pointer;\n",
              "      display: none;\n",
              "      fill: #1967D2;\n",
              "      height: 32px;\n",
              "      padding: 0 0 0 0;\n",
              "      width: 32px;\n",
              "    }\n",
              "\n",
              "    .colab-df-convert:hover {\n",
              "      background-color: #E2EBFA;\n",
              "      box-shadow: 0px 1px 2px rgba(60, 64, 67, 0.3), 0px 1px 3px 1px rgba(60, 64, 67, 0.15);\n",
              "      fill: #174EA6;\n",
              "    }\n",
              "\n",
              "    .colab-df-buttons div {\n",
              "      margin-bottom: 4px;\n",
              "    }\n",
              "\n",
              "    [theme=dark] .colab-df-convert {\n",
              "      background-color: #3B4455;\n",
              "      fill: #D2E3FC;\n",
              "    }\n",
              "\n",
              "    [theme=dark] .colab-df-convert:hover {\n",
              "      background-color: #434B5C;\n",
              "      box-shadow: 0px 1px 3px 1px rgba(0, 0, 0, 0.15);\n",
              "      filter: drop-shadow(0px 1px 2px rgba(0, 0, 0, 0.3));\n",
              "      fill: #FFFFFF;\n",
              "    }\n",
              "  </style>\n",
              "\n",
              "    <script>\n",
              "      const buttonEl =\n",
              "        document.querySelector('#df-6bec5973-74ad-4fd8-bd5c-9efc5e037c1e button.colab-df-convert');\n",
              "      buttonEl.style.display =\n",
              "        google.colab.kernel.accessAllowed ? 'block' : 'none';\n",
              "\n",
              "      async function convertToInteractive(key) {\n",
              "        const element = document.querySelector('#df-6bec5973-74ad-4fd8-bd5c-9efc5e037c1e');\n",
              "        const dataTable =\n",
              "          await google.colab.kernel.invokeFunction('convertToInteractive',\n",
              "                                                    [key], {});\n",
              "        if (!dataTable) return;\n",
              "\n",
              "        const docLinkHtml = 'Like what you see? Visit the ' +\n",
              "          '<a target=\"_blank\" href=https://colab.research.google.com/notebooks/data_table.ipynb>data table notebook</a>'\n",
              "          + ' to learn more about interactive tables.';\n",
              "        element.innerHTML = '';\n",
              "        dataTable['output_type'] = 'display_data';\n",
              "        await google.colab.output.renderOutput(dataTable, element);\n",
              "        const docLink = document.createElement('div');\n",
              "        docLink.innerHTML = docLinkHtml;\n",
              "        element.appendChild(docLink);\n",
              "      }\n",
              "    </script>\n",
              "  </div>\n",
              "\n",
              "\n",
              "<div id=\"df-1f1ee019-efbb-4607-9b47-9e2b7ef974ba\">\n",
              "  <button class=\"colab-df-quickchart\" onclick=\"quickchart('df-1f1ee019-efbb-4607-9b47-9e2b7ef974ba')\"\n",
              "            title=\"Suggest charts\"\n",
              "            style=\"display:none;\">\n",
              "\n",
              "<svg xmlns=\"http://www.w3.org/2000/svg\" height=\"24px\"viewBox=\"0 0 24 24\"\n",
              "     width=\"24px\">\n",
              "    <g>\n",
              "        <path d=\"M19 3H5c-1.1 0-2 .9-2 2v14c0 1.1.9 2 2 2h14c1.1 0 2-.9 2-2V5c0-1.1-.9-2-2-2zM9 17H7v-7h2v7zm4 0h-2V7h2v10zm4 0h-2v-4h2v4z\"/>\n",
              "    </g>\n",
              "</svg>\n",
              "  </button>\n",
              "\n",
              "<style>\n",
              "  .colab-df-quickchart {\n",
              "      --bg-color: #E8F0FE;\n",
              "      --fill-color: #1967D2;\n",
              "      --hover-bg-color: #E2EBFA;\n",
              "      --hover-fill-color: #174EA6;\n",
              "      --disabled-fill-color: #AAA;\n",
              "      --disabled-bg-color: #DDD;\n",
              "  }\n",
              "\n",
              "  [theme=dark] .colab-df-quickchart {\n",
              "      --bg-color: #3B4455;\n",
              "      --fill-color: #D2E3FC;\n",
              "      --hover-bg-color: #434B5C;\n",
              "      --hover-fill-color: #FFFFFF;\n",
              "      --disabled-bg-color: #3B4455;\n",
              "      --disabled-fill-color: #666;\n",
              "  }\n",
              "\n",
              "  .colab-df-quickchart {\n",
              "    background-color: var(--bg-color);\n",
              "    border: none;\n",
              "    border-radius: 50%;\n",
              "    cursor: pointer;\n",
              "    display: none;\n",
              "    fill: var(--fill-color);\n",
              "    height: 32px;\n",
              "    padding: 0;\n",
              "    width: 32px;\n",
              "  }\n",
              "\n",
              "  .colab-df-quickchart:hover {\n",
              "    background-color: var(--hover-bg-color);\n",
              "    box-shadow: 0 1px 2px rgba(60, 64, 67, 0.3), 0 1px 3px 1px rgba(60, 64, 67, 0.15);\n",
              "    fill: var(--button-hover-fill-color);\n",
              "  }\n",
              "\n",
              "  .colab-df-quickchart-complete:disabled,\n",
              "  .colab-df-quickchart-complete:disabled:hover {\n",
              "    background-color: var(--disabled-bg-color);\n",
              "    fill: var(--disabled-fill-color);\n",
              "    box-shadow: none;\n",
              "  }\n",
              "\n",
              "  .colab-df-spinner {\n",
              "    border: 2px solid var(--fill-color);\n",
              "    border-color: transparent;\n",
              "    border-bottom-color: var(--fill-color);\n",
              "    animation:\n",
              "      spin 1s steps(1) infinite;\n",
              "  }\n",
              "\n",
              "  @keyframes spin {\n",
              "    0% {\n",
              "      border-color: transparent;\n",
              "      border-bottom-color: var(--fill-color);\n",
              "      border-left-color: var(--fill-color);\n",
              "    }\n",
              "    20% {\n",
              "      border-color: transparent;\n",
              "      border-left-color: var(--fill-color);\n",
              "      border-top-color: var(--fill-color);\n",
              "    }\n",
              "    30% {\n",
              "      border-color: transparent;\n",
              "      border-left-color: var(--fill-color);\n",
              "      border-top-color: var(--fill-color);\n",
              "      border-right-color: var(--fill-color);\n",
              "    }\n",
              "    40% {\n",
              "      border-color: transparent;\n",
              "      border-right-color: var(--fill-color);\n",
              "      border-top-color: var(--fill-color);\n",
              "    }\n",
              "    60% {\n",
              "      border-color: transparent;\n",
              "      border-right-color: var(--fill-color);\n",
              "    }\n",
              "    80% {\n",
              "      border-color: transparent;\n",
              "      border-right-color: var(--fill-color);\n",
              "      border-bottom-color: var(--fill-color);\n",
              "    }\n",
              "    90% {\n",
              "      border-color: transparent;\n",
              "      border-bottom-color: var(--fill-color);\n",
              "    }\n",
              "  }\n",
              "</style>\n",
              "\n",
              "  <script>\n",
              "    async function quickchart(key) {\n",
              "      const quickchartButtonEl =\n",
              "        document.querySelector('#' + key + ' button');\n",
              "      quickchartButtonEl.disabled = true;  // To prevent multiple clicks.\n",
              "      quickchartButtonEl.classList.add('colab-df-spinner');\n",
              "      try {\n",
              "        const charts = await google.colab.kernel.invokeFunction(\n",
              "            'suggestCharts', [key], {});\n",
              "      } catch (error) {\n",
              "        console.error('Error during call to suggestCharts:', error);\n",
              "      }\n",
              "      quickchartButtonEl.classList.remove('colab-df-spinner');\n",
              "      quickchartButtonEl.classList.add('colab-df-quickchart-complete');\n",
              "    }\n",
              "    (() => {\n",
              "      let quickchartButtonEl =\n",
              "        document.querySelector('#df-1f1ee019-efbb-4607-9b47-9e2b7ef974ba button');\n",
              "      quickchartButtonEl.style.display =\n",
              "        google.colab.kernel.accessAllowed ? 'block' : 'none';\n",
              "    })();\n",
              "  </script>\n",
              "</div>\n",
              "    </div>\n",
              "  </div>\n"
            ],
            "application/vnd.google.colaboratory.intrinsic+json": {
              "type": "dataframe",
              "variable_name": "soldata"
            }
          },
          "metadata": {},
          "execution_count": 7
        }
      ]
    },
    {
      "cell_type": "code",
      "source": [
        "soldata.columns"
      ],
      "metadata": {
        "colab": {
          "base_uri": "https://localhost:8080/"
        },
        "id": "xKe-mZAUOFtW",
        "outputId": "fa0decfa-4bc7-4e42-e3fa-6b81309b26ef"
      },
      "execution_count": 8,
      "outputs": [
        {
          "output_type": "execute_result",
          "data": {
            "text/plain": [
              "Index(['ID', 'Name', 'InChI', 'InChIKey', 'SMILES', 'Solubility', 'SD',\n",
              "       'Ocurrences', 'Group', 'MolWt', 'MolLogP', 'MolMR', 'HeavyAtomCount',\n",
              "       'NumHAcceptors', 'NumHDonors', 'NumHeteroatoms', 'NumRotatableBonds',\n",
              "       'NumValenceElectrons', 'NumAromaticRings', 'NumSaturatedRings',\n",
              "       'NumAliphaticRings', 'RingCount', 'TPSA', 'LabuteASA', 'BalabanJ',\n",
              "       'BertzCT'],\n",
              "      dtype='object')"
            ]
          },
          "metadata": {},
          "execution_count": 8
        }
      ]
    },
    {
      "cell_type": "markdown",
      "metadata": {
        "id": "SzhCL3U3Dqb0"
      },
      "source": [
        "The cell below defines our function `smiles2graph`.\n",
        "\n",
        "This creates one-hot node feature vectors for the element C, H, and O.\n",
        "\n",
        "It also creates an adjacency tensor with one-hot bond order being the feature vector."
      ]
    },
    {
      "cell_type": "code",
      "execution_count": 9,
      "metadata": {
        "tags": [
          "hide-cell"
        ],
        "id": "MPhWIeghDqb0"
      },
      "outputs": [],
      "source": [
        "def smiles2graph(sml):\n",
        "    \"\"\"Argument for the RD2NX function should be a valid SMILES sequence\n",
        "    returns: the graph\n",
        "    \"\"\"\n",
        "    m = rdkit.Chem.MolFromSmiles(sml)\n",
        "    m = rdkit.Chem.AddHs(m)\n",
        "    order_string = {\n",
        "        rdkit.Chem.rdchem.BondType.SINGLE: 1,\n",
        "        rdkit.Chem.rdchem.BondType.DOUBLE: 2,\n",
        "        rdkit.Chem.rdchem.BondType.TRIPLE: 3,\n",
        "        rdkit.Chem.rdchem.BondType.AROMATIC: 4,\n",
        "    }\n",
        "    N = len(list(m.GetAtoms()))\n",
        "    nodes = np.zeros((N, len(my_elements)))\n",
        "    lookup = list(my_elements.keys())\n",
        "    for i in m.GetAtoms():\n",
        "        nodes[i.GetIdx(), lookup.index(i.GetAtomicNum())] = 1\n",
        "\n",
        "    adj = np.zeros((N, N, 5))\n",
        "    for j in m.GetBonds():\n",
        "        u = min(j.GetBeginAtomIdx(), j.GetEndAtomIdx())\n",
        "        v = max(j.GetBeginAtomIdx(), j.GetEndAtomIdx())\n",
        "        order = j.GetBondType()\n",
        "        if order in order_string:\n",
        "            order = order_string[order]\n",
        "        else:\n",
        "            raise Warning(\"Ignoring bond order\" + order)\n",
        "        adj[u, v, order] = 1\n",
        "        adj[v, u, order] = 1\n",
        "    return nodes, adj"
      ]
    },
    {
      "cell_type": "code",
      "execution_count": 10,
      "metadata": {
        "colab": {
          "base_uri": "https://localhost:8080/"
        },
        "id": "bDezUIUADqb1",
        "outputId": "8e3c7e15-1208-4a7f-a739-30ece9eb6445"
      },
      "outputs": [
        {
          "output_type": "execute_result",
          "data": {
            "text/plain": [
              "array([[1., 0., 0.],\n",
              "       [0., 1., 0.],\n",
              "       [0., 0., 1.],\n",
              "       [0., 0., 1.],\n",
              "       [0., 0., 1.],\n",
              "       [0., 0., 1.]])"
            ]
          },
          "metadata": {},
          "execution_count": 10
        }
      ],
      "source": [
        "nodes, adj = smiles2graph(\"CO\")\n",
        "nodes"
      ]
    },
    {
      "cell_type": "markdown",
      "metadata": {
        "id": "8oz-k9tPDqb1"
      },
      "source": [
        "## A Graph Neural Network\n",
        "\n",
        "A graph neural network (GNN) is a neural network with two defining attributes:\n",
        "\n",
        "1. Its input is a graph\n",
        "2. Its output is permutation equivariant\n",
        "\n",
        "Graph permutation means re-ordering our nodes. In our methanol example above, we could have easily made the carbon be atom 1 instead of atom 4. Our new adjacency matrix would then be:\n",
        "\n",
        "|    | 1  | 2  | 3  | 4  | 5  | 6  |\n",
        "|:---|----|----|----|----|----|---:|\n",
        "| 1  | 0  | 1  | 1  | 1  | 1  |  0 |\n",
        "| 2  | 1  | 0  | 0  | 0  | 0  |  0 |\n",
        "| 3  | 1  | 0  | 0  | 0  | 0  |  0 |\n",
        "| 4  | 1  | 0  | 0  | 0  | 1  |  0 |\n",
        "| 5  | 1  | 0  | 0  | 0  | 0  |  1 |\n",
        "| 6  | 0  | 0  | 0  | 0  | 1  |  0 |\n",
        "\n",
        "\n",
        "**A GNN is permutation equivariant if the output change the same way as these exchanges**.\n",
        "\n",
        "If you are trying to model a per-atom quantity like partial charge or chemical shift, this is obviously essential. If you change the order of atoms input, you would expect the order of their partial charges to similarly change.\n",
        "\n",
        "Often we want to model a **whole-molecule property (Graph-Level)**, like solubility or energy.\n",
        "\n",
        "This should be **invariant** to changing the order of the atoms. To make an equivariant model invariant, we use read-outs (defined below). See [`data`](https://dmol.pub/dl/data.html) for a  more detailed discussion of equivariance."
      ]
    },
    {
      "cell_type": "markdown",
      "metadata": {
        "id": "_sXQEpB8Dqb2"
      },
      "source": [
        "### A simple GNN\n",
        "\n",
        "We will often mention a GNN when we really mean a layer from a GNN. Most GNNs implement a specific layer that can deal with graphs, and so usually we are only concerned with this layer. Let's see an example of a simple layer for a GNN:\n",
        "\n",
        "\\begin{equation}\n",
        "f_k = \\sigma\\left( \\sum_i \\sum_j v_{ij}w_{jk}  \\right)\n",
        "\\end{equation}\n",
        "\n",
        "This equation shows that **we first multiply every node ($v_{ij}$) feature by trainable weights $w_{jk}$, sum over all node features, and then apply an activation.** This will yield a single feature vector for the graph.\n",
        "\n",
        "Is this equation permutation invariant? Yes, because the node index in our expression is index $i$ which can be re-ordered without affecting the output.\n",
        "\n",
        "Let's see an example that is similar, but not permutation invariant:\n",
        "\n",
        "\\begin{equation}\n",
        "f_k = \\sigma\\left( \\sum_i v_{ij}w_{ik}  \\right)\n",
        "\\end{equation}\n",
        "\n",
        "This is a small change. We have one weight vector per node now. This makes the trainable weights depend on the ordering of the nodes. Then if we swap the node ordering, our weights will no longer align. So if we were to input two methanol molecules, which should have the same output, but we switched two atom numbers, we would get different answers. These simple examples differ from real GNNs in two important ways: (i) they give a single feature vector output, which throws away per-node information, and (ii) they do not use the adjacency matrix. Let's see a real GNN that has these properties while maintaining permutation invariance --- or equivariance (swapping inputs swaps outputs the same way)."
      ]
    },
    {
      "cell_type": "markdown",
      "metadata": {
        "id": "cGsRhHYWDqb2"
      },
      "source": [
        "## Kipf & Welling GCN\n",
        "\n",
        "One of the first popular GNNs was the Kipf & Welling graph convolutional network (GCN) {cite}`kipf2016semi`. Although some people consider GCNs to be a broad class of GNNs, we'll use GCNs to refer specifically the Kipf & Welling GCN.\n",
        "Thomas Kipf has written an [excellent article introducing the GCN](https://tkipf.github.io/graph-convolutional-networks/).\n",
        "\n",
        "The input to a GCN layer is $\\mathbf{V}$, $\\mathbf{E}$ and it outputs an updated $\\mathbf{V}'$. Each node feature vector is updated. The way it updates a node feature vector is by averaging the feature vectors of its neighbors, as determined by $\\mathbf{E}$. The choice of averaging over neighbors is what makes a GCN layer permutation equivariant. Averaging over neighbors is not trainable, so we must add trainable parameters. We multiply the neighbor features by a trainable matrix before the averaging, which gives the GCN the ability to learn. In Einstein notation, this process is:\n",
        "\n",
        "$$\n",
        "v_{il} = \\sigma\\left(\\frac{1}{d_i}e_{ij}v_{jk}w_{kl}\\right)\n",
        "$$ (gcn)\n",
        "\n",
        "where $i$ is the node we're considering, $j$ is the neighbor index, $k$ is the node input feature, $l$ is the output node feature, $d_i$ is the degree of node i (which makes it an average instead of sum), $e_{ij}$ isolates neighbors so that all non-neighbor $v_{jk}$s are zero, $\\sigma$ is our activation, and $w_{lk}$ is the trainable weights. This equation is a mouthful, but it truly just is the average over neighbors with a trainable matrix thrown in. One common modification is to make all nodes neighbors of themselves. This is so that the output node features $v_{il}$ depends on the input features $v_{ik}$. We do not need to change our equation, just make the adjacency matrix have $1$s on the diagonal instead of $0$ by adding the identity matrix during pre-processing.\n",
        "\n",
        "Building understanding about the GCN is important for understanding other GNNs.\n",
        "\n",
        "**You can view the GCN layer as a way to \"communicate\" between a node and its neighbors. The output for node $i$ will depend only on its immediate neighbors.**\n",
        "\n",
        "For chemistry, this is not satisfactory.\n",
        "You can stack multiple layers though.\n",
        "\n",
        "**If you have two layers, the output for node $i$ will include information about node $i$'s neighbors' neighbors.**\n",
        "\n",
        "Another important detail to understand in GCNs is that the averaging procedure accomplishes two goals:\n",
        "- (i) it gives permutation equivariance by removing the effect of neighbor order\n",
        "\n",
        "- (ii) it prevents a change in magnitude in node features.\n",
        "\n",
        "\n",
        "A sum would accomplish (i) but would cause the magnitude of the node features to grow after each layer. Of course, you could ad-hoc put a batch normalization layer after each GCN layer to keep output magnitudes stable but averaging is easy."
      ]
    },
    {
      "cell_type": "markdown",
      "source": [
        "<figure>\n",
        "   <img src='https://dmol.pub/_images/gnn_11_0.png' alt=\"depiction of methanol as lewis dot structure\" width=400 />\n",
        "   <figcaption>\n",
        "   Intermediate step of the graph convolution layer. The 3D vectors are the node features and start as one-hot, so a [1.00, 0.00, 0.00] means hydrogen. The center node will be updated by averaging its neighbors features.\n",
        "   </figcaption>\n",
        "</figure>\n"
      ],
      "metadata": {
        "id": "r-FO2yngSnxb"
      }
    },
    {
      "cell_type": "markdown",
      "source": [
        "\n",
        "\n",
        "<figure>\n",
        "   <img src='https://dmol.pub/_images/gcn.gif' alt=\"animation of the graph convolution layer operation\" width=600 />\n",
        "   <figcaption>\n",
        "    Animation of the graph convolution layer operation. The left is input, right is output node features. Note that two layers are shown (see title change). As the animation plays out, you can see how the information about the atoms propagates through the molecule via the averaging over neigbhors. So the oxygen goes from being just an oxygen, to an oxygen bonded to C and H, to an oxygen bonded to an H and CH3. The colors just reflect the same information in the numerical values.\n",
        "   </figcaption>\n",
        "</figure>"
      ],
      "metadata": {
        "id": "51vvghe6TDk9"
      }
    },
    {
      "cell_type": "markdown",
      "metadata": {
        "id": "YCzOfYZ1Dqb4"
      },
      "source": [
        "### GCN Implementation\n",
        "\n",
        "Let's now create a tensor implementation of the GCN. We'll skip the activation and trainable weights for now.\n",
        "We must first compute our rank 2 adjacency matrix. The `smiles2graph` code above computes an adjacency tensor with feature vectors. We can fix that with a simple reduction and add the identity at the same time\n"
      ]
    },
    {
      "cell_type": "code",
      "execution_count": 13,
      "metadata": {
        "colab": {
          "base_uri": "https://localhost:8080/"
        },
        "id": "urEKY5qRDqb4",
        "outputId": "51321f36-007e-46fa-993b-e4578c270646"
      },
      "outputs": [
        {
          "output_type": "execute_result",
          "data": {
            "text/plain": [
              "array([[1., 1., 1., 1., 1., 0.],\n",
              "       [1., 1., 0., 0., 0., 1.],\n",
              "       [1., 0., 1., 0., 0., 0.],\n",
              "       [1., 0., 0., 1., 0., 0.],\n",
              "       [1., 0., 0., 0., 1., 0.],\n",
              "       [0., 1., 0., 0., 0., 1.]])"
            ]
          },
          "metadata": {},
          "execution_count": 13
        }
      ],
      "source": [
        "nodes, adj = smiles2graph(\"CO\")\n",
        "adj_mat = np.sum(adj, axis=-1) + np.eye(adj.shape[0])\n",
        "adj_mat"
      ]
    },
    {
      "cell_type": "markdown",
      "metadata": {
        "id": "Vmd7tftbDqb4"
      },
      "source": [
        "To compute degree of each node, we can do another reduction:"
      ]
    },
    {
      "cell_type": "code",
      "execution_count": 14,
      "metadata": {
        "colab": {
          "base_uri": "https://localhost:8080/"
        },
        "id": "tJWnLFz6Dqb4",
        "outputId": "77e048d4-01fc-4ecc-9d88-a843976a508f"
      },
      "outputs": [
        {
          "output_type": "execute_result",
          "data": {
            "text/plain": [
              "array([5., 3., 2., 2., 2., 2.])"
            ]
          },
          "metadata": {},
          "execution_count": 14
        }
      ],
      "source": [
        "degree = np.sum(adj_mat, axis=-1)\n",
        "degree"
      ]
    },
    {
      "cell_type": "markdown",
      "metadata": {
        "id": "tZCao_5nDqb4"
      },
      "source": [
        "Now we can put all these pieces together into the Einstein equation"
      ]
    },
    {
      "cell_type": "code",
      "execution_count": 15,
      "metadata": {
        "colab": {
          "base_uri": "https://localhost:8080/"
        },
        "id": "HcjW7Nl_Dqb5",
        "outputId": "2e0b6524-1b52-444d-b204-73224bc707aa"
      },
      "outputs": [
        {
          "output_type": "stream",
          "name": "stdout",
          "text": [
            "[1. 0. 0.]\n",
            "[0.2 0.2 0.6]\n"
          ]
        }
      ],
      "source": [
        "print(nodes[0])\n",
        "# note to divide by degree, make the input 1 / degree\n",
        "new_nodes = np.einsum(\"i,ij,jk->ik\", 1 / degree, adj_mat, nodes)\n",
        "print(new_nodes[0])"
      ]
    },
    {
      "cell_type": "markdown",
      "metadata": {
        "id": "vLAyZ6plDqb5"
      },
      "source": [
        "To now implement this as a layer in Keras, we must put this code above into a new Layer subclass. The code is relatively straightforward, but you can read-up on the function names and Layer class in [this tutorial](https://keras.io/guides/making_new_layers_and_models_via_subclassing/).\n",
        "\n",
        "The three main changes are that we create trainable parameters `self.w` and use them in the {obj}`tf.einsum`, we use an activation `self.activation`, and we output both our new node features and the adjacency matrix.\n",
        "\n",
        "The reason to output the adjacency matrix is so that we can stack multiple GCN layers without having to pass the adjacency matrix each time."
      ]
    },
    {
      "cell_type": "code",
      "execution_count": 16,
      "metadata": {
        "id": "mBULkpGZDqb5"
      },
      "outputs": [],
      "source": [
        "class GCNLayer(tf.keras.layers.Layer):\n",
        "    \"\"\"Implementation of GCN as layer\"\"\"\n",
        "\n",
        "    def __init__(self, activation=None, **kwargs):\n",
        "        # constructor, which just calls super constructor\n",
        "        # and turns requested activation into a callable function\n",
        "        super(GCNLayer, self).__init__(**kwargs)\n",
        "        self.activation = tf.keras.activations.get(activation)\n",
        "\n",
        "    def build(self, input_shape):\n",
        "        # create trainable weights\n",
        "        node_shape, adj_shape = input_shape\n",
        "        self.w = self.add_weight(shape=(node_shape[2], node_shape[2]), name=\"w\")\n",
        "\n",
        "    def call(self, inputs):\n",
        "        # split input into nodes, adj\n",
        "        nodes, adj = inputs\n",
        "        # compute degree\n",
        "        degree = tf.reduce_sum(adj, axis=-1)\n",
        "        # GCN equation\n",
        "        new_nodes = tf.einsum(\"bi,bij,bjk,kl->bil\", 1 / degree, adj, nodes, self.w)\n",
        "        out = self.activation(new_nodes)\n",
        "        return out, adj"
      ]
    },
    {
      "cell_type": "markdown",
      "metadata": {
        "id": "SV-TzixYDqb5"
      },
      "source": [
        "A lot of the code above is Keras/TF specific and getting the variables to the right place. There are really only two key lines here. The first is to compute the degree by summing over the columns of the adjacency matrix:\n",
        "\n",
        "```python\n",
        "degree = tf.reduce_sum(adj, axis=-1)\n",
        "```\n",
        "\n",
        "The second key line is to do the GCN equation {eq}`gcn` (without the activation)\n",
        "\n",
        "```python\n",
        "new_nodes = tf.einsum(\"bi,bij,bjk,kl->bil\", 1 / degree, adj, nodes, self.w)\n",
        "```\n",
        "\n",
        "We can now try our layer:"
      ]
    },
    {
      "cell_type": "code",
      "execution_count": 17,
      "metadata": {
        "colab": {
          "base_uri": "https://localhost:8080/"
        },
        "id": "7UIuCXHQDqb5",
        "outputId": "513445fa-2b09-44b4-b03e-4a81b0e0edc7"
      },
      "outputs": [
        {
          "output_type": "execute_result",
          "data": {
            "text/plain": [
              "(<tf.Tensor: shape=(1, 6, 3), dtype=float32, numpy=\n",
              " array([[[0.05163727, 0.12657475, 0.34411106],\n",
              "         [0.00952625, 0.12251227, 0.        ],\n",
              "         [0.        , 0.        , 0.09999692],\n",
              "         [0.        , 0.        , 0.09999692],\n",
              "         [0.        , 0.        , 0.09999692],\n",
              "         [0.16327226, 0.32437623, 0.26896775]]], dtype=float32)>,\n",
              " <tf.Tensor: shape=(1, 6, 6), dtype=float32, numpy=\n",
              " array([[[1., 1., 1., 1., 1., 0.],\n",
              "         [1., 1., 0., 0., 0., 1.],\n",
              "         [1., 0., 1., 0., 0., 0.],\n",
              "         [1., 0., 0., 1., 0., 0.],\n",
              "         [1., 0., 0., 0., 1., 0.],\n",
              "         [0., 1., 0., 0., 0., 1.]]], dtype=float32)>)"
            ]
          },
          "metadata": {},
          "execution_count": 17
        }
      ],
      "source": [
        "gcnlayer = GCNLayer(\"relu\")\n",
        "# we insert a batch axis here\n",
        "gcnlayer((nodes[np.newaxis, ...], adj_mat[np.newaxis, ...]))"
      ]
    },
    {
      "cell_type": "markdown",
      "metadata": {
        "id": "Jg6G-NPkDqb6"
      },
      "source": [
        "It outputs (1) the new node features and (2) the adjacency matrix. Let's make sure we can stack these and apply the GCN multiple times"
      ]
    },
    {
      "cell_type": "code",
      "execution_count": 18,
      "metadata": {
        "colab": {
          "base_uri": "https://localhost:8080/"
        },
        "id": "niYiiGXhDqb6",
        "outputId": "df176c52-e69d-4f4a-a5ee-5d6d2d0b6004"
      },
      "outputs": [
        {
          "output_type": "stream",
          "name": "stdout",
          "text": [
            "(<tf.Tensor: shape=(1, 6, 3), dtype=float32, numpy=\n",
            "array([[[0.02169251, 0.03936034, 0.09485521],\n",
            "        [0.04164504, 0.10472553, 0.0572543 ],\n",
            "        [0.03120009, 0.05486057, 0.16984622],\n",
            "        [0.03120009, 0.05486057, 0.16984622],\n",
            "        [0.03120009, 0.05486057, 0.16984622],\n",
            "        [0.03700748, 0.10886094, 0.        ]]], dtype=float32)>, <tf.Tensor: shape=(1, 6, 6), dtype=float32, numpy=\n",
            "array([[[1., 1., 1., 1., 1., 0.],\n",
            "        [1., 1., 0., 0., 0., 1.],\n",
            "        [1., 0., 1., 0., 0., 0.],\n",
            "        [1., 0., 0., 1., 0., 0.],\n",
            "        [1., 0., 0., 0., 1., 0.],\n",
            "        [0., 1., 0., 0., 0., 1.]]], dtype=float32)>)\n"
          ]
        }
      ],
      "source": [
        "x = (nodes[np.newaxis, ...], adj_mat[np.newaxis, ...])\n",
        "for i in range(2):\n",
        "    x = gcnlayer(x)\n",
        "print(x)"
      ]
    },
    {
      "cell_type": "markdown",
      "metadata": {
        "id": "8k5XiZH5Dqb6"
      },
      "source": [
        "It works! Why do we see zeros though? Probably because we had negative numbers that were removed by our ReLU activation. This will be solved by training and increasing our dimension number."
      ]
    },
    {
      "cell_type": "markdown",
      "metadata": {
        "id": "cPt8_igiDqb6"
      },
      "source": [
        "## Solubility Example\n",
        "\n",
        "We'll now revisit predicting solubility with GCNs.\n",
        "**Remember before that we used the features included with the dataset**.\n",
        "\n",
        "Now **we can use the molecular structures directly**.\n",
        "\n",
        "**Our GCN layer outputs node-level features. To predict solubility, we need to get a graph-level feature.**\n",
        "\n",
        "We'll see later how to be more sophisticated in this process, but for now let's just **take the average over all node features after our GCN layers.**\n",
        "\n",
        "**This is simple, permutation invariant, and gets us from node-level to graph level.**\n",
        "\n",
        "Here's an implementation of this :"
      ]
    },
    {
      "cell_type": "code",
      "execution_count": 19,
      "metadata": {
        "id": "wIZDnUYTDqb7"
      },
      "outputs": [],
      "source": [
        "class GRLayer(tf.keras.layers.Layer):\n",
        "    \"\"\"A GNN layer that computes average over all node features\"\"\"\n",
        "\n",
        "    def __init__(self, name=\"GRLayer\", **kwargs):\n",
        "        super(GRLayer, self).__init__(name=name, **kwargs)\n",
        "\n",
        "    def call(self, inputs):\n",
        "        nodes, adj = inputs\n",
        "        reduction = tf.reduce_mean(nodes, axis=1)\n",
        "        return reduction"
      ]
    },
    {
      "cell_type": "markdown",
      "metadata": {
        "id": "xLOL3kdDDqb7"
      },
      "source": [
        "The key line in that code is to just to compute the mean over the nodes (`axis=1`):\n",
        "\n",
        "```python\n",
        "reduction = tf.reduce_mean(nodes, axis=1)\n",
        "```\n",
        "\n",
        "\n",
        "To complete our deep solubility predictor, we can add some dense layers and make sure we have a single-output without activation since we're doing regression. Note this model is defined using the [Keras functional API](https://keras.io/guides/functional_api/) which is necessary when you have multiple inputs."
      ]
    },
    {
      "cell_type": "code",
      "execution_count": 22,
      "metadata": {
        "id": "_2UJXKH2Dqb7"
      },
      "outputs": [],
      "source": [
        "ninput = tf.keras.Input(\n",
        "    (\n",
        "        None,\n",
        "        100,\n",
        "    )\n",
        ")\n",
        "ainput = tf.keras.Input(\n",
        "    (\n",
        "        None,\n",
        "        None,\n",
        "    )\n",
        ")\n",
        "# GCN block\n",
        "x = GCNLayer(\"relu\")([ninput, ainput])\n",
        "x = GCNLayer(\"relu\")(x)\n",
        "x = GCNLayer(\"relu\")(x)\n",
        "x = GCNLayer(\"relu\")(x)\n",
        "\n",
        "# reduce to graph features - Global Pooling\n",
        "x = GRLayer()(x)\n",
        "# standard layers (the readout)\n",
        "x = tf.keras.layers.Dense(16, \"tanh\")(x)\n",
        "x = tf.keras.layers.Dense(1)(x)\n",
        "model = tf.keras.Model(inputs=(ninput, ainput), outputs=x)"
      ]
    },
    {
      "cell_type": "markdown",
      "metadata": {
        "id": "OTfq7dIpDqb7"
      },
      "source": [
        "**where does the 100 come from? Well, this dataset has lots of elements so we cannot use our size 3 one-hot encodings because we'll have more than 3 unique elements.**\n",
        "\n",
        "We previously only had C, H and O. This is a good time to update our `smiles2graph` function to deal with this."
      ]
    },
    {
      "cell_type": "code",
      "execution_count": 23,
      "metadata": {
        "tags": [
          "hidden-cell"
        ],
        "id": "fBbMHcWUDqb8"
      },
      "outputs": [],
      "source": [
        "def gen_smiles2graph(sml):\n",
        "    \"\"\"Argument for the RD2NX function should be a valid SMILES sequence\n",
        "    returns: the graph\n",
        "    \"\"\"\n",
        "    m = rdkit.Chem.MolFromSmiles(sml)\n",
        "    m = rdkit.Chem.AddHs(m)\n",
        "    order_string = {\n",
        "        rdkit.Chem.rdchem.BondType.SINGLE: 1,\n",
        "        rdkit.Chem.rdchem.BondType.DOUBLE: 2,\n",
        "        rdkit.Chem.rdchem.BondType.TRIPLE: 3,\n",
        "        rdkit.Chem.rdchem.BondType.AROMATIC: 4,\n",
        "    }\n",
        "    N = len(list(m.GetAtoms()))\n",
        "    nodes = np.zeros((N, 100))\n",
        "    for i in m.GetAtoms():\n",
        "        nodes[i.GetIdx(), i.GetAtomicNum()] = 1\n",
        "\n",
        "    adj = np.zeros((N, N))\n",
        "    for j in m.GetBonds():\n",
        "        u = min(j.GetBeginAtomIdx(), j.GetEndAtomIdx())\n",
        "        v = max(j.GetBeginAtomIdx(), j.GetEndAtomIdx())\n",
        "        order = j.GetBondType()\n",
        "        if order in order_string:\n",
        "            order = order_string[order]\n",
        "        else:\n",
        "            raise Warning(\"Ignoring bond order\" + order)\n",
        "        adj[u, v] = 1\n",
        "        adj[v, u] = 1\n",
        "    adj += np.eye(N)\n",
        "    return nodes, adj"
      ]
    },
    {
      "cell_type": "code",
      "execution_count": 24,
      "metadata": {
        "colab": {
          "base_uri": "https://localhost:8080/"
        },
        "id": "Zt4ttZ6tDqb8",
        "outputId": "f788f9b5-f77b-48bc-86a9-a5a24ff0c247"
      },
      "outputs": [
        {
          "output_type": "execute_result",
          "data": {
            "text/plain": [
              "<tf.Tensor: shape=(1, 1), dtype=float32, numpy=array([[-0.03079825]], dtype=float32)>"
            ]
          },
          "metadata": {},
          "execution_count": 24
        }
      ],
      "source": [
        "nodes, adj = gen_smiles2graph(\"CO\")\n",
        "model((nodes[np.newaxis], adj_mat[np.newaxis]))"
      ]
    },
    {
      "cell_type": "markdown",
      "metadata": {
        "id": "m_h5P9c9Dqb8"
      },
      "source": [
        "```{margin}\n",
        "We have switched from adjacency tensor to matrix only because a GCN cannot use edge features. Other architectures though can.\n",
        "```\n",
        "It outputs one number! That's always nice to have. Now we need to do some work to get a trainable dataset. Our dataset is a little bit complex because our features are tuples of tensors($\\mathbf{V}, \\mathbf{E}$) so that our dataset is a tuple of tuples: $\\left((\\mathbf{V}, \\mathbf{E}), y\\right)$. We use a **generator**, which is just a python function that can return multiple times. Our function returns once for every training example. Then we have to pass it to the `from_generator` {obj}`tf.data.Dataset` constructor which requires explicit declaration of the shapes of these examples."
      ]
    },
    {
      "cell_type": "code",
      "execution_count": 25,
      "metadata": {
        "id": "GxegebxUDqb8"
      },
      "outputs": [],
      "source": [
        "def example():\n",
        "    for i in range(len(soldata)):\n",
        "        graph = gen_smiles2graph(soldata.SMILES[i])\n",
        "        sol = soldata.Solubility[i]\n",
        "        yield graph, sol\n",
        "\n",
        "\n",
        "data = tf.data.Dataset.from_generator(\n",
        "    example,\n",
        "    output_types=((tf.float32, tf.float32), tf.float32),\n",
        "    output_shapes=(\n",
        "        (tf.TensorShape([None, 100]), tf.TensorShape([None, None])),\n",
        "        tf.TensorShape([]),\n",
        "    ),\n",
        ")"
      ]
    },
    {
      "cell_type": "markdown",
      "metadata": {
        "id": "43ZwPJR2Dqb9"
      },
      "source": [
        "Whew, that's a lot. Now we can do our usual splitting of the dataset."
      ]
    },
    {
      "cell_type": "code",
      "execution_count": 26,
      "metadata": {
        "id": "Lczq9tNhDqb9"
      },
      "outputs": [],
      "source": [
        "test_data = data.take(200)\n",
        "val_data = data.skip(200).take(200)\n",
        "train_data = data.skip(400)"
      ]
    },
    {
      "cell_type": "markdown",
      "metadata": {
        "id": "4f5vVTGFDqb9"
      },
      "source": [
        "And finally, time to train."
      ]
    },
    {
      "cell_type": "code",
      "execution_count": 27,
      "metadata": {
        "tags": [
          "remove-output"
        ],
        "colab": {
          "base_uri": "https://localhost:8080/"
        },
        "id": "TzZEq4PbDqb9",
        "outputId": "6559a822-0ea0-4e43-b77c-9f46c258b127"
      },
      "outputs": [
        {
          "output_type": "stream",
          "name": "stdout",
          "text": [
            "Epoch 1/10\n"
          ]
        },
        {
          "output_type": "stream",
          "name": "stderr",
          "text": [
            "[10:42:02] WARNING: not removing hydrogen atom without neighbors\n"
          ]
        },
        {
          "output_type": "stream",
          "name": "stdout",
          "text": [
            "     55/Unknown - 3s 12ms/step - loss: 5.8676"
          ]
        },
        {
          "output_type": "stream",
          "name": "stderr",
          "text": [
            "[10:42:03] WARNING: not removing hydrogen atom without neighbors\n",
            "[10:42:03] WARNING: not removing hydrogen atom without neighbors\n"
          ]
        },
        {
          "output_type": "stream",
          "name": "stdout",
          "text": [
            "    247/Unknown - 5s 12ms/step - loss: 3.0248"
          ]
        },
        {
          "output_type": "stream",
          "name": "stderr",
          "text": [
            "[10:42:05] WARNING: not removing hydrogen atom without neighbors\n"
          ]
        },
        {
          "output_type": "stream",
          "name": "stdout",
          "text": [
            "    312/Unknown - 6s 12ms/step - loss: 2.9083"
          ]
        },
        {
          "output_type": "stream",
          "name": "stderr",
          "text": [
            "[10:42:06] WARNING: not removing hydrogen atom without neighbors\n"
          ]
        },
        {
          "output_type": "stream",
          "name": "stdout",
          "text": [
            "    406/Unknown - 7s 13ms/step - loss: 2.5579"
          ]
        },
        {
          "output_type": "stream",
          "name": "stderr",
          "text": [
            "[10:42:08] WARNING: not removing hydrogen atom without neighbors\n"
          ]
        },
        {
          "output_type": "stream",
          "name": "stdout",
          "text": [
            "    469/Unknown - 8s 13ms/step - loss: 2.6059"
          ]
        },
        {
          "output_type": "stream",
          "name": "stderr",
          "text": [
            "[10:42:09] WARNING: not removing hydrogen atom without neighbors\n"
          ]
        },
        {
          "output_type": "stream",
          "name": "stdout",
          "text": [
            "    524/Unknown - 9s 13ms/step - loss: 2.5809"
          ]
        },
        {
          "output_type": "stream",
          "name": "stderr",
          "text": [
            "[10:42:09] WARNING: not removing hydrogen atom without neighbors\n",
            "[10:42:09] WARNING: not removing hydrogen atom without neighbors\n"
          ]
        },
        {
          "output_type": "stream",
          "name": "stdout",
          "text": [
            "    584/Unknown - 10s 13ms/step - loss: 2.4426"
          ]
        },
        {
          "output_type": "stream",
          "name": "stderr",
          "text": [
            "[10:42:10] WARNING: not removing hydrogen atom without neighbors\n",
            "[10:42:10] WARNING: not removing hydrogen atom without neighbors\n"
          ]
        },
        {
          "output_type": "stream",
          "name": "stdout",
          "text": [
            "    731/Unknown - 12s 13ms/step - loss: 2.5398"
          ]
        },
        {
          "output_type": "stream",
          "name": "stderr",
          "text": [
            "[10:42:12] WARNING: not removing hydrogen atom without neighbors\n"
          ]
        },
        {
          "output_type": "stream",
          "name": "stdout",
          "text": [
            "   1212/Unknown - 17s 12ms/step - loss: 2.6881"
          ]
        },
        {
          "output_type": "stream",
          "name": "stderr",
          "text": [
            "[10:42:17] WARNING: not removing hydrogen atom without neighbors\n",
            "[10:42:17] WARNING: not removing hydrogen atom without neighbors\n",
            "[10:42:17] WARNING: not removing hydrogen atom without neighbors\n",
            "[10:42:17] WARNING: not removing hydrogen atom without neighbors\n"
          ]
        },
        {
          "output_type": "stream",
          "name": "stdout",
          "text": [
            "   1295/Unknown - 17s 12ms/step - loss: 2.5755"
          ]
        },
        {
          "output_type": "stream",
          "name": "stderr",
          "text": [
            "[10:42:17] WARNING: not removing hydrogen atom without neighbors\n",
            "[10:42:18] WARNING: not removing hydrogen atom without neighbors\n"
          ]
        },
        {
          "output_type": "stream",
          "name": "stdout",
          "text": [
            "   1342/Unknown - 17s 11ms/step - loss: 3.6090"
          ]
        },
        {
          "output_type": "stream",
          "name": "stderr",
          "text": [
            "[10:42:18] WARNING: not removing hydrogen atom without neighbors\n",
            "[10:42:18] WARNING: not removing hydrogen atom without neighbors\n"
          ]
        },
        {
          "output_type": "stream",
          "name": "stdout",
          "text": [
            "   1392/Unknown - 18s 11ms/step - loss: 3.6537"
          ]
        },
        {
          "output_type": "stream",
          "name": "stderr",
          "text": [
            "[10:42:18] WARNING: not removing hydrogen atom without neighbors\n"
          ]
        },
        {
          "output_type": "stream",
          "name": "stdout",
          "text": [
            "   1438/Unknown - 18s 11ms/step - loss: 3.5758"
          ]
        },
        {
          "output_type": "stream",
          "name": "stderr",
          "text": [
            "[10:42:18] WARNING: not removing hydrogen atom without neighbors\n"
          ]
        },
        {
          "output_type": "stream",
          "name": "stdout",
          "text": [
            "   1574/Unknown - 19s 11ms/step - loss: 3.5348"
          ]
        },
        {
          "output_type": "stream",
          "name": "stderr",
          "text": [
            "[10:42:19] WARNING: not removing hydrogen atom without neighbors\n"
          ]
        },
        {
          "output_type": "stream",
          "name": "stdout",
          "text": [
            "   1596/Unknown - 19s 11ms/step - loss: 3.5053"
          ]
        },
        {
          "output_type": "stream",
          "name": "stderr",
          "text": [
            "[10:42:20] WARNING: not removing hydrogen atom without neighbors\n"
          ]
        },
        {
          "output_type": "stream",
          "name": "stdout",
          "text": [
            "   1632/Unknown - 20s 11ms/step - loss: 3.4427"
          ]
        },
        {
          "output_type": "stream",
          "name": "stderr",
          "text": [
            "[10:42:20] WARNING: not removing hydrogen atom without neighbors\n"
          ]
        },
        {
          "output_type": "stream",
          "name": "stdout",
          "text": [
            "   1711/Unknown - 20s 11ms/step - loss: 3.3224"
          ]
        },
        {
          "output_type": "stream",
          "name": "stderr",
          "text": [
            "[10:42:21] WARNING: not removing hydrogen atom without neighbors\n",
            "[10:42:21] WARNING: not removing hydrogen atom without neighbors\n"
          ]
        },
        {
          "output_type": "stream",
          "name": "stdout",
          "text": [
            "   1825/Unknown - 21s 10ms/step - loss: 3.1600"
          ]
        },
        {
          "output_type": "stream",
          "name": "stderr",
          "text": [
            "[10:42:22] WARNING: not removing hydrogen atom without neighbors\n",
            "[10:42:22] WARNING: not removing hydrogen atom without neighbors\n",
            "[10:42:22] WARNING: not removing hydrogen atom without neighbors\n",
            "[10:42:22] WARNING: not removing hydrogen atom without neighbors\n",
            "[10:42:22] WARNING: not removing hydrogen atom without neighbors\n"
          ]
        },
        {
          "output_type": "stream",
          "name": "stdout",
          "text": [
            "   1859/Unknown - 21s 10ms/step - loss: 3.1212"
          ]
        },
        {
          "output_type": "stream",
          "name": "stderr",
          "text": [
            "[10:42:22] WARNING: not removing hydrogen atom without neighbors\n"
          ]
        },
        {
          "output_type": "stream",
          "name": "stdout",
          "text": [
            "   1929/Unknown - 22s 10ms/step - loss: 3.0388"
          ]
        },
        {
          "output_type": "stream",
          "name": "stderr",
          "text": [
            "[10:42:22] WARNING: not removing hydrogen atom without neighbors\n",
            "[10:42:22] WARNING: not removing hydrogen atom without neighbors\n"
          ]
        },
        {
          "output_type": "stream",
          "name": "stdout",
          "text": [
            "   2063/Unknown - 23s 10ms/step - loss: 2.8970"
          ]
        },
        {
          "output_type": "stream",
          "name": "stderr",
          "text": [
            "[10:42:23] WARNING: not removing hydrogen atom without neighbors\n",
            "[10:42:23] WARNING: not removing hydrogen atom without neighbors\n",
            "[10:42:23] WARNING: not removing hydrogen atom without neighbors\n",
            "[10:42:23] WARNING: not removing hydrogen atom without neighbors\n"
          ]
        },
        {
          "output_type": "stream",
          "name": "stdout",
          "text": [
            "   2204/Unknown - 23s 10ms/step - loss: 2.7795"
          ]
        },
        {
          "output_type": "stream",
          "name": "stderr",
          "text": [
            "[10:42:24] WARNING: not removing hydrogen atom without neighbors\n",
            "[10:42:24] WARNING: not removing hydrogen atom without neighbors\n",
            "[10:42:24] WARNING: not removing hydrogen atom without neighbors\n"
          ]
        },
        {
          "output_type": "stream",
          "name": "stdout",
          "text": [
            "   2320/Unknown - 24s 9ms/step - loss: 2.6661"
          ]
        },
        {
          "output_type": "stream",
          "name": "stderr",
          "text": [
            "[10:42:24] WARNING: not removing hydrogen atom without neighbors\n"
          ]
        },
        {
          "output_type": "stream",
          "name": "stdout",
          "text": [
            "   2384/Unknown - 24s 9ms/step - loss: 2.6325"
          ]
        },
        {
          "output_type": "stream",
          "name": "stderr",
          "text": [
            "[10:42:25] WARNING: not removing hydrogen atom without neighbors\n"
          ]
        },
        {
          "output_type": "stream",
          "name": "stdout",
          "text": [
            "   2606/Unknown - 26s 9ms/step - loss: 2.4612"
          ]
        },
        {
          "output_type": "stream",
          "name": "stderr",
          "text": [
            "[10:42:26] WARNING: not removing hydrogen atom without neighbors\n",
            "[10:42:26] WARNING: not removing hydrogen atom without neighbors\n"
          ]
        },
        {
          "output_type": "stream",
          "name": "stdout",
          "text": [
            "   2759/Unknown - 27s 9ms/step - loss: 2.5958"
          ]
        },
        {
          "output_type": "stream",
          "name": "stderr",
          "text": [
            "[10:42:27] WARNING: not removing hydrogen atom without neighbors\n",
            "[10:42:27] WARNING: not removing hydrogen atom without neighbors\n"
          ]
        },
        {
          "output_type": "stream",
          "name": "stdout",
          "text": [
            "   2798/Unknown - 27s 9ms/step - loss: 2.5672"
          ]
        },
        {
          "output_type": "stream",
          "name": "stderr",
          "text": [
            "[10:42:27] WARNING: not removing hydrogen atom without neighbors\n",
            "[10:42:27] WARNING: not removing hydrogen atom without neighbors\n"
          ]
        },
        {
          "output_type": "stream",
          "name": "stdout",
          "text": [
            "   2906/Unknown - 27s 9ms/step - loss: 2.5489"
          ]
        },
        {
          "output_type": "stream",
          "name": "stderr",
          "text": [
            "[10:42:28] WARNING: not removing hydrogen atom without neighbors\n",
            "[10:42:28] WARNING: not removing hydrogen atom without neighbors\n",
            "[10:42:28] WARNING: not removing hydrogen atom without neighbors\n"
          ]
        },
        {
          "output_type": "stream",
          "name": "stdout",
          "text": [
            "   3253/Unknown - 30s 8ms/step - loss: 2.5092"
          ]
        },
        {
          "output_type": "stream",
          "name": "stderr",
          "text": [
            "[10:42:30] WARNING: not removing hydrogen atom without neighbors\n"
          ]
        },
        {
          "output_type": "stream",
          "name": "stdout",
          "text": [
            "   3284/Unknown - 30s 8ms/step - loss: 2.7444"
          ]
        },
        {
          "output_type": "stream",
          "name": "stderr",
          "text": [
            "[10:42:30] WARNING: not removing hydrogen atom without neighbors\n"
          ]
        },
        {
          "output_type": "stream",
          "name": "stdout",
          "text": [
            "   3365/Unknown - 30s 8ms/step - loss: 2.8936"
          ]
        },
        {
          "output_type": "stream",
          "name": "stderr",
          "text": [
            "[10:42:31] WARNING: not removing hydrogen atom without neighbors\n"
          ]
        },
        {
          "output_type": "stream",
          "name": "stdout",
          "text": [
            "   3773/Unknown - 34s 8ms/step - loss: 2.9400"
          ]
        },
        {
          "output_type": "stream",
          "name": "stderr",
          "text": [
            "[10:42:34] WARNING: not removing hydrogen atom without neighbors\n",
            "[10:42:34] WARNING: not removing hydrogen atom without neighbors\n",
            "[10:42:34] WARNING: not removing hydrogen atom without neighbors\n"
          ]
        },
        {
          "output_type": "stream",
          "name": "stdout",
          "text": [
            "   4024/Unknown - 35s 8ms/step - loss: 2.9678"
          ]
        },
        {
          "output_type": "stream",
          "name": "stderr",
          "text": [
            "[10:42:36] WARNING: not removing hydrogen atom without neighbors\n"
          ]
        },
        {
          "output_type": "stream",
          "name": "stdout",
          "text": [
            "   4558/Unknown - 38s 8ms/step - loss: 2.9317"
          ]
        },
        {
          "output_type": "stream",
          "name": "stderr",
          "text": [
            "[10:42:39] WARNING: not removing hydrogen atom without neighbors\n"
          ]
        },
        {
          "output_type": "stream",
          "name": "stdout",
          "text": [
            "   5086/Unknown - 41s 8ms/step - loss: 2.8412"
          ]
        },
        {
          "output_type": "stream",
          "name": "stderr",
          "text": [
            "[10:42:42] WARNING: not removing hydrogen atom without neighbors\n"
          ]
        },
        {
          "output_type": "stream",
          "name": "stdout",
          "text": [
            "   5359/Unknown - 43s 8ms/step - loss: 2.8112"
          ]
        },
        {
          "output_type": "stream",
          "name": "stderr",
          "text": [
            "[10:42:43] WARNING: not removing hydrogen atom without neighbors\n"
          ]
        },
        {
          "output_type": "stream",
          "name": "stdout",
          "text": [
            "   5834/Unknown - 47s 8ms/step - loss: 2.8112"
          ]
        },
        {
          "output_type": "stream",
          "name": "stderr",
          "text": [
            "[10:42:47] WARNING: not removing hydrogen atom without neighbors\n",
            "[10:42:47] WARNING: not removing hydrogen atom without neighbors\n"
          ]
        },
        {
          "output_type": "stream",
          "name": "stdout",
          "text": [
            "   9577/Unknown - 69s 7ms/step - loss: 2.4043"
          ]
        },
        {
          "output_type": "stream",
          "name": "stderr",
          "text": [
            "[10:43:11] WARNING: not removing hydrogen atom without neighbors\n"
          ]
        },
        {
          "output_type": "stream",
          "name": "stdout",
          "text": [
            "\b\b\b\b\b\b\b\b\b\b\b\b\b\b\b\b\b\b\b\b\b\b\b\b\b\b\b\b\b\b\b\b\b\b\b\b\b\b\b\b\b\b\b\b\b\r9582/9582 [==============================] - 72s 7ms/step - loss: 2.4034 - val_loss: 2.9778\n",
            "Epoch 2/10\n",
            "  10/9582 [..............................] - ETA: 54s - loss: 3.3482    "
          ]
        },
        {
          "output_type": "stream",
          "name": "stderr",
          "text": [
            "[10:43:24] WARNING: not removing hydrogen atom without neighbors\n"
          ]
        },
        {
          "output_type": "stream",
          "name": "stdout",
          "text": [
            "  76/9582 [..............................] - ETA: 55s - loss: 2.4384"
          ]
        },
        {
          "output_type": "stream",
          "name": "stderr",
          "text": [
            "[10:43:25] WARNING: not removing hydrogen atom without neighbors\n",
            "[10:43:25] WARNING: not removing hydrogen atom without neighbors\n"
          ]
        },
        {
          "output_type": "stream",
          "name": "stdout",
          "text": [
            " 265/9582 [..............................] - ETA: 54s - loss: 2.3141"
          ]
        },
        {
          "output_type": "stream",
          "name": "stderr",
          "text": [
            "[10:43:26] WARNING: not removing hydrogen atom without neighbors\n"
          ]
        },
        {
          "output_type": "stream",
          "name": "stdout",
          "text": [
            " 327/9582 [>.............................] - ETA: 53s - loss: 2.2459"
          ]
        },
        {
          "output_type": "stream",
          "name": "stderr",
          "text": [
            "[10:43:26] WARNING: not removing hydrogen atom without neighbors\n"
          ]
        },
        {
          "output_type": "stream",
          "name": "stdout",
          "text": [
            " 432/9582 [>.............................] - ETA: 52s - loss: 2.1247"
          ]
        },
        {
          "output_type": "stream",
          "name": "stderr",
          "text": [
            "[10:43:27] WARNING: not removing hydrogen atom without neighbors\n"
          ]
        },
        {
          "output_type": "stream",
          "name": "stdout",
          "text": [
            " 484/9582 [>.............................] - ETA: 52s - loss: 2.1372"
          ]
        },
        {
          "output_type": "stream",
          "name": "stderr",
          "text": [
            "[10:43:27] WARNING: not removing hydrogen atom without neighbors\n"
          ]
        },
        {
          "output_type": "stream",
          "name": "stdout",
          "text": [
            " 537/9582 [>.............................] - ETA: 52s - loss: 2.1220"
          ]
        },
        {
          "output_type": "stream",
          "name": "stderr",
          "text": [
            "[10:43:27] WARNING: not removing hydrogen atom without neighbors\n",
            "[10:43:27] WARNING: not removing hydrogen atom without neighbors\n"
          ]
        },
        {
          "output_type": "stream",
          "name": "stdout",
          "text": [
            " 602/9582 [>.............................] - ETA: 51s - loss: 2.0632"
          ]
        },
        {
          "output_type": "stream",
          "name": "stderr",
          "text": [
            "[10:43:28] WARNING: not removing hydrogen atom without neighbors\n",
            "[10:43:28] WARNING: not removing hydrogen atom without neighbors\n"
          ]
        },
        {
          "output_type": "stream",
          "name": "stdout",
          "text": [
            " 750/9582 [=>............................] - ETA: 50s - loss: 2.2217"
          ]
        },
        {
          "output_type": "stream",
          "name": "stderr",
          "text": [
            "[10:43:29] WARNING: not removing hydrogen atom without neighbors\n"
          ]
        },
        {
          "output_type": "stream",
          "name": "stdout",
          "text": [
            "1206/9582 [==>...........................] - ETA: 51s - loss: 2.2366"
          ]
        },
        {
          "output_type": "stream",
          "name": "stderr",
          "text": [
            "[10:43:32] WARNING: not removing hydrogen atom without neighbors\n",
            "[10:43:32] WARNING: not removing hydrogen atom without neighbors\n",
            "[10:43:32] WARNING: not removing hydrogen atom without neighbors\n",
            "[10:43:32] WARNING: not removing hydrogen atom without neighbors\n"
          ]
        },
        {
          "output_type": "stream",
          "name": "stdout",
          "text": [
            "1290/9582 [===>..........................] - ETA: 52s - loss: 2.1175"
          ]
        },
        {
          "output_type": "stream",
          "name": "stderr",
          "text": [
            "[10:43:32] WARNING: not removing hydrogen atom without neighbors\n",
            "[10:43:33] WARNING: not removing hydrogen atom without neighbors\n"
          ]
        },
        {
          "output_type": "stream",
          "name": "stdout",
          "text": [
            "1340/9582 [===>..........................] - ETA: 51s - loss: 2.6295"
          ]
        },
        {
          "output_type": "stream",
          "name": "stderr",
          "text": [
            "[10:43:33] WARNING: not removing hydrogen atom without neighbors\n",
            "[10:43:33] WARNING: not removing hydrogen atom without neighbors\n"
          ]
        },
        {
          "output_type": "stream",
          "name": "stdout",
          "text": [
            "1397/9582 [===>..........................] - ETA: 51s - loss: 2.6061"
          ]
        },
        {
          "output_type": "stream",
          "name": "stderr",
          "text": [
            "[10:43:33] WARNING: not removing hydrogen atom without neighbors\n"
          ]
        },
        {
          "output_type": "stream",
          "name": "stdout",
          "text": [
            "1434/9582 [===>..........................] - ETA: 51s - loss: 2.5690"
          ]
        },
        {
          "output_type": "stream",
          "name": "stderr",
          "text": [
            "[10:43:33] WARNING: not removing hydrogen atom without neighbors\n"
          ]
        },
        {
          "output_type": "stream",
          "name": "stdout",
          "text": [
            "1576/9582 [===>..........................] - ETA: 52s - loss: 2.5543"
          ]
        },
        {
          "output_type": "stream",
          "name": "stderr",
          "text": [
            "[10:43:35] WARNING: not removing hydrogen atom without neighbors\n"
          ]
        },
        {
          "output_type": "stream",
          "name": "stdout",
          "text": [
            "1599/9582 [====>.........................] - ETA: 52s - loss: 2.5312"
          ]
        },
        {
          "output_type": "stream",
          "name": "stderr",
          "text": [
            "[10:43:35] WARNING: not removing hydrogen atom without neighbors\n"
          ]
        },
        {
          "output_type": "stream",
          "name": "stdout",
          "text": [
            "1629/9582 [====>.........................] - ETA: 53s - loss: 2.4947"
          ]
        },
        {
          "output_type": "stream",
          "name": "stderr",
          "text": [
            "[10:43:35] WARNING: not removing hydrogen atom without neighbors\n"
          ]
        },
        {
          "output_type": "stream",
          "name": "stdout",
          "text": [
            "1711/9582 [====>.........................] - ETA: 53s - loss: 2.4237"
          ]
        },
        {
          "output_type": "stream",
          "name": "stderr",
          "text": [
            "[10:43:36] WARNING: not removing hydrogen atom without neighbors\n",
            "[10:43:36] WARNING: not removing hydrogen atom without neighbors\n"
          ]
        },
        {
          "output_type": "stream",
          "name": "stdout",
          "text": [
            "1824/9582 [====>.........................] - ETA: 52s - loss: 2.3186"
          ]
        },
        {
          "output_type": "stream",
          "name": "stderr",
          "text": [
            "[10:43:37] WARNING: not removing hydrogen atom without neighbors\n",
            "[10:43:37] WARNING: not removing hydrogen atom without neighbors\n",
            "[10:43:37] WARNING: not removing hydrogen atom without neighbors\n",
            "[10:43:37] WARNING: not removing hydrogen atom without neighbors\n"
          ]
        },
        {
          "output_type": "stream",
          "name": "stdout",
          "text": [
            "1861/9582 [====>.........................] - ETA: 51s - loss: 2.2933"
          ]
        },
        {
          "output_type": "stream",
          "name": "stderr",
          "text": [
            "[10:43:37] WARNING: not removing hydrogen atom without neighbors\n",
            "[10:43:37] WARNING: not removing hydrogen atom without neighbors\n"
          ]
        },
        {
          "output_type": "stream",
          "name": "stdout",
          "text": [
            "1924/9582 [=====>........................] - ETA: 51s - loss: 2.2477"
          ]
        },
        {
          "output_type": "stream",
          "name": "stderr",
          "text": [
            "[10:43:37] WARNING: not removing hydrogen atom without neighbors\n",
            "[10:43:37] WARNING: not removing hydrogen atom without neighbors\n"
          ]
        },
        {
          "output_type": "stream",
          "name": "stdout",
          "text": [
            "2067/9582 [=====>........................] - ETA: 49s - loss: 2.1444"
          ]
        },
        {
          "output_type": "stream",
          "name": "stderr",
          "text": [
            "[10:43:38] WARNING: not removing hydrogen atom without neighbors\n",
            "[10:43:38] WARNING: not removing hydrogen atom without neighbors\n",
            "[10:43:38] WARNING: not removing hydrogen atom without neighbors\n",
            "[10:43:38] WARNING: not removing hydrogen atom without neighbors\n"
          ]
        },
        {
          "output_type": "stream",
          "name": "stdout",
          "text": [
            "2208/9582 [=====>........................] - ETA: 48s - loss: 2.0713"
          ]
        },
        {
          "output_type": "stream",
          "name": "stderr",
          "text": [
            "[10:43:39] WARNING: not removing hydrogen atom without neighbors\n",
            "[10:43:39] WARNING: not removing hydrogen atom without neighbors\n",
            "[10:43:39] WARNING: not removing hydrogen atom without neighbors\n"
          ]
        },
        {
          "output_type": "stream",
          "name": "stdout",
          "text": [
            "2323/9582 [======>.......................] - ETA: 47s - loss: 1.9970"
          ]
        },
        {
          "output_type": "stream",
          "name": "stderr",
          "text": [
            "[10:43:39] WARNING: not removing hydrogen atom without neighbors\n"
          ]
        },
        {
          "output_type": "stream",
          "name": "stdout",
          "text": [
            "2381/9582 [======>.......................] - ETA: 46s - loss: 2.0053"
          ]
        },
        {
          "output_type": "stream",
          "name": "stderr",
          "text": [
            "[10:43:40] WARNING: not removing hydrogen atom without neighbors\n"
          ]
        },
        {
          "output_type": "stream",
          "name": "stdout",
          "text": [
            "2608/9582 [=======>......................] - ETA: 44s - loss: 1.8795"
          ]
        },
        {
          "output_type": "stream",
          "name": "stderr",
          "text": [
            "[10:43:41] WARNING: not removing hydrogen atom without neighbors\n",
            "[10:43:41] WARNING: not removing hydrogen atom without neighbors\n"
          ]
        },
        {
          "output_type": "stream",
          "name": "stdout",
          "text": [
            "2760/9582 [=======>......................] - ETA: 43s - loss: 2.0313"
          ]
        },
        {
          "output_type": "stream",
          "name": "stderr",
          "text": [
            "[10:43:42] WARNING: not removing hydrogen atom without neighbors\n",
            "[10:43:42] WARNING: not removing hydrogen atom without neighbors\n"
          ]
        },
        {
          "output_type": "stream",
          "name": "stdout",
          "text": [
            "2806/9582 [=======>......................] - ETA: 43s - loss: 2.0071"
          ]
        },
        {
          "output_type": "stream",
          "name": "stderr",
          "text": [
            "[10:43:42] WARNING: not removing hydrogen atom without neighbors\n",
            "[10:43:42] WARNING: not removing hydrogen atom without neighbors\n"
          ]
        },
        {
          "output_type": "stream",
          "name": "stdout",
          "text": [
            "2909/9582 [========>.....................] - ETA: 42s - loss: 2.0155"
          ]
        },
        {
          "output_type": "stream",
          "name": "stderr",
          "text": [
            "[10:43:43] WARNING: not removing hydrogen atom without neighbors\n",
            "[10:43:43] WARNING: not removing hydrogen atom without neighbors\n",
            "[10:43:43] WARNING: not removing hydrogen atom without neighbors\n"
          ]
        },
        {
          "output_type": "stream",
          "name": "stdout",
          "text": [
            "3252/9582 [=========>....................] - ETA: 40s - loss: 1.9901"
          ]
        },
        {
          "output_type": "stream",
          "name": "stderr",
          "text": [
            "[10:43:45] WARNING: not removing hydrogen atom without neighbors\n",
            "[10:43:45] WARNING: not removing hydrogen atom without neighbors\n"
          ]
        },
        {
          "output_type": "stream",
          "name": "stdout",
          "text": [
            "3360/9582 [=========>....................] - ETA: 39s - loss: 2.2524"
          ]
        },
        {
          "output_type": "stream",
          "name": "stderr",
          "text": [
            "[10:43:46] WARNING: not removing hydrogen atom without neighbors\n"
          ]
        },
        {
          "output_type": "stream",
          "name": "stdout",
          "text": [
            "3784/9582 [==========>...................] - ETA: 37s - loss: 2.2780"
          ]
        },
        {
          "output_type": "stream",
          "name": "stderr",
          "text": [
            "[10:43:49] WARNING: not removing hydrogen atom without neighbors\n",
            "[10:43:49] WARNING: not removing hydrogen atom without neighbors\n",
            "[10:43:49] WARNING: not removing hydrogen atom without neighbors\n"
          ]
        },
        {
          "output_type": "stream",
          "name": "stdout",
          "text": [
            "4030/9582 [===========>..................] - ETA: 35s - loss: 2.2891"
          ]
        },
        {
          "output_type": "stream",
          "name": "stderr",
          "text": [
            "[10:43:50] WARNING: not removing hydrogen atom without neighbors\n"
          ]
        },
        {
          "output_type": "stream",
          "name": "stdout",
          "text": [
            "4537/9582 [=============>................] - ETA: 32s - loss: 2.2752"
          ]
        },
        {
          "output_type": "stream",
          "name": "stderr",
          "text": [
            "[10:43:53] WARNING: not removing hydrogen atom without neighbors\n"
          ]
        },
        {
          "output_type": "stream",
          "name": "stdout",
          "text": [
            "5086/9582 [==============>...............] - ETA: 28s - loss: 2.2001"
          ]
        },
        {
          "output_type": "stream",
          "name": "stderr",
          "text": [
            "[10:43:56] WARNING: not removing hydrogen atom without neighbors\n"
          ]
        },
        {
          "output_type": "stream",
          "name": "stdout",
          "text": [
            "5361/9582 [===============>..............] - ETA: 26s - loss: 2.1834"
          ]
        },
        {
          "output_type": "stream",
          "name": "stderr",
          "text": [
            "[10:43:58] WARNING: not removing hydrogen atom without neighbors\n"
          ]
        },
        {
          "output_type": "stream",
          "name": "stdout",
          "text": [
            "5830/9582 [=================>............] - ETA: 24s - loss: 2.1652"
          ]
        },
        {
          "output_type": "stream",
          "name": "stderr",
          "text": [
            "[10:44:02] WARNING: not removing hydrogen atom without neighbors\n",
            "[10:44:02] WARNING: not removing hydrogen atom without neighbors\n"
          ]
        },
        {
          "output_type": "stream",
          "name": "stdout",
          "text": [
            "9580/9582 [============================>.] - ETA: 0s - loss: 1.9411"
          ]
        },
        {
          "output_type": "stream",
          "name": "stderr",
          "text": [
            "[10:44:26] WARNING: not removing hydrogen atom without neighbors\n"
          ]
        },
        {
          "output_type": "stream",
          "name": "stdout",
          "text": [
            "\b\b\b\b\b\b\b\b\b\b\b\b\b\b\b\b\b\b\b\b\b\b\b\b\b\b\b\b\b\b\b\b\b\b\b\b\b\b\b\b\b\b\b\b\b\b\b\b\b\b\b\b\b\b\b\b\b\b\b\b\b\b\b\b\b\b\b\r9582/9582 [==============================] - 63s 7ms/step - loss: 1.9408 - val_loss: 2.4718\n",
            "Epoch 3/10\n",
            "  10/9582 [..............................] - ETA: 59s - loss: 2.3173    "
          ]
        },
        {
          "output_type": "stream",
          "name": "stderr",
          "text": [
            "[10:44:46] WARNING: not removing hydrogen atom without neighbors\n"
          ]
        },
        {
          "output_type": "stream",
          "name": "stdout",
          "text": [
            "  66/9582 [..............................] - ETA: 1:01 - loss: 2.1150"
          ]
        },
        {
          "output_type": "stream",
          "name": "stderr",
          "text": [
            "[10:44:47] WARNING: not removing hydrogen atom without neighbors\n",
            "[10:44:47] WARNING: not removing hydrogen atom without neighbors\n"
          ]
        },
        {
          "output_type": "stream",
          "name": "stdout",
          "text": [
            " 271/9582 [..............................] - ETA: 54s - loss: 1.7960"
          ]
        },
        {
          "output_type": "stream",
          "name": "stderr",
          "text": [
            "[10:44:48] WARNING: not removing hydrogen atom without neighbors\n"
          ]
        },
        {
          "output_type": "stream",
          "name": "stdout",
          "text": [
            " 316/9582 [..............................] - ETA: 55s - loss: 1.8094"
          ]
        },
        {
          "output_type": "stream",
          "name": "stderr",
          "text": [
            "[10:44:48] WARNING: not removing hydrogen atom without neighbors\n"
          ]
        },
        {
          "output_type": "stream",
          "name": "stdout",
          "text": [
            " 414/9582 [>.............................] - ETA: 1:03 - loss: 1.7309"
          ]
        },
        {
          "output_type": "stream",
          "name": "stderr",
          "text": [
            "[10:44:49] WARNING: not removing hydrogen atom without neighbors\n"
          ]
        },
        {
          "output_type": "stream",
          "name": "stdout",
          "text": [
            " 471/9582 [>.............................] - ETA: 1:07 - loss: 1.8510"
          ]
        },
        {
          "output_type": "stream",
          "name": "stderr",
          "text": [
            "[10:44:50] WARNING: not removing hydrogen atom without neighbors\n"
          ]
        },
        {
          "output_type": "stream",
          "name": "stdout",
          "text": [
            " 527/9582 [>.............................] - ETA: 1:09 - loss: 1.8435"
          ]
        },
        {
          "output_type": "stream",
          "name": "stderr",
          "text": [
            "[10:44:50] WARNING: not removing hydrogen atom without neighbors\n",
            "[10:44:50] WARNING: not removing hydrogen atom without neighbors\n"
          ]
        },
        {
          "output_type": "stream",
          "name": "stdout",
          "text": [
            " 598/9582 [>.............................] - ETA: 1:09 - loss: 1.7795"
          ]
        },
        {
          "output_type": "stream",
          "name": "stderr",
          "text": [
            "[10:44:51] WARNING: not removing hydrogen atom without neighbors\n",
            "[10:44:51] WARNING: not removing hydrogen atom without neighbors\n"
          ]
        },
        {
          "output_type": "stream",
          "name": "stdout",
          "text": [
            " 752/9582 [=>............................] - ETA: 1:04 - loss: 1.9605"
          ]
        },
        {
          "output_type": "stream",
          "name": "stderr",
          "text": [
            "[10:44:52] WARNING: not removing hydrogen atom without neighbors\n"
          ]
        },
        {
          "output_type": "stream",
          "name": "stdout",
          "text": [
            "1208/9582 [==>...........................] - ETA: 59s - loss: 1.9863"
          ]
        },
        {
          "output_type": "stream",
          "name": "stderr",
          "text": [
            "[10:44:55] WARNING: not removing hydrogen atom without neighbors\n",
            "[10:44:55] WARNING: not removing hydrogen atom without neighbors\n",
            "[10:44:55] WARNING: not removing hydrogen atom without neighbors\n",
            "[10:44:55] WARNING: not removing hydrogen atom without neighbors\n"
          ]
        },
        {
          "output_type": "stream",
          "name": "stdout",
          "text": [
            "1296/9582 [===>..........................] - ETA: 59s - loss: 1.8888"
          ]
        },
        {
          "output_type": "stream",
          "name": "stderr",
          "text": [
            "[10:44:55] WARNING: not removing hydrogen atom without neighbors\n",
            "[10:44:56] WARNING: not removing hydrogen atom without neighbors\n"
          ]
        },
        {
          "output_type": "stream",
          "name": "stdout",
          "text": [
            "1346/9582 [===>..........................] - ETA: 58s - loss: 2.2472"
          ]
        },
        {
          "output_type": "stream",
          "name": "stderr",
          "text": [
            "[10:44:56] WARNING: not removing hydrogen atom without neighbors\n",
            "[10:44:56] WARNING: not removing hydrogen atom without neighbors\n"
          ]
        },
        {
          "output_type": "stream",
          "name": "stdout",
          "text": [
            "1393/9582 [===>..........................] - ETA: 57s - loss: 2.2149"
          ]
        },
        {
          "output_type": "stream",
          "name": "stderr",
          "text": [
            "[10:44:56] WARNING: not removing hydrogen atom without neighbors\n"
          ]
        },
        {
          "output_type": "stream",
          "name": "stdout",
          "text": [
            "1437/9582 [===>..........................] - ETA: 57s - loss: 2.1806"
          ]
        },
        {
          "output_type": "stream",
          "name": "stderr",
          "text": [
            "[10:44:56] WARNING: not removing hydrogen atom without neighbors\n"
          ]
        },
        {
          "output_type": "stream",
          "name": "stdout",
          "text": [
            "1582/9582 [===>..........................] - ETA: 54s - loss: 2.1622"
          ]
        },
        {
          "output_type": "stream",
          "name": "stderr",
          "text": [
            "[10:44:57] WARNING: not removing hydrogen atom without neighbors\n",
            "[10:44:57] WARNING: not removing hydrogen atom without neighbors\n"
          ]
        },
        {
          "output_type": "stream",
          "name": "stdout",
          "text": [
            "1645/9582 [====>.........................] - ETA: 54s - loss: 2.1167"
          ]
        },
        {
          "output_type": "stream",
          "name": "stderr",
          "text": [
            "[10:44:57] WARNING: not removing hydrogen atom without neighbors\n"
          ]
        },
        {
          "output_type": "stream",
          "name": "stdout",
          "text": [
            "1726/9582 [====>.........................] - ETA: 52s - loss: 2.0653"
          ]
        },
        {
          "output_type": "stream",
          "name": "stderr",
          "text": [
            "[10:44:58] WARNING: not removing hydrogen atom without neighbors\n",
            "[10:44:58] WARNING: not removing hydrogen atom without neighbors\n"
          ]
        },
        {
          "output_type": "stream",
          "name": "stdout",
          "text": [
            "1820/9582 [====>.........................] - ETA: 51s - loss: 2.0185"
          ]
        },
        {
          "output_type": "stream",
          "name": "stderr",
          "text": [
            "[10:44:58] WARNING: not removing hydrogen atom without neighbors\n",
            "[10:44:58] WARNING: not removing hydrogen atom without neighbors\n",
            "[10:44:58] WARNING: not removing hydrogen atom without neighbors\n",
            "[10:44:59] WARNING: not removing hydrogen atom without neighbors\n"
          ]
        },
        {
          "output_type": "stream",
          "name": "stdout",
          "text": [
            "1858/9582 [====>.........................] - ETA: 51s - loss: 1.9946"
          ]
        },
        {
          "output_type": "stream",
          "name": "stderr",
          "text": [
            "[10:44:59] WARNING: not removing hydrogen atom without neighbors\n",
            "[10:44:59] WARNING: not removing hydrogen atom without neighbors\n"
          ]
        },
        {
          "output_type": "stream",
          "name": "stdout",
          "text": [
            "1921/9582 [=====>........................] - ETA: 50s - loss: 1.9586"
          ]
        },
        {
          "output_type": "stream",
          "name": "stderr",
          "text": [
            "[10:44:59] WARNING: not removing hydrogen atom without neighbors\n",
            "[10:44:59] WARNING: not removing hydrogen atom without neighbors\n"
          ]
        },
        {
          "output_type": "stream",
          "name": "stdout",
          "text": [
            "2057/9582 [=====>........................] - ETA: 49s - loss: 1.8868"
          ]
        },
        {
          "output_type": "stream",
          "name": "stderr",
          "text": [
            "[10:45:00] WARNING: not removing hydrogen atom without neighbors\n",
            "[10:45:00] WARNING: not removing hydrogen atom without neighbors\n",
            "[10:45:00] WARNING: not removing hydrogen atom without neighbors\n",
            "[10:45:00] WARNING: not removing hydrogen atom without neighbors\n"
          ]
        },
        {
          "output_type": "stream",
          "name": "stdout",
          "text": [
            "2211/9582 [=====>........................] - ETA: 47s - loss: 1.8279"
          ]
        },
        {
          "output_type": "stream",
          "name": "stderr",
          "text": [
            "[10:45:01] WARNING: not removing hydrogen atom without neighbors\n",
            "[10:45:01] WARNING: not removing hydrogen atom without neighbors\n",
            "[10:45:01] WARNING: not removing hydrogen atom without neighbors\n"
          ]
        },
        {
          "output_type": "stream",
          "name": "stdout",
          "text": [
            "2303/9582 [======>.......................] - ETA: 47s - loss: 1.7807"
          ]
        },
        {
          "output_type": "stream",
          "name": "stderr",
          "text": [
            "[10:45:01] WARNING: not removing hydrogen atom without neighbors\n"
          ]
        },
        {
          "output_type": "stream",
          "name": "stdout",
          "text": [
            "2372/9582 [======>.......................] - ETA: 47s - loss: 1.7865"
          ]
        },
        {
          "output_type": "stream",
          "name": "stderr",
          "text": [
            "[10:45:02] WARNING: not removing hydrogen atom without neighbors\n"
          ]
        },
        {
          "output_type": "stream",
          "name": "stdout",
          "text": [
            "2590/9582 [=======>......................] - ETA: 48s - loss: 1.6897"
          ]
        },
        {
          "output_type": "stream",
          "name": "stderr",
          "text": [
            "[10:45:04] WARNING: not removing hydrogen atom without neighbors\n"
          ]
        },
        {
          "output_type": "stream",
          "name": "stdout",
          "text": [
            "2610/9582 [=======>......................] - ETA: 48s - loss: 1.6860"
          ]
        },
        {
          "output_type": "stream",
          "name": "stderr",
          "text": [
            "[10:45:04] WARNING: not removing hydrogen atom without neighbors\n"
          ]
        },
        {
          "output_type": "stream",
          "name": "stdout",
          "text": [
            "2754/9582 [=======>......................] - ETA: 48s - loss: 1.8208"
          ]
        },
        {
          "output_type": "stream",
          "name": "stderr",
          "text": [
            "[10:45:06] WARNING: not removing hydrogen atom without neighbors\n",
            "[10:45:06] WARNING: not removing hydrogen atom without neighbors\n"
          ]
        },
        {
          "output_type": "stream",
          "name": "stdout",
          "text": [
            "2790/9582 [=======>......................] - ETA: 48s - loss: 1.8056"
          ]
        },
        {
          "output_type": "stream",
          "name": "stderr",
          "text": [
            "[10:45:06] WARNING: not removing hydrogen atom without neighbors\n",
            "[10:45:06] WARNING: not removing hydrogen atom without neighbors\n"
          ]
        },
        {
          "output_type": "stream",
          "name": "stdout",
          "text": [
            "2907/9582 [========>.....................] - ETA: 47s - loss: 1.8104"
          ]
        },
        {
          "output_type": "stream",
          "name": "stderr",
          "text": [
            "[10:45:07] WARNING: not removing hydrogen atom without neighbors\n",
            "[10:45:07] WARNING: not removing hydrogen atom without neighbors\n",
            "[10:45:07] WARNING: not removing hydrogen atom without neighbors\n"
          ]
        },
        {
          "output_type": "stream",
          "name": "stdout",
          "text": [
            "3254/9582 [=========>....................] - ETA: 44s - loss: 1.8172"
          ]
        },
        {
          "output_type": "stream",
          "name": "stderr",
          "text": [
            "[10:45:09] WARNING: not removing hydrogen atom without neighbors\n",
            "[10:45:10] WARNING: not removing hydrogen atom without neighbors\n"
          ]
        },
        {
          "output_type": "stream",
          "name": "stdout",
          "text": [
            "3358/9582 [=========>....................] - ETA: 44s - loss: 2.0096"
          ]
        },
        {
          "output_type": "stream",
          "name": "stderr",
          "text": [
            "[10:45:10] WARNING: not removing hydrogen atom without neighbors\n"
          ]
        },
        {
          "output_type": "stream",
          "name": "stdout",
          "text": [
            "3780/9582 [==========>...................] - ETA: 39s - loss: 2.0312"
          ]
        },
        {
          "output_type": "stream",
          "name": "stderr",
          "text": [
            "[10:45:12] WARNING: not removing hydrogen atom without neighbors\n",
            "[10:45:12] WARNING: not removing hydrogen atom without neighbors\n",
            "[10:45:12] WARNING: not removing hydrogen atom without neighbors\n"
          ]
        },
        {
          "output_type": "stream",
          "name": "stdout",
          "text": [
            "4021/9582 [===========>..................] - ETA: 37s - loss: 2.0413"
          ]
        },
        {
          "output_type": "stream",
          "name": "stderr",
          "text": [
            "[10:45:14] WARNING: not removing hydrogen atom without neighbors\n"
          ]
        },
        {
          "output_type": "stream",
          "name": "stdout",
          "text": [
            "4562/9582 [=============>................] - ETA: 34s - loss: 2.0294"
          ]
        },
        {
          "output_type": "stream",
          "name": "stderr",
          "text": [
            "[10:45:18] WARNING: not removing hydrogen atom without neighbors\n"
          ]
        },
        {
          "output_type": "stream",
          "name": "stdout",
          "text": [
            "5088/9582 [==============>...............] - ETA: 30s - loss: 1.9634"
          ]
        },
        {
          "output_type": "stream",
          "name": "stderr",
          "text": [
            "[10:45:20] WARNING: not removing hydrogen atom without neighbors\n"
          ]
        },
        {
          "output_type": "stream",
          "name": "stdout",
          "text": [
            "5356/9582 [===============>..............] - ETA: 28s - loss: 1.9513"
          ]
        },
        {
          "output_type": "stream",
          "name": "stderr",
          "text": [
            "[10:45:22] WARNING: not removing hydrogen atom without neighbors\n"
          ]
        },
        {
          "output_type": "stream",
          "name": "stdout",
          "text": [
            "5834/9582 [=================>............] - ETA: 24s - loss: 1.9350"
          ]
        },
        {
          "output_type": "stream",
          "name": "stderr",
          "text": [
            "[10:45:25] WARNING: not removing hydrogen atom without neighbors\n",
            "[10:45:25] WARNING: not removing hydrogen atom without neighbors\n"
          ]
        },
        {
          "output_type": "stream",
          "name": "stdout",
          "text": [
            "9578/9582 [============================>.] - ETA: 0s - loss: 1.7710"
          ]
        },
        {
          "output_type": "stream",
          "name": "stderr",
          "text": [
            "[10:45:49] WARNING: not removing hydrogen atom without neighbors\n"
          ]
        },
        {
          "output_type": "stream",
          "name": "stdout",
          "text": [
            "\b\b\b\b\b\b\b\b\b\b\b\b\b\b\b\b\b\b\b\b\b\b\b\b\b\b\b\b\b\b\b\b\b\b\b\b\b\b\b\b\b\b\b\b\b\b\b\b\b\b\b\b\b\b\b\b\b\b\b\b\b\b\b\b\b\b\b\r9582/9582 [==============================] - 64s 7ms/step - loss: 1.7707 - val_loss: 2.4650\n",
            "Epoch 4/10\n",
            "   8/9582 [..............................] - ETA: 1:10 - loss: 1.7521   "
          ]
        },
        {
          "output_type": "stream",
          "name": "stderr",
          "text": [
            "[10:46:08] WARNING: not removing hydrogen atom without neighbors\n"
          ]
        },
        {
          "output_type": "stream",
          "name": "stdout",
          "text": [
            "  65/9582 [..............................] - ETA: 1:03 - loss: 1.9971"
          ]
        },
        {
          "output_type": "stream",
          "name": "stderr",
          "text": [
            "[10:46:09] WARNING: not removing hydrogen atom without neighbors\n",
            "[10:46:09] WARNING: not removing hydrogen atom without neighbors\n"
          ]
        },
        {
          "output_type": "stream",
          "name": "stdout",
          "text": [
            " 266/9582 [..............................] - ETA: 56s - loss: 1.6967"
          ]
        },
        {
          "output_type": "stream",
          "name": "stderr",
          "text": [
            "[10:46:10] WARNING: not removing hydrogen atom without neighbors\n"
          ]
        },
        {
          "output_type": "stream",
          "name": "stdout",
          "text": [
            " 331/9582 [>.............................] - ETA: 55s - loss: 1.6741"
          ]
        },
        {
          "output_type": "stream",
          "name": "stderr",
          "text": [
            "[10:46:10] WARNING: not removing hydrogen atom without neighbors\n"
          ]
        },
        {
          "output_type": "stream",
          "name": "stdout",
          "text": [
            " 432/9582 [>.............................] - ETA: 53s - loss: 1.6453"
          ]
        },
        {
          "output_type": "stream",
          "name": "stderr",
          "text": [
            "[10:46:11] WARNING: not removing hydrogen atom without neighbors\n"
          ]
        },
        {
          "output_type": "stream",
          "name": "stdout",
          "text": [
            " 484/9582 [>.............................] - ETA: 53s - loss: 1.7006"
          ]
        },
        {
          "output_type": "stream",
          "name": "stderr",
          "text": [
            "[10:46:11] WARNING: not removing hydrogen atom without neighbors\n"
          ]
        },
        {
          "output_type": "stream",
          "name": "stdout",
          "text": [
            " 539/9582 [>.............................] - ETA: 53s - loss: 1.6737"
          ]
        },
        {
          "output_type": "stream",
          "name": "stderr",
          "text": [
            "[10:46:11] WARNING: not removing hydrogen atom without neighbors\n",
            "[10:46:11] WARNING: not removing hydrogen atom without neighbors\n"
          ]
        },
        {
          "output_type": "stream",
          "name": "stdout",
          "text": [
            " 599/9582 [>.............................] - ETA: 53s - loss: 1.6555"
          ]
        },
        {
          "output_type": "stream",
          "name": "stderr",
          "text": [
            "[10:46:12] WARNING: not removing hydrogen atom without neighbors\n",
            "[10:46:12] WARNING: not removing hydrogen atom without neighbors\n"
          ]
        },
        {
          "output_type": "stream",
          "name": "stdout",
          "text": [
            " 756/9582 [=>............................] - ETA: 51s - loss: 1.8386"
          ]
        },
        {
          "output_type": "stream",
          "name": "stderr",
          "text": [
            "[10:46:13] WARNING: not removing hydrogen atom without neighbors\n"
          ]
        },
        {
          "output_type": "stream",
          "name": "stdout",
          "text": [
            "1198/9582 [==>...........................] - ETA: 54s - loss: 1.8809"
          ]
        },
        {
          "output_type": "stream",
          "name": "stderr",
          "text": [
            "[10:46:16] WARNING: not removing hydrogen atom without neighbors\n",
            "[10:46:16] WARNING: not removing hydrogen atom without neighbors\n",
            "[10:46:16] WARNING: not removing hydrogen atom without neighbors\n",
            "[10:46:16] WARNING: not removing hydrogen atom without neighbors\n"
          ]
        },
        {
          "output_type": "stream",
          "name": "stdout",
          "text": [
            "1285/9582 [===>..........................] - ETA: 58s - loss: 1.7850"
          ]
        },
        {
          "output_type": "stream",
          "name": "stderr",
          "text": [
            "[10:46:17] WARNING: not removing hydrogen atom without neighbors\n"
          ]
        },
        {
          "output_type": "stream",
          "name": "stdout",
          "text": [
            "1313/9582 [===>..........................] - ETA: 59s - loss: 2.0120"
          ]
        },
        {
          "output_type": "stream",
          "name": "stderr",
          "text": [
            "[10:46:18] WARNING: not removing hydrogen atom without neighbors\n",
            "[10:46:18] WARNING: not removing hydrogen atom without neighbors\n"
          ]
        },
        {
          "output_type": "stream",
          "name": "stdout",
          "text": [
            "1340/9582 [===>..........................] - ETA: 59s - loss: 2.0577"
          ]
        },
        {
          "output_type": "stream",
          "name": "stderr",
          "text": [
            "[10:46:18] WARNING: not removing hydrogen atom without neighbors\n"
          ]
        },
        {
          "output_type": "stream",
          "name": "stdout",
          "text": [
            "1395/9582 [===>..........................] - ETA: 59s - loss: 2.0514"
          ]
        },
        {
          "output_type": "stream",
          "name": "stderr",
          "text": [
            "[10:46:18] WARNING: not removing hydrogen atom without neighbors\n"
          ]
        },
        {
          "output_type": "stream",
          "name": "stdout",
          "text": [
            "1438/9582 [===>..........................] - ETA: 59s - loss: 2.0337"
          ]
        },
        {
          "output_type": "stream",
          "name": "stderr",
          "text": [
            "[10:46:19] WARNING: not removing hydrogen atom without neighbors\n"
          ]
        },
        {
          "output_type": "stream",
          "name": "stdout",
          "text": [
            "1590/9582 [===>..........................] - ETA: 56s - loss: 2.0111"
          ]
        },
        {
          "output_type": "stream",
          "name": "stderr",
          "text": [
            "[10:46:19] WARNING: not removing hydrogen atom without neighbors\n",
            "[10:46:20] WARNING: not removing hydrogen atom without neighbors\n"
          ]
        },
        {
          "output_type": "stream",
          "name": "stdout",
          "text": [
            "1638/9582 [====>.........................] - ETA: 55s - loss: 1.9864"
          ]
        },
        {
          "output_type": "stream",
          "name": "stderr",
          "text": [
            "[10:46:20] WARNING: not removing hydrogen atom without neighbors\n"
          ]
        },
        {
          "output_type": "stream",
          "name": "stdout",
          "text": [
            "1726/9582 [====>.........................] - ETA: 54s - loss: 1.9486"
          ]
        },
        {
          "output_type": "stream",
          "name": "stderr",
          "text": [
            "[10:46:20] WARNING: not removing hydrogen atom without neighbors\n",
            "[10:46:20] WARNING: not removing hydrogen atom without neighbors\n"
          ]
        },
        {
          "output_type": "stream",
          "name": "stdout",
          "text": [
            "1823/9582 [====>.........................] - ETA: 53s - loss: 1.9124"
          ]
        },
        {
          "output_type": "stream",
          "name": "stderr",
          "text": [
            "[10:46:21] WARNING: not removing hydrogen atom without neighbors\n",
            "[10:46:21] WARNING: not removing hydrogen atom without neighbors\n",
            "[10:46:21] WARNING: not removing hydrogen atom without neighbors\n",
            "[10:46:21] WARNING: not removing hydrogen atom without neighbors\n"
          ]
        },
        {
          "output_type": "stream",
          "name": "stdout",
          "text": [
            "1859/9582 [====>.........................] - ETA: 52s - loss: 1.8976"
          ]
        },
        {
          "output_type": "stream",
          "name": "stderr",
          "text": [
            "[10:46:21] WARNING: not removing hydrogen atom without neighbors\n",
            "[10:46:21] WARNING: not removing hydrogen atom without neighbors\n"
          ]
        },
        {
          "output_type": "stream",
          "name": "stdout",
          "text": [
            "1919/9582 [=====>........................] - ETA: 52s - loss: 1.8681"
          ]
        },
        {
          "output_type": "stream",
          "name": "stderr",
          "text": [
            "[10:46:21] WARNING: not removing hydrogen atom without neighbors\n",
            "[10:46:21] WARNING: not removing hydrogen atom without neighbors\n"
          ]
        },
        {
          "output_type": "stream",
          "name": "stdout",
          "text": [
            "2062/9582 [=====>........................] - ETA: 50s - loss: 1.7971"
          ]
        },
        {
          "output_type": "stream",
          "name": "stderr",
          "text": [
            "[10:46:22] WARNING: not removing hydrogen atom without neighbors\n",
            "[10:46:22] WARNING: not removing hydrogen atom without neighbors\n",
            "[10:46:22] WARNING: not removing hydrogen atom without neighbors\n",
            "[10:46:22] WARNING: not removing hydrogen atom without neighbors\n"
          ]
        },
        {
          "output_type": "stream",
          "name": "stdout",
          "text": [
            "2208/9582 [=====>........................] - ETA: 49s - loss: 1.7419"
          ]
        },
        {
          "output_type": "stream",
          "name": "stderr",
          "text": [
            "[10:46:23] WARNING: not removing hydrogen atom without neighbors\n",
            "[10:46:23] WARNING: not removing hydrogen atom without neighbors\n",
            "[10:46:23] WARNING: not removing hydrogen atom without neighbors\n"
          ]
        },
        {
          "output_type": "stream",
          "name": "stdout",
          "text": [
            "2321/9582 [======>.......................] - ETA: 48s - loss: 1.6989"
          ]
        },
        {
          "output_type": "stream",
          "name": "stderr",
          "text": [
            "[10:46:24] WARNING: not removing hydrogen atom without neighbors\n"
          ]
        },
        {
          "output_type": "stream",
          "name": "stdout",
          "text": [
            "2384/9582 [======>.......................] - ETA: 47s - loss: 1.7052"
          ]
        },
        {
          "output_type": "stream",
          "name": "stderr",
          "text": [
            "[10:46:24] WARNING: not removing hydrogen atom without neighbors\n"
          ]
        },
        {
          "output_type": "stream",
          "name": "stdout",
          "text": [
            "2600/9582 [=======>......................] - ETA: 45s - loss: 1.6155"
          ]
        },
        {
          "output_type": "stream",
          "name": "stderr",
          "text": [
            "[10:46:25] WARNING: not removing hydrogen atom without neighbors\n",
            "[10:46:25] WARNING: not removing hydrogen atom without neighbors\n"
          ]
        },
        {
          "output_type": "stream",
          "name": "stdout",
          "text": [
            "2768/9582 [=======>......................] - ETA: 44s - loss: 1.7017"
          ]
        },
        {
          "output_type": "stream",
          "name": "stderr",
          "text": [
            "[10:46:26] WARNING: not removing hydrogen atom without neighbors\n",
            "[10:46:26] WARNING: not removing hydrogen atom without neighbors\n"
          ]
        },
        {
          "output_type": "stream",
          "name": "stdout",
          "text": [
            "2798/9582 [=======>......................] - ETA: 44s - loss: 1.6957"
          ]
        },
        {
          "output_type": "stream",
          "name": "stderr",
          "text": [
            "[10:46:26] WARNING: not removing hydrogen atom without neighbors\n",
            "[10:46:26] WARNING: not removing hydrogen atom without neighbors\n"
          ]
        },
        {
          "output_type": "stream",
          "name": "stdout",
          "text": [
            "2913/9582 [========>.....................] - ETA: 43s - loss: 1.7067"
          ]
        },
        {
          "output_type": "stream",
          "name": "stderr",
          "text": [
            "[10:46:27] WARNING: not removing hydrogen atom without neighbors\n",
            "[10:46:27] WARNING: not removing hydrogen atom without neighbors\n",
            "[10:46:27] WARNING: not removing hydrogen atom without neighbors\n"
          ]
        },
        {
          "output_type": "stream",
          "name": "stdout",
          "text": [
            "3241/9582 [=========>....................] - ETA: 42s - loss: 1.7335"
          ]
        },
        {
          "output_type": "stream",
          "name": "stderr",
          "text": [
            "[10:46:30] WARNING: not removing hydrogen atom without neighbors\n"
          ]
        },
        {
          "output_type": "stream",
          "name": "stdout",
          "text": [
            "3271/9582 [=========>....................] - ETA: 42s - loss: 1.8645"
          ]
        },
        {
          "output_type": "stream",
          "name": "stderr",
          "text": [
            "[10:46:30] WARNING: not removing hydrogen atom without neighbors\n"
          ]
        },
        {
          "output_type": "stream",
          "name": "stdout",
          "text": [
            "3347/9582 [=========>....................] - ETA: 42s - loss: 1.9141"
          ]
        },
        {
          "output_type": "stream",
          "name": "stderr",
          "text": [
            "[10:46:31] WARNING: not removing hydrogen atom without neighbors\n"
          ]
        },
        {
          "output_type": "stream",
          "name": "stdout",
          "text": [
            "3784/9582 [==========>...................] - ETA: 38s - loss: 1.9443"
          ]
        },
        {
          "output_type": "stream",
          "name": "stderr",
          "text": [
            "[10:46:33] WARNING: not removing hydrogen atom without neighbors\n",
            "[10:46:34] WARNING: not removing hydrogen atom without neighbors\n",
            "[10:46:34] WARNING: not removing hydrogen atom without neighbors\n"
          ]
        },
        {
          "output_type": "stream",
          "name": "stdout",
          "text": [
            "4018/9582 [===========>..................] - ETA: 36s - loss: 1.9513"
          ]
        },
        {
          "output_type": "stream",
          "name": "stderr",
          "text": [
            "[10:46:35] WARNING: not removing hydrogen atom without neighbors\n"
          ]
        },
        {
          "output_type": "stream",
          "name": "stdout",
          "text": [
            "4557/9582 [=============>................] - ETA: 32s - loss: 1.9328"
          ]
        },
        {
          "output_type": "stream",
          "name": "stderr",
          "text": [
            "[10:46:38] WARNING: not removing hydrogen atom without neighbors\n"
          ]
        },
        {
          "output_type": "stream",
          "name": "stdout",
          "text": [
            "5082/9582 [==============>...............] - ETA: 28s - loss: 1.8693"
          ]
        },
        {
          "output_type": "stream",
          "name": "stderr",
          "text": [
            "[10:46:41] WARNING: not removing hydrogen atom without neighbors\n"
          ]
        },
        {
          "output_type": "stream",
          "name": "stdout",
          "text": [
            "5347/9582 [===============>..............] - ETA: 27s - loss: 1.8610"
          ]
        },
        {
          "output_type": "stream",
          "name": "stderr",
          "text": [
            "[10:46:43] WARNING: not removing hydrogen atom without neighbors\n"
          ]
        },
        {
          "output_type": "stream",
          "name": "stdout",
          "text": [
            "5829/9582 [=================>............] - ETA: 24s - loss: 1.8501"
          ]
        },
        {
          "output_type": "stream",
          "name": "stderr",
          "text": [
            "[10:46:46] WARNING: not removing hydrogen atom without neighbors\n",
            "[10:46:46] WARNING: not removing hydrogen atom without neighbors\n"
          ]
        },
        {
          "output_type": "stream",
          "name": "stdout",
          "text": [
            "9577/9582 [============================>.] - ETA: 0s - loss: 1.6985"
          ]
        },
        {
          "output_type": "stream",
          "name": "stderr",
          "text": [
            "[10:47:11] WARNING: not removing hydrogen atom without neighbors\n"
          ]
        },
        {
          "output_type": "stream",
          "name": "stdout",
          "text": [
            "\b\b\b\b\b\b\b\b\b\b\b\b\b\b\b\b\b\b\b\b\b\b\b\b\b\b\b\b\b\b\b\b\b\b\b\b\b\b\b\b\b\b\b\b\b\b\b\b\b\b\b\b\b\b\b\b\b\b\b\b\b\b\b\b\b\b\b\r9582/9582 [==============================] - 64s 7ms/step - loss: 1.6980 - val_loss: 2.3976\n",
            "Epoch 5/10\n",
            "  10/9582 [..............................] - ETA: 59s - loss: 2.3569    "
          ]
        },
        {
          "output_type": "stream",
          "name": "stderr",
          "text": [
            "[10:47:30] WARNING: not removing hydrogen atom without neighbors\n"
          ]
        },
        {
          "output_type": "stream",
          "name": "stdout",
          "text": [
            "  66/9582 [..............................] - ETA: 1:03 - loss: 2.1488"
          ]
        },
        {
          "output_type": "stream",
          "name": "stderr",
          "text": [
            "[10:47:30] WARNING: not removing hydrogen atom without neighbors\n",
            "[10:47:30] WARNING: not removing hydrogen atom without neighbors\n"
          ]
        },
        {
          "output_type": "stream",
          "name": "stdout",
          "text": [
            " 256/9582 [..............................] - ETA: 1:19 - loss: 1.6323"
          ]
        },
        {
          "output_type": "stream",
          "name": "stderr",
          "text": [
            "[10:47:32] WARNING: not removing hydrogen atom without neighbors\n"
          ]
        },
        {
          "output_type": "stream",
          "name": "stdout",
          "text": [
            " 315/9582 [..............................] - ETA: 1:22 - loss: 1.6611"
          ]
        },
        {
          "output_type": "stream",
          "name": "stderr",
          "text": [
            "[10:47:33] WARNING: not removing hydrogen atom without neighbors\n"
          ]
        },
        {
          "output_type": "stream",
          "name": "stdout",
          "text": [
            " 418/9582 [>.............................] - ETA: 1:23 - loss: 1.6257"
          ]
        },
        {
          "output_type": "stream",
          "name": "stderr",
          "text": [
            "[10:47:34] WARNING: not removing hydrogen atom without neighbors\n"
          ]
        },
        {
          "output_type": "stream",
          "name": "stdout",
          "text": [
            " 485/9582 [>.............................] - ETA: 1:19 - loss: 1.6882"
          ]
        },
        {
          "output_type": "stream",
          "name": "stderr",
          "text": [
            "[10:47:34] WARNING: not removing hydrogen atom without neighbors\n"
          ]
        },
        {
          "output_type": "stream",
          "name": "stdout",
          "text": [
            " 536/9582 [>.............................] - ETA: 1:16 - loss: 1.6691"
          ]
        },
        {
          "output_type": "stream",
          "name": "stderr",
          "text": [
            "[10:47:35] WARNING: not removing hydrogen atom without neighbors\n",
            "[10:47:35] WARNING: not removing hydrogen atom without neighbors\n"
          ]
        },
        {
          "output_type": "stream",
          "name": "stdout",
          "text": [
            " 601/9582 [>.............................] - ETA: 1:14 - loss: 1.6438"
          ]
        },
        {
          "output_type": "stream",
          "name": "stderr",
          "text": [
            "[10:47:35] WARNING: not removing hydrogen atom without neighbors\n",
            "[10:47:35] WARNING: not removing hydrogen atom without neighbors\n"
          ]
        },
        {
          "output_type": "stream",
          "name": "stdout",
          "text": [
            " 744/9582 [=>............................] - ETA: 1:09 - loss: 1.7740"
          ]
        },
        {
          "output_type": "stream",
          "name": "stderr",
          "text": [
            "[10:47:36] WARNING: not removing hydrogen atom without neighbors\n"
          ]
        },
        {
          "output_type": "stream",
          "name": "stdout",
          "text": [
            "1205/9582 [==>...........................] - ETA: 1:04 - loss: 1.8469"
          ]
        },
        {
          "output_type": "stream",
          "name": "stderr",
          "text": [
            "[10:47:39] WARNING: not removing hydrogen atom without neighbors\n",
            "[10:47:39] WARNING: not removing hydrogen atom without neighbors\n",
            "[10:47:39] WARNING: not removing hydrogen atom without neighbors\n",
            "[10:47:39] WARNING: not removing hydrogen atom without neighbors\n"
          ]
        },
        {
          "output_type": "stream",
          "name": "stdout",
          "text": [
            "1294/9582 [===>..........................] - ETA: 1:04 - loss: 1.7545"
          ]
        },
        {
          "output_type": "stream",
          "name": "stderr",
          "text": [
            "[10:47:40] WARNING: not removing hydrogen atom without neighbors\n"
          ]
        },
        {
          "output_type": "stream",
          "name": "stdout",
          "text": [
            "1334/9582 [===>..........................] - ETA: 1:03 - loss: 2.0208"
          ]
        },
        {
          "output_type": "stream",
          "name": "stderr",
          "text": [
            "[10:47:40] WARNING: not removing hydrogen atom without neighbors\n",
            "[10:47:40] WARNING: not removing hydrogen atom without neighbors\n",
            "[10:47:40] WARNING: not removing hydrogen atom without neighbors\n"
          ]
        },
        {
          "output_type": "stream",
          "name": "stdout",
          "text": [
            "1398/9582 [===>..........................] - ETA: 1:02 - loss: 2.0085"
          ]
        },
        {
          "output_type": "stream",
          "name": "stderr",
          "text": [
            "[10:47:41] WARNING: not removing hydrogen atom without neighbors\n"
          ]
        },
        {
          "output_type": "stream",
          "name": "stdout",
          "text": [
            "1435/9582 [===>..........................] - ETA: 1:02 - loss: 1.9928"
          ]
        },
        {
          "output_type": "stream",
          "name": "stderr",
          "text": [
            "[10:47:41] WARNING: not removing hydrogen atom without neighbors\n"
          ]
        },
        {
          "output_type": "stream",
          "name": "stdout",
          "text": [
            "1586/9582 [===>..........................] - ETA: 59s - loss: 1.9906 "
          ]
        },
        {
          "output_type": "stream",
          "name": "stderr",
          "text": [
            "[10:47:42] WARNING: not removing hydrogen atom without neighbors\n",
            "[10:47:42] WARNING: not removing hydrogen atom without neighbors\n"
          ]
        },
        {
          "output_type": "stream",
          "name": "stdout",
          "text": [
            "1640/9582 [====>.........................] - ETA: 59s - loss: 1.9673"
          ]
        },
        {
          "output_type": "stream",
          "name": "stderr",
          "text": [
            "[10:47:42] WARNING: not removing hydrogen atom without neighbors\n"
          ]
        },
        {
          "output_type": "stream",
          "name": "stdout",
          "text": [
            "1723/9582 [====>.........................] - ETA: 57s - loss: 1.9314"
          ]
        },
        {
          "output_type": "stream",
          "name": "stderr",
          "text": [
            "[10:47:43] WARNING: not removing hydrogen atom without neighbors\n",
            "[10:47:43] WARNING: not removing hydrogen atom without neighbors\n"
          ]
        },
        {
          "output_type": "stream",
          "name": "stdout",
          "text": [
            "1817/9582 [====>.........................] - ETA: 56s - loss: 1.8941"
          ]
        },
        {
          "output_type": "stream",
          "name": "stderr",
          "text": [
            "[10:47:43] WARNING: not removing hydrogen atom without neighbors\n",
            "[10:47:43] WARNING: not removing hydrogen atom without neighbors\n",
            "[10:47:43] WARNING: not removing hydrogen atom without neighbors\n",
            "[10:47:43] WARNING: not removing hydrogen atom without neighbors\n"
          ]
        },
        {
          "output_type": "stream",
          "name": "stdout",
          "text": [
            "1857/9582 [====>.........................] - ETA: 56s - loss: 1.8731"
          ]
        },
        {
          "output_type": "stream",
          "name": "stderr",
          "text": [
            "[10:47:44] WARNING: not removing hydrogen atom without neighbors\n",
            "[10:47:44] WARNING: not removing hydrogen atom without neighbors\n"
          ]
        },
        {
          "output_type": "stream",
          "name": "stdout",
          "text": [
            "1908/9582 [====>.........................] - ETA: 56s - loss: 1.8420"
          ]
        },
        {
          "output_type": "stream",
          "name": "stderr",
          "text": [
            "[10:47:44] WARNING: not removing hydrogen atom without neighbors\n"
          ]
        },
        {
          "output_type": "stream",
          "name": "stdout",
          "text": [
            "1934/9582 [=====>........................] - ETA: 56s - loss: 1.8375"
          ]
        },
        {
          "output_type": "stream",
          "name": "stderr",
          "text": [
            "[10:47:44] WARNING: not removing hydrogen atom without neighbors\n"
          ]
        },
        {
          "output_type": "stream",
          "name": "stdout",
          "text": [
            "2050/9582 [=====>........................] - ETA: 56s - loss: 1.7842"
          ]
        },
        {
          "output_type": "stream",
          "name": "stderr",
          "text": [
            "[10:47:45] WARNING: not removing hydrogen atom without neighbors\n",
            "[10:47:45] WARNING: not removing hydrogen atom without neighbors\n",
            "[10:47:46] WARNING: not removing hydrogen atom without neighbors\n"
          ]
        },
        {
          "output_type": "stream",
          "name": "stdout",
          "text": [
            "2071/9582 [=====>........................] - ETA: 56s - loss: 1.7740"
          ]
        },
        {
          "output_type": "stream",
          "name": "stderr",
          "text": [
            "[10:47:46] WARNING: not removing hydrogen atom without neighbors\n"
          ]
        },
        {
          "output_type": "stream",
          "name": "stdout",
          "text": [
            "2201/9582 [=====>........................] - ETA: 56s - loss: 1.7263"
          ]
        },
        {
          "output_type": "stream",
          "name": "stderr",
          "text": [
            "[10:47:47] WARNING: not removing hydrogen atom without neighbors\n",
            "[10:47:47] WARNING: not removing hydrogen atom without neighbors\n",
            "[10:47:47] WARNING: not removing hydrogen atom without neighbors\n"
          ]
        },
        {
          "output_type": "stream",
          "name": "stdout",
          "text": [
            "2313/9582 [======>.......................] - ETA: 55s - loss: 1.6907"
          ]
        },
        {
          "output_type": "stream",
          "name": "stderr",
          "text": [
            "[10:47:48] WARNING: not removing hydrogen atom without neighbors\n"
          ]
        },
        {
          "output_type": "stream",
          "name": "stdout",
          "text": [
            "2385/9582 [======>.......................] - ETA: 54s - loss: 1.6921"
          ]
        },
        {
          "output_type": "stream",
          "name": "stderr",
          "text": [
            "[10:47:48] WARNING: not removing hydrogen atom without neighbors\n"
          ]
        },
        {
          "output_type": "stream",
          "name": "stdout",
          "text": [
            "2602/9582 [=======>......................] - ETA: 51s - loss: 1.6047"
          ]
        },
        {
          "output_type": "stream",
          "name": "stderr",
          "text": [
            "[10:47:49] WARNING: not removing hydrogen atom without neighbors\n",
            "[10:47:50] WARNING: not removing hydrogen atom without neighbors\n"
          ]
        },
        {
          "output_type": "stream",
          "name": "stdout",
          "text": [
            "2761/9582 [=======>......................] - ETA: 50s - loss: 1.7398"
          ]
        },
        {
          "output_type": "stream",
          "name": "stderr",
          "text": [
            "[10:47:50] WARNING: not removing hydrogen atom without neighbors\n",
            "[10:47:51] WARNING: not removing hydrogen atom without neighbors\n"
          ]
        },
        {
          "output_type": "stream",
          "name": "stdout",
          "text": [
            "2801/9582 [=======>......................] - ETA: 49s - loss: 1.7252"
          ]
        },
        {
          "output_type": "stream",
          "name": "stderr",
          "text": [
            "[10:47:51] WARNING: not removing hydrogen atom without neighbors\n",
            "[10:47:51] WARNING: not removing hydrogen atom without neighbors\n"
          ]
        },
        {
          "output_type": "stream",
          "name": "stdout",
          "text": [
            "2907/9582 [========>.....................] - ETA: 48s - loss: 1.7402"
          ]
        },
        {
          "output_type": "stream",
          "name": "stderr",
          "text": [
            "[10:47:51] WARNING: not removing hydrogen atom without neighbors\n",
            "[10:47:51] WARNING: not removing hydrogen atom without neighbors\n",
            "[10:47:51] WARNING: not removing hydrogen atom without neighbors\n"
          ]
        },
        {
          "output_type": "stream",
          "name": "stdout",
          "text": [
            "3252/9582 [=========>....................] - ETA: 46s - loss: 1.8108"
          ]
        },
        {
          "output_type": "stream",
          "name": "stderr",
          "text": [
            "[10:47:54] WARNING: not removing hydrogen atom without neighbors\n",
            "[10:47:54] WARNING: not removing hydrogen atom without neighbors\n"
          ]
        },
        {
          "output_type": "stream",
          "name": "stdout",
          "text": [
            "3360/9582 [=========>....................] - ETA: 45s - loss: 2.0304"
          ]
        },
        {
          "output_type": "stream",
          "name": "stderr",
          "text": [
            "[10:47:54] WARNING: not removing hydrogen atom without neighbors\n"
          ]
        },
        {
          "output_type": "stream",
          "name": "stdout",
          "text": [
            "3769/9582 [==========>...................] - ETA: 41s - loss: 2.0340"
          ]
        },
        {
          "output_type": "stream",
          "name": "stderr",
          "text": [
            "[10:47:57] WARNING: not removing hydrogen atom without neighbors\n"
          ]
        },
        {
          "output_type": "stream",
          "name": "stdout",
          "text": [
            "3793/9582 [==========>...................] - ETA: 41s - loss: 2.0295"
          ]
        },
        {
          "output_type": "stream",
          "name": "stderr",
          "text": [
            "[10:47:57] WARNING: not removing hydrogen atom without neighbors\n",
            "[10:47:57] WARNING: not removing hydrogen atom without neighbors\n"
          ]
        },
        {
          "output_type": "stream",
          "name": "stdout",
          "text": [
            "4009/9582 [===========>..................] - ETA: 40s - loss: 2.0276"
          ]
        },
        {
          "output_type": "stream",
          "name": "stderr",
          "text": [
            "[10:47:59] WARNING: not removing hydrogen atom without neighbors\n"
          ]
        },
        {
          "output_type": "stream",
          "name": "stdout",
          "text": [
            "4552/9582 [=============>................] - ETA: 35s - loss: 1.9898"
          ]
        },
        {
          "output_type": "stream",
          "name": "stderr",
          "text": [
            "[10:48:03] WARNING: not removing hydrogen atom without neighbors\n"
          ]
        },
        {
          "output_type": "stream",
          "name": "stdout",
          "text": [
            "5089/9582 [==============>...............] - ETA: 31s - loss: 1.9118"
          ]
        },
        {
          "output_type": "stream",
          "name": "stderr",
          "text": [
            "[10:48:06] WARNING: not removing hydrogen atom without neighbors\n"
          ]
        },
        {
          "output_type": "stream",
          "name": "stdout",
          "text": [
            "5358/9582 [===============>..............] - ETA: 29s - loss: 1.8964"
          ]
        },
        {
          "output_type": "stream",
          "name": "stderr",
          "text": [
            "[10:48:07] WARNING: not removing hydrogen atom without neighbors\n"
          ]
        },
        {
          "output_type": "stream",
          "name": "stdout",
          "text": [
            "5820/9582 [=================>............] - ETA: 26s - loss: 1.8797"
          ]
        },
        {
          "output_type": "stream",
          "name": "stderr",
          "text": [
            "[10:48:10] WARNING: not removing hydrogen atom without neighbors\n",
            "[10:48:10] WARNING: not removing hydrogen atom without neighbors\n"
          ]
        },
        {
          "output_type": "stream",
          "name": "stdout",
          "text": [
            "9581/9582 [============================>.] - ETA: 0s - loss: 1.6859"
          ]
        },
        {
          "output_type": "stream",
          "name": "stderr",
          "text": [
            "[10:48:38] WARNING: not removing hydrogen atom without neighbors\n"
          ]
        },
        {
          "output_type": "stream",
          "name": "stdout",
          "text": [
            "\b\b\b\b\b\b\b\b\b\b\b\b\b\b\b\b\b\b\b\b\b\b\b\b\b\b\b\b\b\b\b\b\b\b\b\b\b\b\b\b\b\b\b\b\b\b\b\b\b\b\b\b\b\b\b\b\b\b\b\b\b\b\b\b\b\b\b\r9582/9582 [==============================] - 70s 7ms/step - loss: 1.6858 - val_loss: 2.6269\n",
            "Epoch 6/10\n",
            "  10/9582 [..............................] - ETA: 58s - loss: 2.3909    "
          ]
        },
        {
          "output_type": "stream",
          "name": "stderr",
          "text": [
            "[10:48:40] WARNING: not removing hydrogen atom without neighbors\n"
          ]
        },
        {
          "output_type": "stream",
          "name": "stdout",
          "text": [
            "  66/9582 [..............................] - ETA: 1:03 - loss: 2.2587"
          ]
        },
        {
          "output_type": "stream",
          "name": "stderr",
          "text": [
            "[10:48:41] WARNING: not removing hydrogen atom without neighbors\n",
            "[10:48:41] WARNING: not removing hydrogen atom without neighbors\n"
          ]
        },
        {
          "output_type": "stream",
          "name": "stdout",
          "text": [
            " 272/9582 [..............................] - ETA: 58s - loss: 1.5861"
          ]
        },
        {
          "output_type": "stream",
          "name": "stderr",
          "text": [
            "[10:48:42] WARNING: not removing hydrogen atom without neighbors\n"
          ]
        },
        {
          "output_type": "stream",
          "name": "stdout",
          "text": [
            " 335/9582 [>.............................] - ETA: 57s - loss: 1.5981"
          ]
        },
        {
          "output_type": "stream",
          "name": "stderr",
          "text": [
            "[10:48:42] WARNING: not removing hydrogen atom without neighbors\n"
          ]
        },
        {
          "output_type": "stream",
          "name": "stdout",
          "text": [
            " 428/9582 [>.............................] - ETA: 56s - loss: 1.5766"
          ]
        },
        {
          "output_type": "stream",
          "name": "stderr",
          "text": [
            "[10:48:43] WARNING: not removing hydrogen atom without neighbors\n"
          ]
        },
        {
          "output_type": "stream",
          "name": "stdout",
          "text": [
            " 486/9582 [>.............................] - ETA: 56s - loss: 1.6369"
          ]
        },
        {
          "output_type": "stream",
          "name": "stderr",
          "text": [
            "[10:48:43] WARNING: not removing hydrogen atom without neighbors\n"
          ]
        },
        {
          "output_type": "stream",
          "name": "stdout",
          "text": [
            " 540/9582 [>.............................] - ETA: 55s - loss: 1.6135"
          ]
        },
        {
          "output_type": "stream",
          "name": "stderr",
          "text": [
            "[10:48:43] WARNING: not removing hydrogen atom without neighbors\n",
            "[10:48:43] WARNING: not removing hydrogen atom without neighbors\n"
          ]
        },
        {
          "output_type": "stream",
          "name": "stdout",
          "text": [
            " 599/9582 [>.............................] - ETA: 55s - loss: 1.5909"
          ]
        },
        {
          "output_type": "stream",
          "name": "stderr",
          "text": [
            "[10:48:44] WARNING: not removing hydrogen atom without neighbors\n",
            "[10:48:44] WARNING: not removing hydrogen atom without neighbors\n"
          ]
        },
        {
          "output_type": "stream",
          "name": "stdout",
          "text": [
            " 745/9582 [=>............................] - ETA: 54s - loss: 1.6782"
          ]
        },
        {
          "output_type": "stream",
          "name": "stderr",
          "text": [
            "[10:48:45] WARNING: not removing hydrogen atom without neighbors\n"
          ]
        },
        {
          "output_type": "stream",
          "name": "stdout",
          "text": [
            "1207/9582 [==>...........................] - ETA: 54s - loss: 1.7797"
          ]
        },
        {
          "output_type": "stream",
          "name": "stderr",
          "text": [
            "[10:48:48] WARNING: not removing hydrogen atom without neighbors\n",
            "[10:48:48] WARNING: not removing hydrogen atom without neighbors\n",
            "[10:48:48] WARNING: not removing hydrogen atom without neighbors\n",
            "[10:48:48] WARNING: not removing hydrogen atom without neighbors\n"
          ]
        },
        {
          "output_type": "stream",
          "name": "stdout",
          "text": [
            "1281/9582 [===>..........................] - ETA: 55s - loss: 1.7094"
          ]
        },
        {
          "output_type": "stream",
          "name": "stderr",
          "text": [
            "[10:48:49] WARNING: not removing hydrogen atom without neighbors\n"
          ]
        },
        {
          "output_type": "stream",
          "name": "stdout",
          "text": [
            "1313/9582 [===>..........................] - ETA: 56s - loss: 1.9253"
          ]
        },
        {
          "output_type": "stream",
          "name": "stderr",
          "text": [
            "[10:48:49] WARNING: not removing hydrogen atom without neighbors\n",
            "[10:48:49] WARNING: not removing hydrogen atom without neighbors\n"
          ]
        },
        {
          "output_type": "stream",
          "name": "stdout",
          "text": [
            "1341/9582 [===>..........................] - ETA: 56s - loss: 1.9999"
          ]
        },
        {
          "output_type": "stream",
          "name": "stderr",
          "text": [
            "[10:48:49] WARNING: not removing hydrogen atom without neighbors\n"
          ]
        },
        {
          "output_type": "stream",
          "name": "stdout",
          "text": [
            "1383/9582 [===>..........................] - ETA: 57s - loss: 2.0030"
          ]
        },
        {
          "output_type": "stream",
          "name": "stderr",
          "text": [
            "[10:48:50] WARNING: not removing hydrogen atom without neighbors\n"
          ]
        },
        {
          "output_type": "stream",
          "name": "stdout",
          "text": [
            "1425/9582 [===>..........................] - ETA: 58s - loss: 1.9863"
          ]
        },
        {
          "output_type": "stream",
          "name": "stderr",
          "text": [
            "[10:48:50] WARNING: not removing hydrogen atom without neighbors\n"
          ]
        },
        {
          "output_type": "stream",
          "name": "stdout",
          "text": [
            "1593/9582 [===>..........................] - ETA: 57s - loss: 1.9736"
          ]
        },
        {
          "output_type": "stream",
          "name": "stderr",
          "text": [
            "[10:48:52] WARNING: not removing hydrogen atom without neighbors\n",
            "[10:48:52] WARNING: not removing hydrogen atom without neighbors\n"
          ]
        },
        {
          "output_type": "stream",
          "name": "stdout",
          "text": [
            "1640/9582 [====>.........................] - ETA: 57s - loss: 1.9420"
          ]
        },
        {
          "output_type": "stream",
          "name": "stderr",
          "text": [
            "[10:48:52] WARNING: not removing hydrogen atom without neighbors\n"
          ]
        },
        {
          "output_type": "stream",
          "name": "stdout",
          "text": [
            "1723/9582 [====>.........................] - ETA: 55s - loss: 1.9142"
          ]
        },
        {
          "output_type": "stream",
          "name": "stderr",
          "text": [
            "[10:48:52] WARNING: not removing hydrogen atom without neighbors\n",
            "[10:48:52] WARNING: not removing hydrogen atom without neighbors\n"
          ]
        },
        {
          "output_type": "stream",
          "name": "stdout",
          "text": [
            "1816/9582 [====>.........................] - ETA: 54s - loss: 1.8763"
          ]
        },
        {
          "output_type": "stream",
          "name": "stderr",
          "text": [
            "[10:48:53] WARNING: not removing hydrogen atom without neighbors\n",
            "[10:48:53] WARNING: not removing hydrogen atom without neighbors\n",
            "[10:48:53] WARNING: not removing hydrogen atom without neighbors\n",
            "[10:48:53] WARNING: not removing hydrogen atom without neighbors\n"
          ]
        },
        {
          "output_type": "stream",
          "name": "stdout",
          "text": [
            "1860/9582 [====>.........................] - ETA: 54s - loss: 1.8597"
          ]
        },
        {
          "output_type": "stream",
          "name": "stderr",
          "text": [
            "[10:48:53] WARNING: not removing hydrogen atom without neighbors\n",
            "[10:48:53] WARNING: not removing hydrogen atom without neighbors\n"
          ]
        },
        {
          "output_type": "stream",
          "name": "stdout",
          "text": [
            "1919/9582 [=====>........................] - ETA: 53s - loss: 1.8317"
          ]
        },
        {
          "output_type": "stream",
          "name": "stderr",
          "text": [
            "[10:48:53] WARNING: not removing hydrogen atom without neighbors\n",
            "[10:48:54] WARNING: not removing hydrogen atom without neighbors\n"
          ]
        },
        {
          "output_type": "stream",
          "name": "stdout",
          "text": [
            "2058/9582 [=====>........................] - ETA: 52s - loss: 1.7717"
          ]
        },
        {
          "output_type": "stream",
          "name": "stderr",
          "text": [
            "[10:48:54] WARNING: not removing hydrogen atom without neighbors\n",
            "[10:48:54] WARNING: not removing hydrogen atom without neighbors\n",
            "[10:48:54] WARNING: not removing hydrogen atom without neighbors\n",
            "[10:48:54] WARNING: not removing hydrogen atom without neighbors\n"
          ]
        },
        {
          "output_type": "stream",
          "name": "stdout",
          "text": [
            "2203/9582 [=====>........................] - ETA: 50s - loss: 1.7219"
          ]
        },
        {
          "output_type": "stream",
          "name": "stderr",
          "text": [
            "[10:48:55] WARNING: not removing hydrogen atom without neighbors\n",
            "[10:48:55] WARNING: not removing hydrogen atom without neighbors\n",
            "[10:48:55] WARNING: not removing hydrogen atom without neighbors\n"
          ]
        },
        {
          "output_type": "stream",
          "name": "stdout",
          "text": [
            "2325/9582 [======>.......................] - ETA: 49s - loss: 1.6838"
          ]
        },
        {
          "output_type": "stream",
          "name": "stderr",
          "text": [
            "[10:48:56] WARNING: not removing hydrogen atom without neighbors\n"
          ]
        },
        {
          "output_type": "stream",
          "name": "stdout",
          "text": [
            "2386/9582 [======>.......................] - ETA: 48s - loss: 1.6977"
          ]
        },
        {
          "output_type": "stream",
          "name": "stderr",
          "text": [
            "[10:48:56] WARNING: not removing hydrogen atom without neighbors\n"
          ]
        },
        {
          "output_type": "stream",
          "name": "stdout",
          "text": [
            "2604/9582 [=======>......................] - ETA: 46s - loss: 1.6093"
          ]
        },
        {
          "output_type": "stream",
          "name": "stderr",
          "text": [
            "[10:48:58] WARNING: not removing hydrogen atom without neighbors\n",
            "[10:48:58] WARNING: not removing hydrogen atom without neighbors\n"
          ]
        },
        {
          "output_type": "stream",
          "name": "stdout",
          "text": [
            "2767/9582 [=======>......................] - ETA: 45s - loss: 1.7910"
          ]
        },
        {
          "output_type": "stream",
          "name": "stderr",
          "text": [
            "[10:48:59] WARNING: not removing hydrogen atom without neighbors\n",
            "[10:48:59] WARNING: not removing hydrogen atom without neighbors\n"
          ]
        },
        {
          "output_type": "stream",
          "name": "stdout",
          "text": [
            "2810/9582 [=======>......................] - ETA: 45s - loss: 1.7821"
          ]
        },
        {
          "output_type": "stream",
          "name": "stderr",
          "text": [
            "[10:48:59] WARNING: not removing hydrogen atom without neighbors\n",
            "[10:48:59] WARNING: not removing hydrogen atom without neighbors\n"
          ]
        },
        {
          "output_type": "stream",
          "name": "stdout",
          "text": [
            "2907/9582 [========>.....................] - ETA: 44s - loss: 1.8020"
          ]
        },
        {
          "output_type": "stream",
          "name": "stderr",
          "text": [
            "[10:48:59] WARNING: not removing hydrogen atom without neighbors\n",
            "[10:48:59] WARNING: not removing hydrogen atom without neighbors\n",
            "[10:49:00] WARNING: not removing hydrogen atom without neighbors\n"
          ]
        },
        {
          "output_type": "stream",
          "name": "stdout",
          "text": [
            "3239/9582 [=========>....................] - ETA: 43s - loss: 1.8392"
          ]
        },
        {
          "output_type": "stream",
          "name": "stderr",
          "text": [
            "[10:49:02] WARNING: not removing hydrogen atom without neighbors\n"
          ]
        },
        {
          "output_type": "stream",
          "name": "stdout",
          "text": [
            "3274/9582 [=========>....................] - ETA: 43s - loss: 1.9807"
          ]
        },
        {
          "output_type": "stream",
          "name": "stderr",
          "text": [
            "[10:49:03] WARNING: not removing hydrogen atom without neighbors\n"
          ]
        },
        {
          "output_type": "stream",
          "name": "stdout",
          "text": [
            "3345/9582 [=========>....................] - ETA: 43s - loss: 2.0402"
          ]
        },
        {
          "output_type": "stream",
          "name": "stderr",
          "text": [
            "[10:49:03] WARNING: not removing hydrogen atom without neighbors\n"
          ]
        },
        {
          "output_type": "stream",
          "name": "stdout",
          "text": [
            "3775/9582 [==========>...................] - ETA: 39s - loss: 2.0528"
          ]
        },
        {
          "output_type": "stream",
          "name": "stderr",
          "text": [
            "[10:49:06] WARNING: not removing hydrogen atom without neighbors\n",
            "[10:49:06] WARNING: not removing hydrogen atom without neighbors\n",
            "[10:49:06] WARNING: not removing hydrogen atom without neighbors\n"
          ]
        },
        {
          "output_type": "stream",
          "name": "stdout",
          "text": [
            "4014/9582 [===========>..................] - ETA: 38s - loss: 2.0454"
          ]
        },
        {
          "output_type": "stream",
          "name": "stderr",
          "text": [
            "[10:49:08] WARNING: not removing hydrogen atom without neighbors\n"
          ]
        },
        {
          "output_type": "stream",
          "name": "stdout",
          "text": [
            "4558/9582 [=============>................] - ETA: 33s - loss: 1.9943"
          ]
        },
        {
          "output_type": "stream",
          "name": "stderr",
          "text": [
            "[10:49:10] WARNING: not removing hydrogen atom without neighbors\n"
          ]
        },
        {
          "output_type": "stream",
          "name": "stdout",
          "text": [
            "5083/9582 [==============>...............] - ETA: 29s - loss: 1.9190"
          ]
        },
        {
          "output_type": "stream",
          "name": "stderr",
          "text": [
            "[10:49:14] WARNING: not removing hydrogen atom without neighbors\n"
          ]
        },
        {
          "output_type": "stream",
          "name": "stdout",
          "text": [
            "5344/9582 [===============>..............] - ETA: 28s - loss: 1.9041"
          ]
        },
        {
          "output_type": "stream",
          "name": "stderr",
          "text": [
            "[10:49:16] WARNING: not removing hydrogen atom without neighbors\n"
          ]
        },
        {
          "output_type": "stream",
          "name": "stdout",
          "text": [
            "5835/9582 [=================>............] - ETA: 25s - loss: 1.8840"
          ]
        },
        {
          "output_type": "stream",
          "name": "stderr",
          "text": [
            "[10:49:19] WARNING: not removing hydrogen atom without neighbors\n",
            "[10:49:19] WARNING: not removing hydrogen atom without neighbors\n"
          ]
        },
        {
          "output_type": "stream",
          "name": "stdout",
          "text": [
            "9575/9582 [============================>.] - ETA: 0s - loss: 1.6720"
          ]
        },
        {
          "output_type": "stream",
          "name": "stderr",
          "text": [
            "[10:49:45] WARNING: not removing hydrogen atom without neighbors\n"
          ]
        },
        {
          "output_type": "stream",
          "name": "stdout",
          "text": [
            "\b\b\b\b\b\b\b\b\b\b\b\b\b\b\b\b\b\b\b\b\b\b\b\b\b\b\b\b\b\b\b\b\b\b\b\b\b\b\b\b\b\b\b\b\b\b\b\b\b\b\b\b\b\b\b\b\b\b\b\b\b\b\b\b\b\b\b\r9582/9582 [==============================] - 66s 7ms/step - loss: 1.6719 - val_loss: 2.5712\n",
            "Epoch 7/10\n",
            "   9/9582 [..............................] - ETA: 1:00 - loss: 2.2398   "
          ]
        },
        {
          "output_type": "stream",
          "name": "stderr",
          "text": [
            "[10:49:46] WARNING: not removing hydrogen atom without neighbors\n"
          ]
        },
        {
          "output_type": "stream",
          "name": "stdout",
          "text": [
            "  67/9582 [..............................] - ETA: 59s - loss: 1.9381"
          ]
        },
        {
          "output_type": "stream",
          "name": "stderr",
          "text": [
            "[10:49:47] WARNING: not removing hydrogen atom without neighbors\n",
            "[10:49:47] WARNING: not removing hydrogen atom without neighbors\n"
          ]
        },
        {
          "output_type": "stream",
          "name": "stdout",
          "text": [
            " 267/9582 [..............................] - ETA: 56s - loss: 1.5809"
          ]
        },
        {
          "output_type": "stream",
          "name": "stderr",
          "text": [
            "[10:49:48] WARNING: not removing hydrogen atom without neighbors\n"
          ]
        },
        {
          "output_type": "stream",
          "name": "stdout",
          "text": [
            " 324/9582 [>.............................] - ETA: 56s - loss: 1.5756"
          ]
        },
        {
          "output_type": "stream",
          "name": "stderr",
          "text": [
            "[10:49:48] WARNING: not removing hydrogen atom without neighbors\n"
          ]
        },
        {
          "output_type": "stream",
          "name": "stdout",
          "text": [
            " 429/9582 [>.............................] - ETA: 56s - loss: 1.5224"
          ]
        },
        {
          "output_type": "stream",
          "name": "stderr",
          "text": [
            "[10:49:49] WARNING: not removing hydrogen atom without neighbors\n"
          ]
        },
        {
          "output_type": "stream",
          "name": "stdout",
          "text": [
            " 486/9582 [>.............................] - ETA: 56s - loss: 1.5524"
          ]
        },
        {
          "output_type": "stream",
          "name": "stderr",
          "text": [
            "[10:49:49] WARNING: not removing hydrogen atom without neighbors\n"
          ]
        },
        {
          "output_type": "stream",
          "name": "stdout",
          "text": [
            " 539/9582 [>.............................] - ETA: 55s - loss: 1.5110"
          ]
        },
        {
          "output_type": "stream",
          "name": "stderr",
          "text": [
            "[10:49:50] WARNING: not removing hydrogen atom without neighbors\n",
            "[10:49:50] WARNING: not removing hydrogen atom without neighbors\n"
          ]
        },
        {
          "output_type": "stream",
          "name": "stdout",
          "text": [
            " 604/9582 [>.............................] - ETA: 54s - loss: 1.4826"
          ]
        },
        {
          "output_type": "stream",
          "name": "stderr",
          "text": [
            "[10:49:50] WARNING: not removing hydrogen atom without neighbors\n",
            "[10:49:50] WARNING: not removing hydrogen atom without neighbors\n"
          ]
        },
        {
          "output_type": "stream",
          "name": "stdout",
          "text": [
            " 751/9582 [=>............................] - ETA: 53s - loss: 1.5782"
          ]
        },
        {
          "output_type": "stream",
          "name": "stderr",
          "text": [
            "[10:49:51] WARNING: not removing hydrogen atom without neighbors\n"
          ]
        },
        {
          "output_type": "stream",
          "name": "stdout",
          "text": [
            "1197/9582 [==>...........................] - ETA: 1:00 - loss: 1.6487"
          ]
        },
        {
          "output_type": "stream",
          "name": "stderr",
          "text": [
            "[10:49:55] WARNING: not removing hydrogen atom without neighbors\n",
            "[10:49:55] WARNING: not removing hydrogen atom without neighbors\n",
            "[10:49:55] WARNING: not removing hydrogen atom without neighbors\n",
            "[10:49:55] WARNING: not removing hydrogen atom without neighbors\n"
          ]
        },
        {
          "output_type": "stream",
          "name": "stdout",
          "text": [
            "1284/9582 [===>..........................] - ETA: 1:03 - loss: 1.5781"
          ]
        },
        {
          "output_type": "stream",
          "name": "stderr",
          "text": [
            "[10:49:56] WARNING: not removing hydrogen atom without neighbors\n"
          ]
        },
        {
          "output_type": "stream",
          "name": "stdout",
          "text": [
            "1315/9582 [===>..........................] - ETA: 1:02 - loss: 1.7987"
          ]
        },
        {
          "output_type": "stream",
          "name": "stderr",
          "text": [
            "[10:49:56] WARNING: not removing hydrogen atom without neighbors\n",
            "[10:49:56] WARNING: not removing hydrogen atom without neighbors\n",
            "[10:49:56] WARNING: not removing hydrogen atom without neighbors\n"
          ]
        },
        {
          "output_type": "stream",
          "name": "stdout",
          "text": [
            "1394/9582 [===>..........................] - ETA: 1:01 - loss: 1.8314"
          ]
        },
        {
          "output_type": "stream",
          "name": "stderr",
          "text": [
            "[10:49:57] WARNING: not removing hydrogen atom without neighbors\n"
          ]
        },
        {
          "output_type": "stream",
          "name": "stdout",
          "text": [
            "1435/9582 [===>..........................] - ETA: 1:01 - loss: 1.8227"
          ]
        },
        {
          "output_type": "stream",
          "name": "stderr",
          "text": [
            "[10:49:57] WARNING: not removing hydrogen atom without neighbors\n"
          ]
        },
        {
          "output_type": "stream",
          "name": "stdout",
          "text": [
            "1579/9582 [===>..........................] - ETA: 59s - loss: 1.8260"
          ]
        },
        {
          "output_type": "stream",
          "name": "stderr",
          "text": [
            "[10:49:58] WARNING: not removing hydrogen atom without neighbors\n",
            "[10:49:58] WARNING: not removing hydrogen atom without neighbors\n"
          ]
        },
        {
          "output_type": "stream",
          "name": "stdout",
          "text": [
            "1638/9582 [====>.........................] - ETA: 58s - loss: 1.7918"
          ]
        },
        {
          "output_type": "stream",
          "name": "stderr",
          "text": [
            "[10:49:58] WARNING: not removing hydrogen atom without neighbors\n"
          ]
        },
        {
          "output_type": "stream",
          "name": "stdout",
          "text": [
            "1718/9582 [====>.........................] - ETA: 56s - loss: 1.7582"
          ]
        },
        {
          "output_type": "stream",
          "name": "stderr",
          "text": [
            "[10:49:59] WARNING: not removing hydrogen atom without neighbors\n",
            "[10:49:59] WARNING: not removing hydrogen atom without neighbors\n"
          ]
        },
        {
          "output_type": "stream",
          "name": "stdout",
          "text": [
            "1812/9582 [====>.........................] - ETA: 55s - loss: 1.7291"
          ]
        },
        {
          "output_type": "stream",
          "name": "stderr",
          "text": [
            "[10:49:59] WARNING: not removing hydrogen atom without neighbors\n",
            "[10:49:59] WARNING: not removing hydrogen atom without neighbors\n",
            "[10:49:59] WARNING: not removing hydrogen atom without neighbors\n",
            "[10:49:59] WARNING: not removing hydrogen atom without neighbors\n"
          ]
        },
        {
          "output_type": "stream",
          "name": "stdout",
          "text": [
            "1855/9582 [====>.........................] - ETA: 55s - loss: 1.7091"
          ]
        },
        {
          "output_type": "stream",
          "name": "stderr",
          "text": [
            "[10:49:59] WARNING: not removing hydrogen atom without neighbors\n",
            "[10:49:59] WARNING: not removing hydrogen atom without neighbors\n"
          ]
        },
        {
          "output_type": "stream",
          "name": "stdout",
          "text": [
            "1921/9582 [=====>........................] - ETA: 54s - loss: 1.6834"
          ]
        },
        {
          "output_type": "stream",
          "name": "stderr",
          "text": [
            "[10:50:00] WARNING: not removing hydrogen atom without neighbors\n",
            "[10:50:00] WARNING: not removing hydrogen atom without neighbors\n"
          ]
        },
        {
          "output_type": "stream",
          "name": "stdout",
          "text": [
            "2054/9582 [=====>........................] - ETA: 52s - loss: 1.6281"
          ]
        },
        {
          "output_type": "stream",
          "name": "stderr",
          "text": [
            "[10:50:01] WARNING: not removing hydrogen atom without neighbors\n",
            "[10:50:01] WARNING: not removing hydrogen atom without neighbors\n",
            "[10:50:01] WARNING: not removing hydrogen atom without neighbors\n",
            "[10:50:01] WARNING: not removing hydrogen atom without neighbors\n"
          ]
        },
        {
          "output_type": "stream",
          "name": "stdout",
          "text": [
            "2197/9582 [=====>........................] - ETA: 51s - loss: 1.5823"
          ]
        },
        {
          "output_type": "stream",
          "name": "stderr",
          "text": [
            "[10:50:02] WARNING: not removing hydrogen atom without neighbors\n",
            "[10:50:02] WARNING: not removing hydrogen atom without neighbors\n",
            "[10:50:02] WARNING: not removing hydrogen atom without neighbors\n"
          ]
        },
        {
          "output_type": "stream",
          "name": "stdout",
          "text": [
            "2314/9582 [======>.......................] - ETA: 50s - loss: 1.5407"
          ]
        },
        {
          "output_type": "stream",
          "name": "stderr",
          "text": [
            "[10:50:02] WARNING: not removing hydrogen atom without neighbors\n"
          ]
        },
        {
          "output_type": "stream",
          "name": "stdout",
          "text": [
            "2377/9582 [======>.......................] - ETA: 49s - loss: 1.5413"
          ]
        },
        {
          "output_type": "stream",
          "name": "stderr",
          "text": [
            "[10:50:03] WARNING: not removing hydrogen atom without neighbors\n"
          ]
        },
        {
          "output_type": "stream",
          "name": "stdout",
          "text": [
            "2597/9582 [=======>......................] - ETA: 47s - loss: 1.4641"
          ]
        },
        {
          "output_type": "stream",
          "name": "stderr",
          "text": [
            "[10:50:04] WARNING: not removing hydrogen atom without neighbors\n",
            "[10:50:04] WARNING: not removing hydrogen atom without neighbors\n"
          ]
        },
        {
          "output_type": "stream",
          "name": "stdout",
          "text": [
            "2754/9582 [=======>......................] - ETA: 46s - loss: 1.5764"
          ]
        },
        {
          "output_type": "stream",
          "name": "stderr",
          "text": [
            "[10:50:05] WARNING: not removing hydrogen atom without neighbors\n",
            "[10:50:05] WARNING: not removing hydrogen atom without neighbors\n"
          ]
        },
        {
          "output_type": "stream",
          "name": "stdout",
          "text": [
            "2794/9582 [=======>......................] - ETA: 46s - loss: 1.5619"
          ]
        },
        {
          "output_type": "stream",
          "name": "stderr",
          "text": [
            "[10:50:05] WARNING: not removing hydrogen atom without neighbors\n",
            "[10:50:05] WARNING: not removing hydrogen atom without neighbors\n"
          ]
        },
        {
          "output_type": "stream",
          "name": "stdout",
          "text": [
            "2900/9582 [========>.....................] - ETA: 45s - loss: 1.5770"
          ]
        },
        {
          "output_type": "stream",
          "name": "stderr",
          "text": [
            "[10:50:06] WARNING: not removing hydrogen atom without neighbors\n",
            "[10:50:06] WARNING: not removing hydrogen atom without neighbors\n",
            "[10:50:06] WARNING: not removing hydrogen atom without neighbors\n"
          ]
        },
        {
          "output_type": "stream",
          "name": "stdout",
          "text": [
            "3248/9582 [=========>....................] - ETA: 45s - loss: 1.6766"
          ]
        },
        {
          "output_type": "stream",
          "name": "stderr",
          "text": [
            "[10:50:10] WARNING: not removing hydrogen atom without neighbors\n",
            "[10:50:10] WARNING: not removing hydrogen atom without neighbors\n"
          ]
        },
        {
          "output_type": "stream",
          "name": "stdout",
          "text": [
            "3347/9582 [=========>....................] - ETA: 44s - loss: 1.8690"
          ]
        },
        {
          "output_type": "stream",
          "name": "stderr",
          "text": [
            "[10:50:10] WARNING: not removing hydrogen atom without neighbors\n"
          ]
        },
        {
          "output_type": "stream",
          "name": "stdout",
          "text": [
            "3771/9582 [==========>...................] - ETA: 40s - loss: 1.8934"
          ]
        },
        {
          "output_type": "stream",
          "name": "stderr",
          "text": [
            "[10:50:13] WARNING: not removing hydrogen atom without neighbors\n",
            "[10:50:13] WARNING: not removing hydrogen atom without neighbors\n",
            "[10:50:13] WARNING: not removing hydrogen atom without neighbors\n"
          ]
        },
        {
          "output_type": "stream",
          "name": "stdout",
          "text": [
            "4015/9582 [===========>..................] - ETA: 38s - loss: 1.8916"
          ]
        },
        {
          "output_type": "stream",
          "name": "stderr",
          "text": [
            "[10:50:14] WARNING: not removing hydrogen atom without neighbors\n"
          ]
        },
        {
          "output_type": "stream",
          "name": "stdout",
          "text": [
            "4550/9582 [=============>................] - ETA: 34s - loss: 1.8549"
          ]
        },
        {
          "output_type": "stream",
          "name": "stderr",
          "text": [
            "[10:50:17] WARNING: not removing hydrogen atom without neighbors\n"
          ]
        },
        {
          "output_type": "stream",
          "name": "stdout",
          "text": [
            "5071/9582 [==============>...............] - ETA: 31s - loss: 1.7880"
          ]
        },
        {
          "output_type": "stream",
          "name": "stderr",
          "text": [
            "[10:50:21] WARNING: not removing hydrogen atom without neighbors\n"
          ]
        },
        {
          "output_type": "stream",
          "name": "stdout",
          "text": [
            "5354/9582 [===============>..............] - ETA: 29s - loss: 1.7749"
          ]
        },
        {
          "output_type": "stream",
          "name": "stderr",
          "text": [
            "[10:50:23] WARNING: not removing hydrogen atom without neighbors\n"
          ]
        },
        {
          "output_type": "stream",
          "name": "stdout",
          "text": [
            "5821/9582 [=================>............] - ETA: 25s - loss: 1.7731"
          ]
        },
        {
          "output_type": "stream",
          "name": "stderr",
          "text": [
            "[10:50:26] WARNING: not removing hydrogen atom without neighbors\n",
            "[10:50:26] WARNING: not removing hydrogen atom without neighbors\n"
          ]
        },
        {
          "output_type": "stream",
          "name": "stdout",
          "text": [
            "9577/9582 [============================>.] - ETA: 0s - loss: 1.5892"
          ]
        },
        {
          "output_type": "stream",
          "name": "stderr",
          "text": [
            "[10:50:54] WARNING: not removing hydrogen atom without neighbors\n"
          ]
        },
        {
          "output_type": "stream",
          "name": "stdout",
          "text": [
            "\b\b\b\b\b\b\b\b\b\b\b\b\b\b\b\b\b\b\b\b\b\b\b\b\b\b\b\b\b\b\b\b\b\b\b\b\b\b\b\b\b\b\b\b\b\b\b\b\b\b\b\b\b\b\b\b\b\b\b\b\b\b\b\b\b\b\b\r9582/9582 [==============================] - 68s 7ms/step - loss: 1.5887 - val_loss: 2.4948\n",
            "Epoch 8/10\n",
            "  10/9582 [..............................] - ETA: 58s - loss: 2.7390    "
          ]
        },
        {
          "output_type": "stream",
          "name": "stderr",
          "text": [
            "[10:51:08] WARNING: not removing hydrogen atom without neighbors\n"
          ]
        },
        {
          "output_type": "stream",
          "name": "stdout",
          "text": [
            "  66/9582 [..............................] - ETA: 1:02 - loss: 2.2288"
          ]
        },
        {
          "output_type": "stream",
          "name": "stderr",
          "text": [
            "[10:51:09] WARNING: not removing hydrogen atom without neighbors\n",
            "[10:51:09] WARNING: not removing hydrogen atom without neighbors\n"
          ]
        },
        {
          "output_type": "stream",
          "name": "stdout",
          "text": [
            " 256/9582 [..............................] - ETA: 1:02 - loss: 1.6151"
          ]
        },
        {
          "output_type": "stream",
          "name": "stderr",
          "text": [
            "[10:51:10] WARNING: not removing hydrogen atom without neighbors\n"
          ]
        },
        {
          "output_type": "stream",
          "name": "stdout",
          "text": [
            " 316/9582 [..............................] - ETA: 1:08 - loss: 1.6814"
          ]
        },
        {
          "output_type": "stream",
          "name": "stderr",
          "text": [
            "[10:51:10] WARNING: not removing hydrogen atom without neighbors\n"
          ]
        },
        {
          "output_type": "stream",
          "name": "stdout",
          "text": [
            " 417/9582 [>.............................] - ETA: 1:12 - loss: 1.6289"
          ]
        },
        {
          "output_type": "stream",
          "name": "stderr",
          "text": [
            "[10:51:11] WARNING: not removing hydrogen atom without neighbors\n"
          ]
        },
        {
          "output_type": "stream",
          "name": "stdout",
          "text": [
            " 474/9582 [>.............................] - ETA: 1:15 - loss: 1.6837"
          ]
        },
        {
          "output_type": "stream",
          "name": "stderr",
          "text": [
            "[10:51:12] WARNING: not removing hydrogen atom without neighbors\n"
          ]
        },
        {
          "output_type": "stream",
          "name": "stdout",
          "text": [
            " 521/9582 [>.............................] - ETA: 1:17 - loss: 1.6642"
          ]
        },
        {
          "output_type": "stream",
          "name": "stderr",
          "text": [
            "[10:51:13] WARNING: not removing hydrogen atom without neighbors\n",
            "[10:51:13] WARNING: not removing hydrogen atom without neighbors\n"
          ]
        },
        {
          "output_type": "stream",
          "name": "stdout",
          "text": [
            " 601/9582 [>.............................] - ETA: 1:15 - loss: 1.5999"
          ]
        },
        {
          "output_type": "stream",
          "name": "stderr",
          "text": [
            "[10:51:13] WARNING: not removing hydrogen atom without neighbors\n",
            "[10:51:13] WARNING: not removing hydrogen atom without neighbors\n"
          ]
        },
        {
          "output_type": "stream",
          "name": "stdout",
          "text": [
            " 748/9582 [=>............................] - ETA: 1:10 - loss: 1.6294"
          ]
        },
        {
          "output_type": "stream",
          "name": "stderr",
          "text": [
            "[10:51:14] WARNING: not removing hydrogen atom without neighbors\n"
          ]
        },
        {
          "output_type": "stream",
          "name": "stdout",
          "text": [
            "1203/9582 [==>...........................] - ETA: 1:04 - loss: 1.6854"
          ]
        },
        {
          "output_type": "stream",
          "name": "stderr",
          "text": [
            "[10:51:17] WARNING: not removing hydrogen atom without neighbors\n",
            "[10:51:17] WARNING: not removing hydrogen atom without neighbors\n",
            "[10:51:18] WARNING: not removing hydrogen atom without neighbors\n",
            "[10:51:18] WARNING: not removing hydrogen atom without neighbors\n"
          ]
        },
        {
          "output_type": "stream",
          "name": "stdout",
          "text": [
            "1285/9582 [===>..........................] - ETA: 1:07 - loss: 1.6193"
          ]
        },
        {
          "output_type": "stream",
          "name": "stderr",
          "text": [
            "[10:51:19] WARNING: not removing hydrogen atom without neighbors\n"
          ]
        },
        {
          "output_type": "stream",
          "name": "stdout",
          "text": [
            "1311/9582 [===>..........................] - ETA: 1:07 - loss: 1.8425"
          ]
        },
        {
          "output_type": "stream",
          "name": "stderr",
          "text": [
            "[10:51:19] WARNING: not removing hydrogen atom without neighbors\n",
            "[10:51:19] WARNING: not removing hydrogen atom without neighbors\n"
          ]
        },
        {
          "output_type": "stream",
          "name": "stdout",
          "text": [
            "1336/9582 [===>..........................] - ETA: 1:08 - loss: 1.9303"
          ]
        },
        {
          "output_type": "stream",
          "name": "stderr",
          "text": [
            "[10:51:19] WARNING: not removing hydrogen atom without neighbors\n"
          ]
        },
        {
          "output_type": "stream",
          "name": "stdout",
          "text": [
            "1381/9582 [===>..........................] - ETA: 1:08 - loss: 1.9203"
          ]
        },
        {
          "output_type": "stream",
          "name": "stderr",
          "text": [
            "[10:51:20] WARNING: not removing hydrogen atom without neighbors\n"
          ]
        },
        {
          "output_type": "stream",
          "name": "stdout",
          "text": [
            "1418/9582 [===>..........................] - ETA: 1:08 - loss: 1.9082"
          ]
        },
        {
          "output_type": "stream",
          "name": "stderr",
          "text": [
            "[10:51:20] WARNING: not removing hydrogen atom without neighbors\n"
          ]
        },
        {
          "output_type": "stream",
          "name": "stdout",
          "text": [
            "1570/9582 [===>..........................] - ETA: 1:08 - loss: 1.8951"
          ]
        },
        {
          "output_type": "stream",
          "name": "stderr",
          "text": [
            "[10:51:22] WARNING: not removing hydrogen atom without neighbors\n",
            "[10:51:22] WARNING: not removing hydrogen atom without neighbors\n"
          ]
        },
        {
          "output_type": "stream",
          "name": "stdout",
          "text": [
            "1625/9582 [====>.........................] - ETA: 1:08 - loss: 1.8603"
          ]
        },
        {
          "output_type": "stream",
          "name": "stderr",
          "text": [
            "[10:51:22] WARNING: not removing hydrogen atom without neighbors\n"
          ]
        },
        {
          "output_type": "stream",
          "name": "stdout",
          "text": [
            "1701/9582 [====>.........................] - ETA: 1:08 - loss: 1.8267"
          ]
        },
        {
          "output_type": "stream",
          "name": "stderr",
          "text": [
            "[10:51:23] WARNING: not removing hydrogen atom without neighbors\n",
            "[10:51:23] WARNING: not removing hydrogen atom without neighbors\n"
          ]
        },
        {
          "output_type": "stream",
          "name": "stdout",
          "text": [
            "1801/9582 [====>.........................] - ETA: 1:09 - loss: 1.7757"
          ]
        },
        {
          "output_type": "stream",
          "name": "stderr",
          "text": [
            "[10:51:24] WARNING: not removing hydrogen atom without neighbors\n",
            "[10:51:25] WARNING: not removing hydrogen atom without neighbors\n",
            "[10:51:25] WARNING: not removing hydrogen atom without neighbors\n"
          ]
        },
        {
          "output_type": "stream",
          "name": "stdout",
          "text": [
            "1827/9582 [====>.........................] - ETA: 1:10 - loss: 1.7673"
          ]
        },
        {
          "output_type": "stream",
          "name": "stderr",
          "text": [
            "[10:51:25] WARNING: not removing hydrogen atom without neighbors\n",
            "[10:51:25] WARNING: not removing hydrogen atom without neighbors\n"
          ]
        },
        {
          "output_type": "stream",
          "name": "stdout",
          "text": [
            "1838/9582 [====>.........................] - ETA: 1:10 - loss: 1.7653"
          ]
        },
        {
          "output_type": "stream",
          "name": "stderr",
          "text": [
            "[10:51:25] WARNING: not removing hydrogen atom without neighbors\n"
          ]
        },
        {
          "output_type": "stream",
          "name": "stdout",
          "text": [
            "1900/9582 [====>.........................] - ETA: 1:11 - loss: 1.7419"
          ]
        },
        {
          "output_type": "stream",
          "name": "stderr",
          "text": [
            "[10:51:26] WARNING: not removing hydrogen atom without neighbors\n"
          ]
        },
        {
          "output_type": "stream",
          "name": "stdout",
          "text": [
            "1921/9582 [=====>........................] - ETA: 1:12 - loss: 1.7403"
          ]
        },
        {
          "output_type": "stream",
          "name": "stderr",
          "text": [
            "[10:51:26] WARNING: not removing hydrogen atom without neighbors\n"
          ]
        },
        {
          "output_type": "stream",
          "name": "stdout",
          "text": [
            "2039/9582 [=====>........................] - ETA: 1:12 - loss: 1.6987"
          ]
        },
        {
          "output_type": "stream",
          "name": "stderr",
          "text": [
            "[10:51:28] WARNING: not removing hydrogen atom without neighbors\n",
            "[10:51:28] WARNING: not removing hydrogen atom without neighbors\n"
          ]
        },
        {
          "output_type": "stream",
          "name": "stdout",
          "text": [
            "2057/9582 [=====>........................] - ETA: 1:13 - loss: 1.6899"
          ]
        },
        {
          "output_type": "stream",
          "name": "stderr",
          "text": [
            "[10:51:28] WARNING: not removing hydrogen atom without neighbors\n",
            "[10:51:28] WARNING: not removing hydrogen atom without neighbors\n"
          ]
        },
        {
          "output_type": "stream",
          "name": "stdout",
          "text": [
            "2184/9582 [=====>........................] - ETA: 1:13 - loss: 1.6557"
          ]
        },
        {
          "output_type": "stream",
          "name": "stderr",
          "text": [
            "[10:51:30] WARNING: not removing hydrogen atom without neighbors\n",
            "[10:51:30] WARNING: not removing hydrogen atom without neighbors\n"
          ]
        },
        {
          "output_type": "stream",
          "name": "stdout",
          "text": [
            "2199/9582 [=====>........................] - ETA: 1:13 - loss: 1.6455"
          ]
        },
        {
          "output_type": "stream",
          "name": "stderr",
          "text": [
            "[10:51:30] WARNING: not removing hydrogen atom without neighbors\n"
          ]
        },
        {
          "output_type": "stream",
          "name": "stdout",
          "text": [
            "2305/9582 [======>.......................] - ETA: 1:12 - loss: 1.6075"
          ]
        },
        {
          "output_type": "stream",
          "name": "stderr",
          "text": [
            "[10:51:31] WARNING: not removing hydrogen atom without neighbors\n"
          ]
        },
        {
          "output_type": "stream",
          "name": "stdout",
          "text": [
            "2356/9582 [======>.......................] - ETA: 1:11 - loss: 1.6076"
          ]
        },
        {
          "output_type": "stream",
          "name": "stderr",
          "text": [
            "[10:51:32] WARNING: not removing hydrogen atom without neighbors\n"
          ]
        },
        {
          "output_type": "stream",
          "name": "stdout",
          "text": [
            "2589/9582 [=======>......................] - ETA: 1:11 - loss: 1.5220"
          ]
        },
        {
          "output_type": "stream",
          "name": "stderr",
          "text": [
            "[10:51:35] WARNING: not removing hydrogen atom without neighbors\n"
          ]
        },
        {
          "output_type": "stream",
          "name": "stdout",
          "text": [
            "2610/9582 [=======>......................] - ETA: 1:11 - loss: 1.5182"
          ]
        },
        {
          "output_type": "stream",
          "name": "stderr",
          "text": [
            "[10:51:35] WARNING: not removing hydrogen atom without neighbors\n"
          ]
        },
        {
          "output_type": "stream",
          "name": "stdout",
          "text": [
            "2750/9582 [=======>......................] - ETA: 1:10 - loss: 1.6000"
          ]
        },
        {
          "output_type": "stream",
          "name": "stderr",
          "text": [
            "[10:51:36] WARNING: not removing hydrogen atom without neighbors\n",
            "[10:51:36] WARNING: not removing hydrogen atom without neighbors\n"
          ]
        },
        {
          "output_type": "stream",
          "name": "stdout",
          "text": [
            "2784/9582 [=======>......................] - ETA: 1:09 - loss: 1.5860"
          ]
        },
        {
          "output_type": "stream",
          "name": "stderr",
          "text": [
            "[10:51:37] WARNING: not removing hydrogen atom without neighbors\n"
          ]
        },
        {
          "output_type": "stream",
          "name": "stdout",
          "text": [
            "2811/9582 [=======>......................] - ETA: 1:09 - loss: 1.5794"
          ]
        },
        {
          "output_type": "stream",
          "name": "stderr",
          "text": [
            "[10:51:37] WARNING: not removing hydrogen atom without neighbors\n"
          ]
        },
        {
          "output_type": "stream",
          "name": "stdout",
          "text": [
            "2892/9582 [========>.....................] - ETA: 1:08 - loss: 1.5690"
          ]
        },
        {
          "output_type": "stream",
          "name": "stderr",
          "text": [
            "[10:51:38] WARNING: not removing hydrogen atom without neighbors\n",
            "[10:51:38] WARNING: not removing hydrogen atom without neighbors\n"
          ]
        },
        {
          "output_type": "stream",
          "name": "stdout",
          "text": [
            "2917/9582 [========>.....................] - ETA: 1:08 - loss: 1.6065"
          ]
        },
        {
          "output_type": "stream",
          "name": "stderr",
          "text": [
            "[10:51:38] WARNING: not removing hydrogen atom without neighbors\n"
          ]
        },
        {
          "output_type": "stream",
          "name": "stdout",
          "text": [
            "3236/9582 [=========>....................] - ETA: 1:05 - loss: 1.6737"
          ]
        },
        {
          "output_type": "stream",
          "name": "stderr",
          "text": [
            "[10:51:42] WARNING: not removing hydrogen atom without neighbors\n"
          ]
        },
        {
          "output_type": "stream",
          "name": "stdout",
          "text": [
            "3265/9582 [=========>....................] - ETA: 1:05 - loss: 1.7664"
          ]
        },
        {
          "output_type": "stream",
          "name": "stderr",
          "text": [
            "[10:51:42] WARNING: not removing hydrogen atom without neighbors\n"
          ]
        },
        {
          "output_type": "stream",
          "name": "stdout",
          "text": [
            "3343/9582 [=========>....................] - ETA: 1:05 - loss: 1.8412"
          ]
        },
        {
          "output_type": "stream",
          "name": "stderr",
          "text": [
            "[10:51:43] WARNING: not removing hydrogen atom without neighbors\n"
          ]
        },
        {
          "output_type": "stream",
          "name": "stdout",
          "text": [
            "3772/9582 [==========>...................] - ETA: 1:00 - loss: 1.8518"
          ]
        },
        {
          "output_type": "stream",
          "name": "stderr",
          "text": [
            "[10:51:47] WARNING: not removing hydrogen atom without neighbors\n",
            "[10:51:47] WARNING: not removing hydrogen atom without neighbors\n",
            "[10:51:47] WARNING: not removing hydrogen atom without neighbors\n"
          ]
        },
        {
          "output_type": "stream",
          "name": "stdout",
          "text": [
            "4015/9582 [===========>..................] - ETA: 56s - loss: 1.8450"
          ]
        },
        {
          "output_type": "stream",
          "name": "stderr",
          "text": [
            "[10:51:49] WARNING: not removing hydrogen atom without neighbors\n"
          ]
        },
        {
          "output_type": "stream",
          "name": "stdout",
          "text": [
            "4551/9582 [=============>................] - ETA: 48s - loss: 1.8043"
          ]
        },
        {
          "output_type": "stream",
          "name": "stderr",
          "text": [
            "[10:51:52] WARNING: not removing hydrogen atom without neighbors\n"
          ]
        },
        {
          "output_type": "stream",
          "name": "stdout",
          "text": [
            "5068/9582 [==============>...............] - ETA: 42s - loss: 1.7350"
          ]
        },
        {
          "output_type": "stream",
          "name": "stderr",
          "text": [
            "[10:51:56] WARNING: not removing hydrogen atom without neighbors\n"
          ]
        },
        {
          "output_type": "stream",
          "name": "stdout",
          "text": [
            "5353/9582 [===============>..............] - ETA: 39s - loss: 1.7228"
          ]
        },
        {
          "output_type": "stream",
          "name": "stderr",
          "text": [
            "[10:51:58] WARNING: not removing hydrogen atom without neighbors\n"
          ]
        },
        {
          "output_type": "stream",
          "name": "stdout",
          "text": [
            "5831/9582 [=================>............] - ETA: 33s - loss: 1.7097"
          ]
        },
        {
          "output_type": "stream",
          "name": "stderr",
          "text": [
            "[10:52:01] WARNING: not removing hydrogen atom without neighbors\n",
            "[10:52:01] WARNING: not removing hydrogen atom without neighbors\n"
          ]
        },
        {
          "output_type": "stream",
          "name": "stdout",
          "text": [
            "9582/9582 [==============================] - ETA: 0s - loss: 1.5319"
          ]
        },
        {
          "output_type": "stream",
          "name": "stderr",
          "text": [
            "[10:52:42] WARNING: not removing hydrogen atom without neighbors\n"
          ]
        },
        {
          "output_type": "stream",
          "name": "stdout",
          "text": [
            "\b\b\b\b\b\b\b\b\b\b\b\b\b\b\b\b\b\b\b\b\b\b\b\b\b\b\b\b\b\b\b\b\b\b\b\b\b\b\b\b\b\b\b\b\b\b\b\b\b\b\b\b\b\b\b\b\b\b\b\b\b\b\b\b\b\b\b\r9582/9582 [==============================] - 95s 10ms/step - loss: 1.5319 - val_loss: 2.3508\n",
            "Epoch 9/10\n",
            "   9/9582 [..............................] - ETA: 1:14 - loss: 2.6988   "
          ]
        },
        {
          "output_type": "stream",
          "name": "stderr",
          "text": [
            "[10:53:30] WARNING: not removing hydrogen atom without neighbors\n"
          ]
        },
        {
          "output_type": "stream",
          "name": "stdout",
          "text": [
            "  67/9582 [..............................] - ETA: 1:02 - loss: 2.0409"
          ]
        },
        {
          "output_type": "stream",
          "name": "stderr",
          "text": [
            "[10:53:31] WARNING: not removing hydrogen atom without neighbors\n",
            "[10:53:31] WARNING: not removing hydrogen atom without neighbors\n"
          ]
        },
        {
          "output_type": "stream",
          "name": "stdout",
          "text": [
            " 260/9582 [..............................] - ETA: 1:05 - loss: 1.5490"
          ]
        },
        {
          "output_type": "stream",
          "name": "stderr",
          "text": [
            "[10:53:32] WARNING: not removing hydrogen atom without neighbors\n"
          ]
        },
        {
          "output_type": "stream",
          "name": "stdout",
          "text": [
            " 315/9582 [..............................] - ETA: 1:11 - loss: 1.5818"
          ]
        },
        {
          "output_type": "stream",
          "name": "stderr",
          "text": [
            "[10:53:32] WARNING: not removing hydrogen atom without neighbors\n"
          ]
        },
        {
          "output_type": "stream",
          "name": "stdout",
          "text": [
            " 420/9582 [>.............................] - ETA: 1:11 - loss: 1.6029"
          ]
        },
        {
          "output_type": "stream",
          "name": "stderr",
          "text": [
            "[10:53:33] WARNING: not removing hydrogen atom without neighbors\n"
          ]
        },
        {
          "output_type": "stream",
          "name": "stdout",
          "text": [
            " 470/9582 [>.............................] - ETA: 1:15 - loss: 1.6510"
          ]
        },
        {
          "output_type": "stream",
          "name": "stderr",
          "text": [
            "[10:53:34] WARNING: not removing hydrogen atom without neighbors\n"
          ]
        },
        {
          "output_type": "stream",
          "name": "stdout",
          "text": [
            " 522/9582 [>.............................] - ETA: 1:18 - loss: 1.6323"
          ]
        },
        {
          "output_type": "stream",
          "name": "stderr",
          "text": [
            "[10:53:35] WARNING: not removing hydrogen atom without neighbors\n",
            "[10:53:35] WARNING: not removing hydrogen atom without neighbors\n"
          ]
        },
        {
          "output_type": "stream",
          "name": "stdout",
          "text": [
            " 583/9582 [>.............................] - ETA: 1:20 - loss: 1.5480"
          ]
        },
        {
          "output_type": "stream",
          "name": "stderr",
          "text": [
            "[10:53:35] WARNING: not removing hydrogen atom without neighbors\n",
            "[10:53:35] WARNING: not removing hydrogen atom without neighbors\n"
          ]
        },
        {
          "output_type": "stream",
          "name": "stdout",
          "text": [
            " 731/9582 [=>............................] - ETA: 1:36 - loss: 1.6045"
          ]
        },
        {
          "output_type": "stream",
          "name": "stderr",
          "text": [
            "[10:53:38] WARNING: not removing hydrogen atom without neighbors\n"
          ]
        },
        {
          "output_type": "stream",
          "name": "stdout",
          "text": [
            "1189/9582 [==>...........................] - ETA: 1:45 - loss: 1.7576"
          ]
        },
        {
          "output_type": "stream",
          "name": "stderr",
          "text": [
            "[10:53:45] WARNING: not removing hydrogen atom without neighbors\n",
            "[10:53:45] WARNING: not removing hydrogen atom without neighbors\n",
            "[10:53:45] WARNING: not removing hydrogen atom without neighbors\n",
            "[10:53:45] WARNING: not removing hydrogen atom without neighbors\n"
          ]
        },
        {
          "output_type": "stream",
          "name": "stdout",
          "text": [
            "1276/9582 [==>...........................] - ETA: 1:47 - loss: 1.6836"
          ]
        },
        {
          "output_type": "stream",
          "name": "stderr",
          "text": [
            "[10:53:47] WARNING: not removing hydrogen atom without neighbors\n"
          ]
        },
        {
          "output_type": "stream",
          "name": "stdout",
          "text": [
            "1304/9582 [===>..........................] - ETA: 1:47 - loss: 1.7668"
          ]
        },
        {
          "output_type": "stream",
          "name": "stderr",
          "text": [
            "[10:53:47] WARNING: not removing hydrogen atom without neighbors\n",
            "[10:53:47] WARNING: not removing hydrogen atom without neighbors\n"
          ]
        },
        {
          "output_type": "stream",
          "name": "stdout",
          "text": [
            "1335/9582 [===>..........................] - ETA: 1:46 - loss: 1.9152"
          ]
        },
        {
          "output_type": "stream",
          "name": "stderr",
          "text": [
            "[10:53:47] WARNING: not removing hydrogen atom without neighbors\n"
          ]
        },
        {
          "output_type": "stream",
          "name": "stdout",
          "text": [
            "1374/9582 [===>..........................] - ETA: 1:46 - loss: 1.9210"
          ]
        },
        {
          "output_type": "stream",
          "name": "stderr",
          "text": [
            "[10:53:48] WARNING: not removing hydrogen atom without neighbors\n"
          ]
        },
        {
          "output_type": "stream",
          "name": "stdout",
          "text": [
            "1419/9582 [===>..........................] - ETA: 1:45 - loss: 1.9181"
          ]
        },
        {
          "output_type": "stream",
          "name": "stderr",
          "text": [
            "[10:53:48] WARNING: not removing hydrogen atom without neighbors\n"
          ]
        },
        {
          "output_type": "stream",
          "name": "stdout",
          "text": [
            "1563/9582 [===>..........................] - ETA: 1:45 - loss: 1.9039"
          ]
        },
        {
          "output_type": "stream",
          "name": "stderr",
          "text": [
            "[10:53:51] WARNING: not removing hydrogen atom without neighbors\n"
          ]
        },
        {
          "output_type": "stream",
          "name": "stdout",
          "text": [
            "1589/9582 [===>..........................] - ETA: 1:44 - loss: 1.8956"
          ]
        },
        {
          "output_type": "stream",
          "name": "stderr",
          "text": [
            "[10:53:51] WARNING: not removing hydrogen atom without neighbors\n"
          ]
        },
        {
          "output_type": "stream",
          "name": "stdout",
          "text": [
            "1625/9582 [====>.........................] - ETA: 1:43 - loss: 1.8745"
          ]
        },
        {
          "output_type": "stream",
          "name": "stderr",
          "text": [
            "[10:53:51] WARNING: not removing hydrogen atom without neighbors\n"
          ]
        },
        {
          "output_type": "stream",
          "name": "stdout",
          "text": [
            "1708/9582 [====>.........................] - ETA: 1:42 - loss: 1.8571"
          ]
        },
        {
          "output_type": "stream",
          "name": "stderr",
          "text": [
            "[10:53:52] WARNING: not removing hydrogen atom without neighbors\n",
            "[10:53:52] WARNING: not removing hydrogen atom without neighbors\n"
          ]
        },
        {
          "output_type": "stream",
          "name": "stdout",
          "text": [
            "1808/9582 [====>.........................] - ETA: 1:40 - loss: 1.8150"
          ]
        },
        {
          "output_type": "stream",
          "name": "stderr",
          "text": [
            "[10:53:53] WARNING: not removing hydrogen atom without neighbors\n",
            "[10:53:53] WARNING: not removing hydrogen atom without neighbors\n",
            "[10:53:53] WARNING: not removing hydrogen atom without neighbors\n"
          ]
        },
        {
          "output_type": "stream",
          "name": "stdout",
          "text": [
            "1833/9582 [====>.........................] - ETA: 1:39 - loss: 1.8083"
          ]
        },
        {
          "output_type": "stream",
          "name": "stderr",
          "text": [
            "[10:53:54] WARNING: not removing hydrogen atom without neighbors\n",
            "[10:53:54] WARNING: not removing hydrogen atom without neighbors\n",
            "[10:53:54] WARNING: not removing hydrogen atom without neighbors\n"
          ]
        },
        {
          "output_type": "stream",
          "name": "stdout",
          "text": [
            "1907/9582 [====>.........................] - ETA: 1:37 - loss: 1.7672"
          ]
        },
        {
          "output_type": "stream",
          "name": "stderr",
          "text": [
            "[10:53:54] WARNING: not removing hydrogen atom without neighbors\n"
          ]
        },
        {
          "output_type": "stream",
          "name": "stdout",
          "text": [
            "1925/9582 [=====>........................] - ETA: 1:37 - loss: 1.7626"
          ]
        },
        {
          "output_type": "stream",
          "name": "stderr",
          "text": [
            "[10:53:55] WARNING: not removing hydrogen atom without neighbors\n"
          ]
        },
        {
          "output_type": "stream",
          "name": "stdout",
          "text": [
            "2045/9582 [=====>........................] - ETA: 1:34 - loss: 1.7175"
          ]
        },
        {
          "output_type": "stream",
          "name": "stderr",
          "text": [
            "[10:53:56] WARNING: not removing hydrogen atom without neighbors\n",
            "[10:53:56] WARNING: not removing hydrogen atom without neighbors\n",
            "[10:53:56] WARNING: not removing hydrogen atom without neighbors\n"
          ]
        },
        {
          "output_type": "stream",
          "name": "stdout",
          "text": [
            "2067/9582 [=====>........................] - ETA: 1:33 - loss: 1.7048"
          ]
        },
        {
          "output_type": "stream",
          "name": "stderr",
          "text": [
            "[10:53:56] WARNING: not removing hydrogen atom without neighbors\n"
          ]
        },
        {
          "output_type": "stream",
          "name": "stdout",
          "text": [
            "2189/9582 [=====>........................] - ETA: 1:31 - loss: 1.6690"
          ]
        },
        {
          "output_type": "stream",
          "name": "stderr",
          "text": [
            "[10:53:57] WARNING: not removing hydrogen atom without neighbors\n",
            "[10:53:57] WARNING: not removing hydrogen atom without neighbors\n",
            "[10:53:57] WARNING: not removing hydrogen atom without neighbors\n"
          ]
        },
        {
          "output_type": "stream",
          "name": "stdout",
          "text": [
            "2300/9582 [======>.......................] - ETA: 1:28 - loss: 1.6147"
          ]
        },
        {
          "output_type": "stream",
          "name": "stderr",
          "text": [
            "[10:53:58] WARNING: not removing hydrogen atom without neighbors\n"
          ]
        },
        {
          "output_type": "stream",
          "name": "stdout",
          "text": [
            "2362/9582 [======>.......................] - ETA: 1:27 - loss: 1.6063"
          ]
        },
        {
          "output_type": "stream",
          "name": "stderr",
          "text": [
            "[10:53:59] WARNING: not removing hydrogen atom without neighbors\n"
          ]
        },
        {
          "output_type": "stream",
          "name": "stdout",
          "text": [
            "2602/9582 [=======>......................] - ETA: 1:20 - loss: 1.5218"
          ]
        },
        {
          "output_type": "stream",
          "name": "stderr",
          "text": [
            "[10:54:00] WARNING: not removing hydrogen atom without neighbors\n",
            "[10:54:00] WARNING: not removing hydrogen atom without neighbors\n"
          ]
        },
        {
          "output_type": "stream",
          "name": "stdout",
          "text": [
            "2761/9582 [=======>......................] - ETA: 1:16 - loss: 1.5899"
          ]
        },
        {
          "output_type": "stream",
          "name": "stderr",
          "text": [
            "[10:54:01] WARNING: not removing hydrogen atom without neighbors\n",
            "[10:54:01] WARNING: not removing hydrogen atom without neighbors\n"
          ]
        },
        {
          "output_type": "stream",
          "name": "stdout",
          "text": [
            "2798/9582 [=======>......................] - ETA: 1:16 - loss: 1.5786"
          ]
        },
        {
          "output_type": "stream",
          "name": "stderr",
          "text": [
            "[10:54:01] WARNING: not removing hydrogen atom without neighbors\n",
            "[10:54:02] WARNING: not removing hydrogen atom without neighbors\n"
          ]
        },
        {
          "output_type": "stream",
          "name": "stdout",
          "text": [
            "2901/9582 [========>.....................] - ETA: 1:13 - loss: 1.5961"
          ]
        },
        {
          "output_type": "stream",
          "name": "stderr",
          "text": [
            "[10:54:02] WARNING: not removing hydrogen atom without neighbors\n",
            "[10:54:02] WARNING: not removing hydrogen atom without neighbors\n",
            "[10:54:02] WARNING: not removing hydrogen atom without neighbors\n"
          ]
        },
        {
          "output_type": "stream",
          "name": "stdout",
          "text": [
            "3240/9582 [=========>....................] - ETA: 1:09 - loss: 1.6629"
          ]
        },
        {
          "output_type": "stream",
          "name": "stderr",
          "text": [
            "[10:54:05] WARNING: not removing hydrogen atom without neighbors\n"
          ]
        },
        {
          "output_type": "stream",
          "name": "stdout",
          "text": [
            "3267/9582 [=========>....................] - ETA: 1:08 - loss: 1.7521"
          ]
        },
        {
          "output_type": "stream",
          "name": "stderr",
          "text": [
            "[10:54:06] WARNING: not removing hydrogen atom without neighbors\n"
          ]
        },
        {
          "output_type": "stream",
          "name": "stdout",
          "text": [
            "3355/9582 [=========>....................] - ETA: 1:07 - loss: 1.7831"
          ]
        },
        {
          "output_type": "stream",
          "name": "stderr",
          "text": [
            "[10:54:06] WARNING: not removing hydrogen atom without neighbors\n"
          ]
        },
        {
          "output_type": "stream",
          "name": "stdout",
          "text": [
            "3767/9582 [==========>...................] - ETA: 59s - loss: 1.7958 "
          ]
        },
        {
          "output_type": "stream",
          "name": "stderr",
          "text": [
            "[10:54:09] WARNING: not removing hydrogen atom without neighbors\n"
          ]
        },
        {
          "output_type": "stream",
          "name": "stdout",
          "text": [
            "3787/9582 [==========>...................] - ETA: 59s - loss: 1.7909"
          ]
        },
        {
          "output_type": "stream",
          "name": "stderr",
          "text": [
            "[10:54:09] WARNING: not removing hydrogen atom without neighbors\n",
            "[10:54:09] WARNING: not removing hydrogen atom without neighbors\n"
          ]
        },
        {
          "output_type": "stream",
          "name": "stdout",
          "text": [
            "3999/9582 [===========>..................] - ETA: 58s - loss: 1.7886"
          ]
        },
        {
          "output_type": "stream",
          "name": "stderr",
          "text": [
            "[10:54:12] WARNING: not removing hydrogen atom without neighbors\n"
          ]
        },
        {
          "output_type": "stream",
          "name": "stdout",
          "text": [
            "4533/9582 [=============>................] - ETA: 51s - loss: 1.7539"
          ]
        },
        {
          "output_type": "stream",
          "name": "stderr",
          "text": [
            "[10:54:17] WARNING: not removing hydrogen atom without neighbors\n"
          ]
        },
        {
          "output_type": "stream",
          "name": "stdout",
          "text": [
            "5068/9582 [==============>...............] - ETA: 46s - loss: 1.6863"
          ]
        },
        {
          "output_type": "stream",
          "name": "stderr",
          "text": [
            "[10:54:22] WARNING: not removing hydrogen atom without neighbors\n"
          ]
        },
        {
          "output_type": "stream",
          "name": "stdout",
          "text": [
            "5335/9582 [===============>..............] - ETA: 43s - loss: 1.6771"
          ]
        },
        {
          "output_type": "stream",
          "name": "stderr",
          "text": [
            "[10:54:25] WARNING: not removing hydrogen atom without neighbors\n"
          ]
        },
        {
          "output_type": "stream",
          "name": "stdout",
          "text": [
            "5817/9582 [=================>............] - ETA: 38s - loss: 1.6592"
          ]
        },
        {
          "output_type": "stream",
          "name": "stderr",
          "text": [
            "[10:54:29] WARNING: not removing hydrogen atom without neighbors\n",
            "[10:54:29] WARNING: not removing hydrogen atom without neighbors\n"
          ]
        },
        {
          "output_type": "stream",
          "name": "stdout",
          "text": [
            "9574/9582 [============================>.] - ETA: 0s - loss: 1.4908"
          ]
        },
        {
          "output_type": "stream",
          "name": "stderr",
          "text": [
            "[10:55:02] WARNING: not removing hydrogen atom without neighbors\n"
          ]
        },
        {
          "output_type": "stream",
          "name": "stdout",
          "text": [
            "\b\b\b\b\b\b\b\b\b\b\b\b\b\b\b\b\b\b\b\b\b\b\b\b\b\b\b\b\b\b\b\b\b\b\b\b\b\b\b\b\b\b\b\b\b\b\b\b\b\b\b\b\b\b\b\b\b\b\b\b\b\b\b\b\b\b\b\r9582/9582 [==============================] - 93s 10ms/step - loss: 1.4906 - val_loss: 2.1913\n",
            "Epoch 10/10\n",
            "   9/9582 [..............................] - ETA: 1:03 - loss: 2.4125   "
          ]
        },
        {
          "output_type": "stream",
          "name": "stderr",
          "text": [
            "[10:55:52] WARNING: not removing hydrogen atom without neighbors\n"
          ]
        },
        {
          "output_type": "stream",
          "name": "stdout",
          "text": [
            "  66/9582 [..............................] - ETA: 1:03 - loss: 2.0487"
          ]
        },
        {
          "output_type": "stream",
          "name": "stderr",
          "text": [
            "[10:55:52] WARNING: not removing hydrogen atom without neighbors\n",
            "[10:55:52] WARNING: not removing hydrogen atom without neighbors\n"
          ]
        },
        {
          "output_type": "stream",
          "name": "stdout",
          "text": [
            " 252/9582 [..............................] - ETA: 1:05 - loss: 1.4648"
          ]
        },
        {
          "output_type": "stream",
          "name": "stderr",
          "text": [
            "[10:55:54] WARNING: not removing hydrogen atom without neighbors\n"
          ]
        },
        {
          "output_type": "stream",
          "name": "stdout",
          "text": [
            " 311/9582 [..............................] - ETA: 1:22 - loss: 1.5159"
          ]
        },
        {
          "output_type": "stream",
          "name": "stderr",
          "text": [
            "[10:55:55] WARNING: not removing hydrogen atom without neighbors\n"
          ]
        },
        {
          "output_type": "stream",
          "name": "stdout",
          "text": [
            " 423/9582 [>.............................] - ETA: 1:21 - loss: 1.4794"
          ]
        },
        {
          "output_type": "stream",
          "name": "stderr",
          "text": [
            "[10:55:56] WARNING: not removing hydrogen atom without neighbors\n"
          ]
        },
        {
          "output_type": "stream",
          "name": "stdout",
          "text": [
            " 484/9582 [>.............................] - ETA: 1:19 - loss: 1.5368"
          ]
        },
        {
          "output_type": "stream",
          "name": "stderr",
          "text": [
            "[10:55:56] WARNING: not removing hydrogen atom without neighbors\n"
          ]
        },
        {
          "output_type": "stream",
          "name": "stdout",
          "text": [
            " 536/9582 [>.............................] - ETA: 1:16 - loss: 1.4840"
          ]
        },
        {
          "output_type": "stream",
          "name": "stderr",
          "text": [
            "[10:55:56] WARNING: not removing hydrogen atom without neighbors\n",
            "[10:55:56] WARNING: not removing hydrogen atom without neighbors\n"
          ]
        },
        {
          "output_type": "stream",
          "name": "stdout",
          "text": [
            " 601/9582 [>.............................] - ETA: 1:13 - loss: 1.4578"
          ]
        },
        {
          "output_type": "stream",
          "name": "stderr",
          "text": [
            "[10:55:57] WARNING: not removing hydrogen atom without neighbors\n",
            "[10:55:57] WARNING: not removing hydrogen atom without neighbors\n"
          ]
        },
        {
          "output_type": "stream",
          "name": "stdout",
          "text": [
            " 736/9582 [=>............................] - ETA: 1:15 - loss: 1.4877"
          ]
        },
        {
          "output_type": "stream",
          "name": "stderr",
          "text": [
            "[10:55:58] WARNING: not removing hydrogen atom without neighbors\n"
          ]
        },
        {
          "output_type": "stream",
          "name": "stdout",
          "text": [
            "1205/9582 [==>...........................] - ETA: 1:13 - loss: 1.6005"
          ]
        },
        {
          "output_type": "stream",
          "name": "stderr",
          "text": [
            "[10:56:03] WARNING: not removing hydrogen atom without neighbors\n",
            "[10:56:03] WARNING: not removing hydrogen atom without neighbors\n",
            "[10:56:03] WARNING: not removing hydrogen atom without neighbors\n",
            "[10:56:03] WARNING: not removing hydrogen atom without neighbors\n"
          ]
        },
        {
          "output_type": "stream",
          "name": "stdout",
          "text": [
            "1294/9582 [===>..........................] - ETA: 1:12 - loss: 1.5359"
          ]
        },
        {
          "output_type": "stream",
          "name": "stderr",
          "text": [
            "[10:56:03] WARNING: not removing hydrogen atom without neighbors\n"
          ]
        },
        {
          "output_type": "stream",
          "name": "stdout",
          "text": [
            "1321/9582 [===>..........................] - ETA: 1:11 - loss: 1.7886"
          ]
        },
        {
          "output_type": "stream",
          "name": "stderr",
          "text": [
            "[10:56:03] WARNING: not removing hydrogen atom without neighbors\n",
            "[10:56:04] WARNING: not removing hydrogen atom without neighbors\n"
          ]
        },
        {
          "output_type": "stream",
          "name": "stdout",
          "text": [
            "1353/9582 [===>..........................] - ETA: 1:11 - loss: 1.8122"
          ]
        },
        {
          "output_type": "stream",
          "name": "stderr",
          "text": [
            "[10:56:04] WARNING: not removing hydrogen atom without neighbors\n"
          ]
        },
        {
          "output_type": "stream",
          "name": "stdout",
          "text": [
            "1400/9582 [===>..........................] - ETA: 1:10 - loss: 1.8076"
          ]
        },
        {
          "output_type": "stream",
          "name": "stderr",
          "text": [
            "[10:56:04] WARNING: not removing hydrogen atom without neighbors\n"
          ]
        },
        {
          "output_type": "stream",
          "name": "stdout",
          "text": [
            "1437/9582 [===>..........................] - ETA: 1:09 - loss: 1.8022"
          ]
        },
        {
          "output_type": "stream",
          "name": "stderr",
          "text": [
            "[10:56:04] WARNING: not removing hydrogen atom without neighbors\n"
          ]
        },
        {
          "output_type": "stream",
          "name": "stdout",
          "text": [
            "1585/9582 [===>..........................] - ETA: 1:06 - loss: 1.7983"
          ]
        },
        {
          "output_type": "stream",
          "name": "stderr",
          "text": [
            "[10:56:05] WARNING: not removing hydrogen atom without neighbors\n",
            "[10:56:05] WARNING: not removing hydrogen atom without neighbors\n"
          ]
        },
        {
          "output_type": "stream",
          "name": "stdout",
          "text": [
            "1638/9582 [====>.........................] - ETA: 1:05 - loss: 1.7896"
          ]
        },
        {
          "output_type": "stream",
          "name": "stderr",
          "text": [
            "[10:56:06] WARNING: not removing hydrogen atom without neighbors\n"
          ]
        },
        {
          "output_type": "stream",
          "name": "stdout",
          "text": [
            "1725/9582 [====>.........................] - ETA: 1:04 - loss: 1.7613"
          ]
        },
        {
          "output_type": "stream",
          "name": "stderr",
          "text": [
            "[10:56:06] WARNING: not removing hydrogen atom without neighbors\n",
            "[10:56:06] WARNING: not removing hydrogen atom without neighbors\n"
          ]
        },
        {
          "output_type": "stream",
          "name": "stdout",
          "text": [
            "1813/9582 [====>.........................] - ETA: 1:02 - loss: 1.7328"
          ]
        },
        {
          "output_type": "stream",
          "name": "stderr",
          "text": [
            "[10:56:07] WARNING: not removing hydrogen atom without neighbors\n",
            "[10:56:07] WARNING: not removing hydrogen atom without neighbors\n",
            "[10:56:07] WARNING: not removing hydrogen atom without neighbors\n",
            "[10:56:07] WARNING: not removing hydrogen atom without neighbors\n"
          ]
        },
        {
          "output_type": "stream",
          "name": "stdout",
          "text": [
            "1854/9582 [====>.........................] - ETA: 1:01 - loss: 1.7210"
          ]
        },
        {
          "output_type": "stream",
          "name": "stderr",
          "text": [
            "[10:56:07] WARNING: not removing hydrogen atom without neighbors\n",
            "[10:56:07] WARNING: not removing hydrogen atom without neighbors\n"
          ]
        },
        {
          "output_type": "stream",
          "name": "stdout",
          "text": [
            "1924/9582 [=====>........................] - ETA: 1:00 - loss: 1.6889"
          ]
        },
        {
          "output_type": "stream",
          "name": "stderr",
          "text": [
            "[10:56:07] WARNING: not removing hydrogen atom without neighbors\n",
            "[10:56:07] WARNING: not removing hydrogen atom without neighbors\n"
          ]
        },
        {
          "output_type": "stream",
          "name": "stdout",
          "text": [
            "2059/9582 [=====>........................] - ETA: 58s - loss: 1.6399"
          ]
        },
        {
          "output_type": "stream",
          "name": "stderr",
          "text": [
            "[10:56:08] WARNING: not removing hydrogen atom without neighbors\n",
            "[10:56:08] WARNING: not removing hydrogen atom without neighbors\n",
            "[10:56:08] WARNING: not removing hydrogen atom without neighbors\n",
            "[10:56:08] WARNING: not removing hydrogen atom without neighbors\n"
          ]
        },
        {
          "output_type": "stream",
          "name": "stdout",
          "text": [
            "2203/9582 [=====>........................] - ETA: 56s - loss: 1.5911"
          ]
        },
        {
          "output_type": "stream",
          "name": "stderr",
          "text": [
            "[10:56:09] WARNING: not removing hydrogen atom without neighbors\n",
            "[10:56:09] WARNING: not removing hydrogen atom without neighbors\n",
            "[10:56:09] WARNING: not removing hydrogen atom without neighbors\n"
          ]
        },
        {
          "output_type": "stream",
          "name": "stdout",
          "text": [
            "2321/9582 [======>.......................] - ETA: 55s - loss: 1.5423"
          ]
        },
        {
          "output_type": "stream",
          "name": "stderr",
          "text": [
            "[10:56:10] WARNING: not removing hydrogen atom without neighbors\n"
          ]
        },
        {
          "output_type": "stream",
          "name": "stdout",
          "text": [
            "2377/9582 [======>.......................] - ETA: 54s - loss: 1.5445"
          ]
        },
        {
          "output_type": "stream",
          "name": "stderr",
          "text": [
            "[10:56:10] WARNING: not removing hydrogen atom without neighbors\n"
          ]
        },
        {
          "output_type": "stream",
          "name": "stdout",
          "text": [
            "2593/9582 [=======>......................] - ETA: 54s - loss: 1.4701"
          ]
        },
        {
          "output_type": "stream",
          "name": "stderr",
          "text": [
            "[10:56:12] WARNING: not removing hydrogen atom without neighbors\n"
          ]
        },
        {
          "output_type": "stream",
          "name": "stdout",
          "text": [
            "2614/9582 [=======>......................] - ETA: 54s - loss: 1.4662"
          ]
        },
        {
          "output_type": "stream",
          "name": "stderr",
          "text": [
            "[10:56:12] WARNING: not removing hydrogen atom without neighbors\n"
          ]
        },
        {
          "output_type": "stream",
          "name": "stdout",
          "text": [
            "2762/9582 [=======>......................] - ETA: 53s - loss: 1.5648"
          ]
        },
        {
          "output_type": "stream",
          "name": "stderr",
          "text": [
            "[10:56:14] WARNING: not removing hydrogen atom without neighbors\n",
            "[10:56:14] WARNING: not removing hydrogen atom without neighbors\n"
          ]
        },
        {
          "output_type": "stream",
          "name": "stdout",
          "text": [
            "2799/9582 [=======>......................] - ETA: 53s - loss: 1.5545"
          ]
        },
        {
          "output_type": "stream",
          "name": "stderr",
          "text": [
            "[10:56:14] WARNING: not removing hydrogen atom without neighbors\n",
            "[10:56:14] WARNING: not removing hydrogen atom without neighbors\n"
          ]
        },
        {
          "output_type": "stream",
          "name": "stdout",
          "text": [
            "2910/9582 [========>.....................] - ETA: 52s - loss: 1.5636"
          ]
        },
        {
          "output_type": "stream",
          "name": "stderr",
          "text": [
            "[10:56:15] WARNING: not removing hydrogen atom without neighbors\n",
            "[10:56:15] WARNING: not removing hydrogen atom without neighbors\n",
            "[10:56:15] WARNING: not removing hydrogen atom without neighbors\n"
          ]
        },
        {
          "output_type": "stream",
          "name": "stdout",
          "text": [
            "3248/9582 [=========>....................] - ETA: 49s - loss: 1.6339"
          ]
        },
        {
          "output_type": "stream",
          "name": "stderr",
          "text": [
            "[10:56:17] WARNING: not removing hydrogen atom without neighbors\n",
            "[10:56:17] WARNING: not removing hydrogen atom without neighbors\n"
          ]
        },
        {
          "output_type": "stream",
          "name": "stdout",
          "text": [
            "3362/9582 [=========>....................] - ETA: 47s - loss: 1.7559"
          ]
        },
        {
          "output_type": "stream",
          "name": "stderr",
          "text": [
            "[10:56:18] WARNING: not removing hydrogen atom without neighbors\n"
          ]
        },
        {
          "output_type": "stream",
          "name": "stdout",
          "text": [
            "3779/9582 [==========>...................] - ETA: 43s - loss: 1.7529"
          ]
        },
        {
          "output_type": "stream",
          "name": "stderr",
          "text": [
            "[10:56:20] WARNING: not removing hydrogen atom without neighbors\n",
            "[10:56:20] WARNING: not removing hydrogen atom without neighbors\n",
            "[10:56:20] WARNING: not removing hydrogen atom without neighbors\n"
          ]
        },
        {
          "output_type": "stream",
          "name": "stdout",
          "text": [
            "4019/9582 [===========>..................] - ETA: 41s - loss: 1.7438"
          ]
        },
        {
          "output_type": "stream",
          "name": "stderr",
          "text": [
            "[10:56:22] WARNING: not removing hydrogen atom without neighbors\n"
          ]
        },
        {
          "output_type": "stream",
          "name": "stdout",
          "text": [
            "4544/9582 [=============>................] - ETA: 37s - loss: 1.7113"
          ]
        },
        {
          "output_type": "stream",
          "name": "stderr",
          "text": [
            "[10:56:26] WARNING: not removing hydrogen atom without neighbors\n"
          ]
        },
        {
          "output_type": "stream",
          "name": "stdout",
          "text": [
            "5090/9582 [==============>...............] - ETA: 32s - loss: 1.6462"
          ]
        },
        {
          "output_type": "stream",
          "name": "stderr",
          "text": [
            "[10:56:29] WARNING: not removing hydrogen atom without neighbors\n"
          ]
        },
        {
          "output_type": "stream",
          "name": "stdout",
          "text": [
            "5355/9582 [===============>..............] - ETA: 30s - loss: 1.6352"
          ]
        },
        {
          "output_type": "stream",
          "name": "stderr",
          "text": [
            "[10:56:31] WARNING: not removing hydrogen atom without neighbors\n"
          ]
        },
        {
          "output_type": "stream",
          "name": "stdout",
          "text": [
            "5837/9582 [=================>............] - ETA: 26s - loss: 1.6204"
          ]
        },
        {
          "output_type": "stream",
          "name": "stderr",
          "text": [
            "[10:56:34] WARNING: not removing hydrogen atom without neighbors\n",
            "[10:56:34] WARNING: not removing hydrogen atom without neighbors\n"
          ]
        },
        {
          "output_type": "stream",
          "name": "stdout",
          "text": [
            "9581/9582 [============================>.] - ETA: 0s - loss: 1.4583"
          ]
        },
        {
          "output_type": "stream",
          "name": "stderr",
          "text": [
            "[10:57:01] WARNING: not removing hydrogen atom without neighbors\n"
          ]
        },
        {
          "output_type": "stream",
          "name": "stdout",
          "text": [
            "\b\b\b\b\b\b\b\b\b\b\b\b\b\b\b\b\b\b\b\b\b\b\b\b\b\b\b\b\b\b\b\b\b\b\b\b\b\b\b\b\b\b\b\b\b\b\b\b\b\b\b\b\b\b\b\b\b\b\b\b\b\b\b\b\b\b\b\r9582/9582 [==============================] - 70s 7ms/step - loss: 1.4582 - val_loss: 2.4494\n"
          ]
        }
      ],
      "source": [
        "model.compile(\"adam\", loss=\"mean_squared_error\")\n",
        "result = model.fit(train_data.batch(1), validation_data=val_data.batch(1), epochs=10)"
      ]
    },
    {
      "cell_type": "code",
      "execution_count": 28,
      "metadata": {
        "colab": {
          "base_uri": "https://localhost:8080/",
          "height": 449
        },
        "id": "VfOY3dNwDqcF",
        "outputId": "a864ef45-fdb2-4821-b3fd-3752282fa3d8"
      },
      "outputs": [
        {
          "output_type": "display_data",
          "data": {
            "text/plain": [
              "<Figure size 640x480 with 1 Axes>"
            ],
            "image/png": "[encoded data removed]"
          },
          "metadata": {}
        }
      ],
      "source": [
        "plt.plot(result.history[\"loss\"], label=\"training\")\n",
        "plt.plot(result.history[\"val_loss\"], label=\"validation\")\n",
        "plt.legend()\n",
        "plt.xlabel(\"Epoch\")\n",
        "plt.ylabel(\"Loss\")\n",
        "plt.show()"
      ]
    },
    {
      "cell_type": "markdown",
      "metadata": {
        "id": "7hiNvMVLDqcG"
      },
      "source": [
        "This model is definitely underfit. One reason is that our batch size is 1. This is a side-effect of making the number of atoms variable and then Keras/tensorflow has trouble batching together our data if there are two unknown dimensions. A standard trick is to group together multiple molecules into one graph, but making sure they are disconnected (no bonds between the molecules). That allows you to batch molecules without increasing the rank of your model/data.\n",
        "\n",
        "Let's now check the parity plot."
      ]
    },
    {
      "cell_type": "code",
      "execution_count": 29,
      "metadata": {
        "colab": {
          "base_uri": "https://localhost:8080/",
          "height": 452
        },
        "id": "vthv2HxIDqcG",
        "outputId": "328f08d1-62a2-40ca-de06-8919b1a27dcb"
      },
      "outputs": [
        {
          "output_type": "display_data",
          "data": {
            "text/plain": [
              "<Figure size 640x480 with 1 Axes>"
            ],
            "image/png": "[encoded data removed]"
          },
          "metadata": {}
        }
      ],
      "source": [
        "yhat = model.predict(test_data.batch(1), verbose=0)[:, 0]\n",
        "test_y = [y for x, y in test_data]\n",
        "plt.figure()\n",
        "plt.plot(test_y, test_y, \"-\")\n",
        "plt.plot(test_y, yhat, \".\")\n",
        "plt.text(\n",
        "    min(test_y) + 1,\n",
        "    max(test_y) - 2,\n",
        "    f\"correlation = {np.corrcoef(test_y, yhat)[0,1]:.3f}\",\n",
        ")\n",
        "plt.text(\n",
        "    min(test_y) + 1,\n",
        "    max(test_y) - 3,\n",
        "    f\"loss = {np.sqrt(np.mean((test_y - yhat)**2)):.3f}\",\n",
        ")\n",
        "plt.title(\"Testing Data\")\n",
        "plt.show()"
      ]
    },
    {
      "cell_type": "markdown",
      "metadata": {
        "id": "FVDrsdVcDqcG"
      },
      "source": [
        "## Message Passing Viewpoint\n",
        "\n",
        "One way to more broadly view a GCN layer is that it is a kind of \"message-passing\" layer. You first compute a message coming from each neighboring node:\n",
        "\n",
        "\\begin{equation}\n",
        "\\vec{e}_{{s_i}j} = \\vec{v}_{{s_i}j} \\mathbf{W}\n",
        "\\end{equation}\n",
        "\n",
        "where $v_{{s_i}j}$ means the $j$th neighbor of node $i$. The $s_i$ means senders to $i$. This is how a GCN computes the messages, it's just a weight matrix times each neighbor node features. After getting the messages that will go to node $i$, $\\vec{e}_{{s_i}j}$, we aggregate them using a function which is permutation invariant to the order of neighbors:\n",
        "\n",
        "\\begin{equation}\n",
        "\\vec{e}_{i} = \\frac{1}{|\\vec{e}_{{s_i}j}|}\\sum \\vec{e}_{{s_i}j}\n",
        "\\end{equation}\n",
        "\n",
        "In the GCN this aggregation is just a mean, but it can be any permutation invariant (possibly trainable) function. Finally, we update our node using the aggregated message in the GCN:\n",
        "\n",
        "\\begin{equation}\n",
        "\\vec{v}^{'}_{i} = \\sigma(\\vec{e}_i)\n",
        "\\end{equation}\n",
        "\n",
        "where $v^{'}$ indicates the new node features. This is simply the activated aggregated message. Writing it out this way, you can see how it is possible to make small changes. One important paper by Gilmer et al. explored some of these choices and described how this general idea of message passing layers does well in learning to predict molecular energies from quantum mechanics {cite}`gilmer2017neural`. Examples of changes to the above GCN equations are to include edge information when computing the neighbor messages or use a dense neural network layer in place of $\\sigma$. You can think of the GCN as one type of a broader class of message passing graph neural networks, sometimes abbreviated as MPNN.\n",
        "\n",
        "## Gated Graph Neural Network\n",
        "\n",
        "\n",
        "One common variant of the message passing layer is the **gated graph neural network** (GGN) {cite}`li2015gated`. It replaces the last equation, the node update, with\n",
        "\n",
        "\\begin{equation}\n",
        "\\vec{v}^{'}_{i} = \\textrm{GRU}(\\vec{v}_i, \\vec{e}_i)\n",
        "\\end{equation}\n",
        "\n",
        "where the $\\textrm{GRU}(\\cdot, \\cdot)$ is a gated recurrent unit{cite}`chung2014empirical`. A GRU is a binary (two input arguments) neural network that is typically used in sequence modeling. The interesting property of a GGN relative to a GCN is that it has trainable parameters in the node update (from the GRU), giving the model a bit more flexibility. In a GGN, the GRU parameters are kept the same at each layer, like how a GRU is used to model sequences. What's nice about this is that you can stack infinite GGN layers without increasing the number of trainable parameters (assuming you make $\\mathbf{W}$ the same at each layer). Thus GGNs are suited for large graphs, like a large protein or large unit cell.\n",
        "\n",
        "```{margin}\n",
        "You'll often see the prefix \"gated\" on GNNs and that means that the nodes are updated according to a GRU.\n",
        "```\n"
      ]
    },
    {
      "cell_type": "markdown",
      "metadata": {
        "id": "cnoqX9DVDqcG"
      },
      "source": [
        "## Pooling\n",
        "\n",
        "Within the message passing viewpoint, and in general for GNNS, the way that messages from neighbors are combined is a key step. This is sometimes called **pooling**, since it's similar to the pooling layer used in convolutional neural networks. Just like in pooling for convolutional neural networks, there are multiple reduction operations you can use. Typically you see a sum or mean reduction in GNNs, but you can be quite sophisticated like in the Graph Isomorphism Networks {cite}`xu2018powerful`. We'll see an example in our attention chapter of using self-attention, which can also be used for pooling. It can be tempting to focus on this step, but it's been empirically found that the choice of pooling is not so important{cite}`luzhnica2019graph,mesquita2020rethinking`. The key property of the pooling is permutation *invariance* - we want the aggregation operation to not depend on order of nodes (or edges if pooling over them). You can find a recent review of pooling methods in Grattarola et al. {cite}`grattarola2021understanding`.\n",
        "\n",
        "You can see a more visual comparison and overview of the various pooling strategies in this distill article by Daigavane et al. {cite}`daigavane2021understanding`."
      ]
    },
    {
      "cell_type": "markdown",
      "metadata": {
        "id": "-EbKKAguDqcH"
      },
      "source": [
        "## Readout Function\n",
        "\n",
        "GNNs output a graph by design. It is rare that our labels are graphs -- typically we have node labels or a single graph label. An example of a node label is partial charge of atoms. An example of a graph label would be the energy of the molecule. The process of converting the graph output from the GNN into our predicted node labels or graph label is called the **readout**. If we have node labels, we can simply discard the edges and use our output node feature vectors from the GNN as the prediction, perhaps with a few dense layers before our predicted output label.\n",
        "\n",
        "If we're trying to predict a graph-level label like energy of the molecule or net charge, we need to be careful when converting from node/edge features to a graph label. If we simply put the node features into a dense layer to get to the desired shape graph label, we will lose permutation equivariance (technically it's permutation invariance now since our output is graph label, not node labels). The readout we did above in the solubility example was a reduction over the node features to get a graph feature. Then we used this graph feature in dense layers. It turns out this is the only way {cite}`zaheer2017deep` to do a graph feature readout: a reduction over nodes to get graph feature and then dense layers to get predicted graph label from those graph features. You can also do some dense layers on the node features individually, but that already happens in GNN so I do not recommend it. This readout is sometimes called DeepSets because it is the same form as the DeepSets architecture, which is a permutation invariant architecture for features that are sets{cite}`zaheer2017deep`.\n",
        "\n",
        "You may notice that the pooling and readouts both use permutation invariant functions. Thus, DeepSets can be used for pooling and attention could be used for readouts.\n",
        "\n",
        "### Intensive vs Extensive\n",
        "\n",
        "One important consideration of a readout in regression is if your labels are **intensive** or **extensive**. An intensive label is one whose value is independent of the number of nodes (or atoms). For example, the index of refraction or solubility are intensive. The readout for an intensive label should (generally) be independent of the number of a nodes/atoms. So the reduction in the readout could be a mean or max, but not a sum. In contrast, an extensive label should (generally) use a sum for the reduction in the readout. An example of an extensive molecular property is enthalpy of formation."
      ]
    },
    {
      "cell_type": "markdown",
      "metadata": {
        "id": "pUxEf69IDqcR"
      },
      "source": [
        "## Chapter Summary\n",
        "\n",
        "* Molecules can be represented by graphs by using one-hot encoded feature vectors that show the elemental identity of each node (atom) and an adjacency matrix that show immediate neighbors (bonded atoms).\n",
        "* Graph neural networks are a category of deep neural networks that have graphs as inputs.\n",
        "* One of the early GNNs is the Kipf & Welling GCN. The input to the GCN is the node feature vector and the adjacency matrix, and returns the updated node feature vector. The GCN is permutation invariant because it averages over the neighbors.\n",
        "* A GCN can be viewed as a message-passing layer, in which we have senders and receivers. Messages are computed from neighboring nodes, which when aggregated update that node.\n",
        "* A gated graph neural network is a variant of the message passing layer, for which the nodes are updated according to a gated recurrent unit function.\n",
        "* The aggregation of messages is sometimes called pooling, for which there are multiple reduction operations.\n",
        "* GNNs output a graph. To get a per-atom or per-molecule property, use a readout function. The readout depends on if your property is intensive vs extensive\n"
      ]
    }
  ],
  "metadata": {
    "celltoolbar": "Tags",
    "kernelspec": {
      "display_name": "Python 3.7.8 64-bit",
      "language": "python",
      "name": "python3"
    },
    "language_info": {
      "codemirror_mode": {
        "name": "ipython",
        "version": 3
      },
      "file_extension": ".py",
      "mimetype": "text/x-python",
      "name": "python",
      "nbconvert_exporter": "python",
      "pygments_lexer": "ipython3",
      "version": "3.7.8"
    },
    "vscode": {
      "interpreter": {
        "hash": "3e5a039a7a113538395a7d74f5574b0c5900118222149a18efb009bf03645fce"
      }
    },
    "colab": {
      "provenance": [],
      "include_colab_link": true
    }
  },
  "nbformat": 4,
  "nbformat_minor": 0
}