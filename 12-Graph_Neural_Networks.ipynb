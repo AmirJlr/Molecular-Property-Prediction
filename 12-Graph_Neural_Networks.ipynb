{
  "cells": [
    {
      "cell_type": "markdown",
      "metadata": {
        "id": "lOVwv8YkB7Pd"
      },
      "source": [
        "### Training GNN\n",
        "\n",
        "We will use the same process discussed earlier. **But, for featurization we will use graphs and the model will be a message passing neural network**.\n",
        "\n",
        "The process of training and validating model is below --\n",
        "\n",
        "1. Clean up dataset\n",
        "2. Featurize the data\n",
        "3. Split the dataset\n",
        "4. Create ``DataLoader`` for the dataset splits\n",
        "5. Create the ML model, define loss function and optimizer\n",
        "6. ``for`` loop for epochs\n",
        "    1. ``for`` loop for training batches\n",
        "        1. Do a forward pass\n",
        "        2. Compute the loss\n",
        "        3. Do backpropogation\n",
        "    2. ``for`` loop for validation batches\n",
        "        1. Do a forward pass\n",
        "        2. Compute the loss\n",
        "    "
      ]
    },
    {
      "cell_type": "markdown",
      "metadata": {
        "id": "5658_JEJnxfS"
      },
      "source": [
        "### Installing the packages"
      ]
    },
    {
      "cell_type": "code",
      "execution_count": 1,
      "metadata": {
        "colab": {
          "base_uri": "https://localhost:8080/"
        },
        "id": "HC4Yn8cLAaC9",
        "outputId": "db3f7e3b-4a9a-4e78-c1ba-6a20b8ddc41a"
      },
      "outputs": [
        {
          "name": "stdout",
          "output_type": "stream",
          "text": [
            "Collecting dgl\n",
            "  Downloading dgl-1.1.2-cp310-cp310-manylinux1_x86_64.whl (6.0 MB)\n",
            "\u001b[2K     \u001b[90m━━━━━━━━━━━━━━━━━━━━━━━━━━━━━━━━━━━━━━━━\u001b[0m \u001b[32m6.0/6.0 MB\u001b[0m \u001b[31m14.0 MB/s\u001b[0m eta \u001b[36m0:00:00\u001b[0m\n",
            "\u001b[?25hRequirement already satisfied: numpy>=1.14.0 in /usr/local/lib/python3.10/dist-packages (from dgl) (1.23.5)\n",
            "Requirement already satisfied: scipy>=1.1.0 in /usr/local/lib/python3.10/dist-packages (from dgl) (1.11.3)\n",
            "Requirement already satisfied: networkx>=2.1 in /usr/local/lib/python3.10/dist-packages (from dgl) (3.2.1)\n",
            "Requirement already satisfied: requests>=2.19.0 in /usr/local/lib/python3.10/dist-packages (from dgl) (2.31.0)\n",
            "Requirement already satisfied: tqdm in /usr/local/lib/python3.10/dist-packages (from dgl) (4.66.1)\n",
            "Requirement already satisfied: psutil>=5.8.0 in /usr/local/lib/python3.10/dist-packages (from dgl) (5.9.5)\n",
            "Requirement already satisfied: charset-normalizer<4,>=2 in /usr/local/lib/python3.10/dist-packages (from requests>=2.19.0->dgl) (3.3.2)\n",
            "Requirement already satisfied: idna<4,>=2.5 in /usr/local/lib/python3.10/dist-packages (from requests>=2.19.0->dgl) (3.4)\n",
            "Requirement already satisfied: urllib3<3,>=1.21.1 in /usr/local/lib/python3.10/dist-packages (from requests>=2.19.0->dgl) (2.0.7)\n",
            "Requirement already satisfied: certifi>=2017.4.17 in /usr/local/lib/python3.10/dist-packages (from requests>=2.19.0->dgl) (2023.7.22)\n",
            "Installing collected packages: dgl\n",
            "Successfully installed dgl-1.1.2\n",
            "Collecting dgllife\n",
            "  Downloading dgllife-0.3.2-py3-none-any.whl (226 kB)\n",
            "\u001b[2K     \u001b[90m━━━━━━━━━━━━━━━━━━━━━━━━━━━━━━━━━━━━━━━━\u001b[0m \u001b[32m226.1/226.1 kB\u001b[0m \u001b[31m4.2 MB/s\u001b[0m eta \u001b[36m0:00:00\u001b[0m\n",
            "\u001b[?25hRequirement already satisfied: scikit-learn>=0.22.2 in /usr/local/lib/python3.10/dist-packages (from dgllife) (1.2.2)\n",
            "Requirement already satisfied: pandas in /usr/local/lib/python3.10/dist-packages (from dgllife) (1.5.3)\n",
            "Requirement already satisfied: requests>=2.22.0 in /usr/local/lib/python3.10/dist-packages (from dgllife) (2.31.0)\n",
            "Requirement already satisfied: tqdm in /usr/local/lib/python3.10/dist-packages (from dgllife) (4.66.1)\n",
            "Requirement already satisfied: numpy>=1.14.0 in /usr/local/lib/python3.10/dist-packages (from dgllife) (1.23.5)\n",
            "Requirement already satisfied: scipy>=1.1.0 in /usr/local/lib/python3.10/dist-packages (from dgllife) (1.11.3)\n",
            "Requirement already satisfied: networkx>=2.1 in /usr/local/lib/python3.10/dist-packages (from dgllife) (3.2.1)\n",
            "Requirement already satisfied: hyperopt in /usr/local/lib/python3.10/dist-packages (from dgllife) (0.2.7)\n",
            "Requirement already satisfied: joblib in /usr/local/lib/python3.10/dist-packages (from dgllife) (1.3.2)\n",
            "Requirement already satisfied: charset-normalizer<4,>=2 in /usr/local/lib/python3.10/dist-packages (from requests>=2.22.0->dgllife) (3.3.2)\n",
            "Requirement already satisfied: idna<4,>=2.5 in /usr/local/lib/python3.10/dist-packages (from requests>=2.22.0->dgllife) (3.4)\n",
            "Requirement already satisfied: urllib3<3,>=1.21.1 in /usr/local/lib/python3.10/dist-packages (from requests>=2.22.0->dgllife) (2.0.7)\n",
            "Requirement already satisfied: certifi>=2017.4.17 in /usr/local/lib/python3.10/dist-packages (from requests>=2.22.0->dgllife) (2023.7.22)\n",
            "Requirement already satisfied: threadpoolctl>=2.0.0 in /usr/local/lib/python3.10/dist-packages (from scikit-learn>=0.22.2->dgllife) (3.2.0)\n",
            "Requirement already satisfied: six in /usr/local/lib/python3.10/dist-packages (from hyperopt->dgllife) (1.16.0)\n",
            "Requirement already satisfied: future in /usr/local/lib/python3.10/dist-packages (from hyperopt->dgllife) (0.18.3)\n",
            "Requirement already satisfied: cloudpickle in /usr/local/lib/python3.10/dist-packages (from hyperopt->dgllife) (2.2.1)\n",
            "Requirement already satisfied: py4j in /usr/local/lib/python3.10/dist-packages (from hyperopt->dgllife) (0.10.9.7)\n",
            "Requirement already satisfied: python-dateutil>=2.8.1 in /usr/local/lib/python3.10/dist-packages (from pandas->dgllife) (2.8.2)\n",
            "Requirement already satisfied: pytz>=2020.1 in /usr/local/lib/python3.10/dist-packages (from pandas->dgllife) (2023.3.post1)\n",
            "Installing collected packages: dgllife\n",
            "Successfully installed dgllife-0.3.2\n",
            "Collecting rdkit\n",
            "  Downloading rdkit-2023.9.1-cp310-cp310-manylinux_2_17_x86_64.manylinux2014_x86_64.whl (30.5 MB)\n",
            "\u001b[2K     \u001b[90m━━━━━━━━━━━━━━━━━━━━━━━━━━━━━━━━━━━━━━━━\u001b[0m \u001b[32m30.5/30.5 MB\u001b[0m \u001b[31m30.0 MB/s\u001b[0m eta \u001b[36m0:00:00\u001b[0m\n",
            "\u001b[?25hRequirement already satisfied: numpy in /usr/local/lib/python3.10/dist-packages (from rdkit) (1.23.5)\n",
            "Requirement already satisfied: Pillow in /usr/local/lib/python3.10/dist-packages (from rdkit) (9.4.0)\n",
            "Installing collected packages: rdkit\n",
            "Successfully installed rdkit-2023.9.1\n",
            "Collecting fast_ml\n",
            "  Downloading fast_ml-3.68-py3-none-any.whl (42 kB)\n",
            "\u001b[2K     \u001b[90m━━━━━━━━━━━━━━━━━━━━━━━━━━━━━━━━━━━━━━━━\u001b[0m \u001b[32m42.1/42.1 kB\u001b[0m \u001b[31m1.5 MB/s\u001b[0m eta \u001b[36m0:00:00\u001b[0m\n",
            "\u001b[?25hInstalling collected packages: fast_ml\n",
            "Successfully installed fast_ml-3.68\n"
          ]
        }
      ],
      "source": [
        "# install dgl, rdkit and fast-ml\n",
        "!pip install dgl\n",
        "!pip install dgllife\n",
        "!pip install rdkit\n",
        "!pip install fast_ml"
      ]
    },
    {
      "cell_type": "markdown",
      "metadata": {
        "id": "136hy3mDHYFa"
      },
      "source": [
        "### Dataset operations\n",
        "\n",
        "We will fetch the QM9 dataset and use HOMO-LUMO gap as the target for prediction."
      ]
    },
    {
      "cell_type": "code",
      "execution_count": 2,
      "metadata": {
        "id": "_9KYkMU1FJ3r"
      },
      "outputs": [],
      "source": [
        "# import pandas library\n",
        "import pandas as pd\n",
        "\n",
        "# load the dataframe as CSV from URL.\n",
        "df = pd.read_csv(\"https://deepchemdata.s3-us-west-1.amazonaws.com/datasets/qm9.csv\")\n",
        "\n",
        "# create the dataset with smiles and gap\n",
        "# we will use a 5% of the dataset to save time\n",
        "dataset = df[[\"smiles\",\"gap\"]].sample(frac=0.05)"
      ]
    },
    {
      "cell_type": "code",
      "execution_count": 3,
      "metadata": {
        "colab": {
          "base_uri": "https://localhost:8080/"
        },
        "id": "_Yu5HeEPoZLt",
        "outputId": "47bf664a-89b0-4d34-c137-24895969f673"
      },
      "outputs": [
        {
          "data": {
            "text/plain": [
              "Index(['mol_id', 'smiles', 'A', 'B', 'C', 'mu', 'alpha', 'homo', 'lumo', 'gap',\n",
              "       'r2', 'zpve', 'u0', 'u298', 'h298', 'g298', 'cv', 'u0_atom',\n",
              "       'u298_atom', 'h298_atom', 'g298_atom'],\n",
              "      dtype='object')"
            ]
          },
          "execution_count": 3,
          "metadata": {},
          "output_type": "execute_result"
        }
      ],
      "source": [
        "df.columns"
      ]
    },
    {
      "cell_type": "code",
      "execution_count": 4,
      "metadata": {
        "colab": {
          "base_uri": "https://localhost:8080/"
        },
        "id": "5iH1X3xzoTF4",
        "outputId": "220c65e1-c9b5-4df0-f0db-ef5b7ddabe6d"
      },
      "outputs": [
        {
          "name": "stdout",
          "output_type": "stream",
          "text": [
            "<class 'pandas.core.frame.DataFrame'>\n",
            "Int64Index: 6694 entries, 27223 to 107080\n",
            "Data columns (total 2 columns):\n",
            " #   Column  Non-Null Count  Dtype  \n",
            "---  ------  --------------  -----  \n",
            " 0   smiles  6694 non-null   object \n",
            " 1   gap     6694 non-null   float64\n",
            "dtypes: float64(1), object(1)\n",
            "memory usage: 156.9+ KB\n"
          ]
        }
      ],
      "source": [
        "dataset.info()"
      ]
    },
    {
      "cell_type": "markdown",
      "metadata": {
        "id": "rs3sQHgOoh1O"
      },
      "source": [
        "As we will use **GNN, we need to convert the SMILES to graphs with atom and bond features**. The dgl library has streamlined this process.\n",
        "\n",
        "We will use the ``CanonicalAtomFeaturizer`` for atoms features and ``CanonicalBondFeaturizer`` for bonds. More details on the features can be found [here]()"
      ]
    },
    {
      "cell_type": "code",
      "execution_count": 5,
      "metadata": {
        "colab": {
          "base_uri": "https://localhost:8080/"
        },
        "id": "M05vMWS6FT0Y",
        "outputId": "f7ae4b4e-e5f4-4747-90bb-38c7d94c98aa"
      },
      "outputs": [
        {
          "name": "stdout",
          "output_type": "stream",
          "text": [
            "Setting the default backend to \"pytorch\". You can change it in the ~/.dgl/config.json file or export the DGLBACKEND environment variable.  Valid options are: pytorch, mxnet, tensorflow (all lowercase)\n"
          ]
        },
        {
          "name": "stderr",
          "output_type": "stream",
          "text": [
            "DGL backend not selected or invalid.  Assuming PyTorch for now.\n"
          ]
        }
      ],
      "source": [
        "# import from rdkit and dgl-lifesci\n",
        "from rdkit import Chem\n",
        "from dgllife.utils import CanonicalAtomFeaturizer, CanonicalBondFeaturizer, mol_to_bigraph, smiles_to_bigraph\n",
        "\n",
        "# create the atom and bond featurizer object\n",
        "atom_featurizer = CanonicalAtomFeaturizer(atom_data_field=\"hv\")\n",
        "bond_featurizer = CanonicalBondFeaturizer(bond_data_field=\"he\")"
      ]
    },
    {
      "cell_type": "markdown",
      "metadata": {
        "id": "HAlvvhCHavuo"
      },
      "source": [
        "Before applying the featurizers to entire dataset, let us look at generating a graph for ethane and applying the features"
      ]
    },
    {
      "cell_type": "code",
      "execution_count": 6,
      "metadata": {
        "colab": {
          "base_uri": "https://localhost:8080/"
        },
        "id": "ApI1TTIqavSv",
        "outputId": "788f78fa-d557-4688-a0f1-3c04fdbfed46"
      },
      "outputs": [
        {
          "data": {
            "text/plain": [
              "Graph(num_nodes=2, num_edges=2,\n",
              "      ndata_schemes={'hv': Scheme(shape=(74,), dtype=torch.float32)}\n",
              "      edata_schemes={'he': Scheme(shape=(12,), dtype=torch.float32)})"
            ]
          },
          "execution_count": 6,
          "metadata": {},
          "output_type": "execute_result"
        }
      ],
      "source": [
        "smiles = \"CC\"\n",
        "\n",
        "# mol_to_graph requires the RDKit molecule and featurizers\n",
        "mol = Chem.MolFromSmiles(smiles)\n",
        "\n",
        "graph = mol_to_bigraph(mol, node_featurizer=atom_featurizer,\n",
        "                     edge_featurizer=bond_featurizer)\n",
        "\n",
        "\n",
        "# display the graph object\n",
        "graph"
      ]
    },
    {
      "cell_type": "markdown",
      "metadata": {
        "id": "0t9OV-iktWsa"
      },
      "source": [
        "- ### Graph2NetworkX"
      ]
    },
    {
      "cell_type": "code",
      "execution_count": 7,
      "metadata": {
        "id": "SfFhW4A7rQXj"
      },
      "outputs": [],
      "source": [
        "import matplotlib.pyplot as plt\n",
        "import networkx as nx\n",
        "import dgl\n",
        "\n",
        "options = {\n",
        "    'node_color': 'black',\n",
        "    'node_size': 50,\n",
        "    'width': 1,\n",
        "}\n",
        "\n",
        "def graph2nx(graph_obj) :\n",
        "    G = dgl.to_networkx(graph_obj)\n",
        "    plt.figure(figsize=[8,6])\n",
        "    nx.draw(G, with_labels=True) # , **options"
      ]
    },
    {
      "cell_type": "code",
      "execution_count": 8,
      "metadata": {
        "colab": {
          "base_uri": "https://localhost:8080/",
          "height": 636
        },
        "id": "DuRPslgmtgys",
        "outputId": "2da0ba77-c9f7-46e8-ef97-18576254ae52"
      },
      "outputs": [
        {
          "data": {
            "image/png": "[encoded data removed]",
            "text/plain": [
              "<Figure size 800x600 with 1 Axes>"
            ]
          },
          "metadata": {},
          "output_type": "display_data"
        }
      ],
      "source": [
        "graph2nx(graph)"
      ]
    },
    {
      "cell_type": "code",
      "execution_count": 9,
      "metadata": {
        "colab": {
          "base_uri": "https://localhost:8080/",
          "height": 317
        },
        "id": "H4XK4EoapdHK",
        "outputId": "d8c3f145-8b2b-4632-c9e7-addf6b5615db"
      },
      "outputs": [
        {
          "data": {
            "image/png": "[encoded data removed]",
            "text/plain": [
              "<PIL.PngImagePlugin.PngImageFile image mode=RGB size=300x300>"
            ]
          },
          "execution_count": 9,
          "metadata": {},
          "output_type": "execute_result"
        }
      ],
      "source": [
        "from rdkit.Chem import Draw\n",
        "mol = Chem.MolFromSmiles(smiles)\n",
        "Draw.MolToImage(mol)"
      ]
    },
    {
      "cell_type": "markdown",
      "metadata": {
        "id": "WgiEcNPtcYoj"
      },
      "source": [
        "Atom features:\n",
        "* One hot encoding of the atom type\n",
        "* One hot encoding of the atom degree\n",
        "* One hot encoding of the number of implicit Hs on the atom\n",
        "* ...\n",
        "\n",
        "More details in [documentation](https://lifesci.dgl.ai/api/utils.mols.html#featurization-for-molecules.)\n",
        "\n",
        "We will create the graphs for all entries in the dataset.\n"
      ]
    },
    {
      "cell_type": "markdown",
      "metadata": {
        "id": "0PllS8bWt0_b"
      },
      "source": [
        "- ### Smiles2Graph"
      ]
    },
    {
      "cell_type": "code",
      "execution_count": 10,
      "metadata": {
        "id": "dyovcsnIdGt1"
      },
      "outputs": [],
      "source": [
        "# helper function to convert smiles to graph\n",
        "def smiles2graph(smiles):\n",
        "  mol = Chem.MolFromSmiles(smiles)\n",
        "  graph = mol_to_bigraph(mol, node_featurizer=atom_featurizer,\n",
        "                     edge_featurizer=bond_featurizer)\n",
        "  return graph"
      ]
    },
    {
      "cell_type": "markdown",
      "metadata": {
        "id": "i8rmXjo0uDJz"
      },
      "source": [
        "## So We have `smiles2graph` & `graph2nx` Functions :"
      ]
    },
    {
      "cell_type": "code",
      "execution_count": 11,
      "metadata": {
        "id": "z-PlfX-xdY4W"
      },
      "outputs": [],
      "source": [
        "dataset[\"graph\"] = dataset[\"smiles\"].apply(smiles2graph)"
      ]
    },
    {
      "cell_type": "code",
      "execution_count": 12,
      "metadata": {
        "colab": {
          "base_uri": "https://localhost:8080/",
          "height": 206
        },
        "id": "XFy4S2GuuZkb",
        "outputId": "5161d012-91f8-4f41-e4a3-0680367235b8"
      },
      "outputs": [
        {
          "data": {
            "text/html": [
              "\n",
              "  <div id=\"df-d8dfca70-e41b-439f-a32e-2ba08fb564b1\" class=\"colab-df-container\">\n",
              "    <div>\n",
              "<style scoped>\n",
              "    .dataframe tbody tr th:only-of-type {\n",
              "        vertical-align: middle;\n",
              "    }\n",
              "\n",
              "    .dataframe tbody tr th {\n",
              "        vertical-align: top;\n",
              "    }\n",
              "\n",
              "    .dataframe thead th {\n",
              "        text-align: right;\n",
              "    }\n",
              "</style>\n",
              "<table border=\"1\" class=\"dataframe\">\n",
              "  <thead>\n",
              "    <tr style=\"text-align: right;\">\n",
              "      <th></th>\n",
              "      <th>smiles</th>\n",
              "      <th>gap</th>\n",
              "      <th>graph</th>\n",
              "    </tr>\n",
              "  </thead>\n",
              "  <tbody>\n",
              "    <tr>\n",
              "      <th>27223</th>\n",
              "      <td>c1c2c(c(o1)N)ocn2</td>\n",
              "      <td>0.1708</td>\n",
              "      <td>Graph(num_nodes=9, num_edges=20,\\n      ndata_...</td>\n",
              "    </tr>\n",
              "    <tr>\n",
              "      <th>10864</th>\n",
              "      <td>CC1OCC(O)CO1</td>\n",
              "      <td>0.3303</td>\n",
              "      <td>Graph(num_nodes=8, num_edges=16,\\n      ndata_...</td>\n",
              "    </tr>\n",
              "    <tr>\n",
              "      <th>83683</th>\n",
              "      <td>OC1C2OCC2C1C#N</td>\n",
              "      <td>0.2714</td>\n",
              "      <td>Graph(num_nodes=9, num_edges=20,\\n      ndata_...</td>\n",
              "    </tr>\n",
              "    <tr>\n",
              "      <th>80018</th>\n",
              "      <td>CC1C2C=CC1C2(C)C</td>\n",
              "      <td>0.2345</td>\n",
              "      <td>Graph(num_nodes=9, num_edges=20,\\n      ndata_...</td>\n",
              "    </tr>\n",
              "    <tr>\n",
              "      <th>14735</th>\n",
              "      <td>COC=NCCCO</td>\n",
              "      <td>0.2719</td>\n",
              "      <td>Graph(num_nodes=8, num_edges=14,\\n      ndata_...</td>\n",
              "    </tr>\n",
              "  </tbody>\n",
              "</table>\n",
              "</div>\n",
              "    <div class=\"colab-df-buttons\">\n",
              "\n",
              "  <div class=\"colab-df-container\">\n",
              "    <button class=\"colab-df-convert\" onclick=\"convertToInteractive('df-d8dfca70-e41b-439f-a32e-2ba08fb564b1')\"\n",
              "            title=\"Convert this dataframe to an interactive table.\"\n",
              "            style=\"display:none;\">\n",
              "\n",
              "  <svg xmlns=\"http://www.w3.org/2000/svg\" height=\"24px\" viewBox=\"0 -960 960 960\">\n",
              "    <path d=\"M120-120v-720h720v720H120Zm60-500h600v-160H180v160Zm220 220h160v-160H400v160Zm0 220h160v-160H400v160ZM180-400h160v-160H180v160Zm440 0h160v-160H620v160ZM180-180h160v-160H180v160Zm440 0h160v-160H620v160Z\"/>\n",
              "  </svg>\n",
              "    </button>\n",
              "\n",
              "  <style>\n",
              "    .colab-df-container {\n",
              "      display:flex;\n",
              "      gap: 12px;\n",
              "    }\n",
              "\n",
              "    .colab-df-convert {\n",
              "      background-color: #E8F0FE;\n",
              "      border: none;\n",
              "      border-radius: 50%;\n",
              "      cursor: pointer;\n",
              "      display: none;\n",
              "      fill: #1967D2;\n",
              "      height: 32px;\n",
              "      padding: 0 0 0 0;\n",
              "      width: 32px;\n",
              "    }\n",
              "\n",
              "    .colab-df-convert:hover {\n",
              "      background-color: #E2EBFA;\n",
              "      box-shadow: 0px 1px 2px rgba(60, 64, 67, 0.3), 0px 1px 3px 1px rgba(60, 64, 67, 0.15);\n",
              "      fill: #174EA6;\n",
              "    }\n",
              "\n",
              "    .colab-df-buttons div {\n",
              "      margin-bottom: 4px;\n",
              "    }\n",
              "\n",
              "    [theme=dark] .colab-df-convert {\n",
              "      background-color: #3B4455;\n",
              "      fill: #D2E3FC;\n",
              "    }\n",
              "\n",
              "    [theme=dark] .colab-df-convert:hover {\n",
              "      background-color: #434B5C;\n",
              "      box-shadow: 0px 1px 3px 1px rgba(0, 0, 0, 0.15);\n",
              "      filter: drop-shadow(0px 1px 2px rgba(0, 0, 0, 0.3));\n",
              "      fill: #FFFFFF;\n",
              "    }\n",
              "  </style>\n",
              "\n",
              "    <script>\n",
              "      const buttonEl =\n",
              "        document.querySelector('#df-d8dfca70-e41b-439f-a32e-2ba08fb564b1 button.colab-df-convert');\n",
              "      buttonEl.style.display =\n",
              "        google.colab.kernel.accessAllowed ? 'block' : 'none';\n",
              "\n",
              "      async function convertToInteractive(key) {\n",
              "        const element = document.querySelector('#df-d8dfca70-e41b-439f-a32e-2ba08fb564b1');\n",
              "        const dataTable =\n",
              "          await google.colab.kernel.invokeFunction('convertToInteractive',\n",
              "                                                    [key], {});\n",
              "        if (!dataTable) return;\n",
              "\n",
              "        const docLinkHtml = 'Like what you see? Visit the ' +\n",
              "          '<a target=\"_blank\" href=https://colab.research.google.com/notebooks/data_table.ipynb>data table notebook</a>'\n",
              "          + ' to learn more about interactive tables.';\n",
              "        element.innerHTML = '';\n",
              "        dataTable['output_type'] = 'display_data';\n",
              "        await google.colab.output.renderOutput(dataTable, element);\n",
              "        const docLink = document.createElement('div');\n",
              "        docLink.innerHTML = docLinkHtml;\n",
              "        element.appendChild(docLink);\n",
              "      }\n",
              "    </script>\n",
              "  </div>\n",
              "\n",
              "\n",
              "<div id=\"df-f3bf9558-d3a0-4753-8dbb-71f7d17490bf\">\n",
              "  <button class=\"colab-df-quickchart\" onclick=\"quickchart('df-f3bf9558-d3a0-4753-8dbb-71f7d17490bf')\"\n",
              "            title=\"Suggest charts\"\n",
              "            style=\"display:none;\">\n",
              "\n",
              "<svg xmlns=\"http://www.w3.org/2000/svg\" height=\"24px\"viewBox=\"0 0 24 24\"\n",
              "     width=\"24px\">\n",
              "    <g>\n",
              "        <path d=\"M19 3H5c-1.1 0-2 .9-2 2v14c0 1.1.9 2 2 2h14c1.1 0 2-.9 2-2V5c0-1.1-.9-2-2-2zM9 17H7v-7h2v7zm4 0h-2V7h2v10zm4 0h-2v-4h2v4z\"/>\n",
              "    </g>\n",
              "</svg>\n",
              "  </button>\n",
              "\n",
              "<style>\n",
              "  .colab-df-quickchart {\n",
              "      --bg-color: #E8F0FE;\n",
              "      --fill-color: #1967D2;\n",
              "      --hover-bg-color: #E2EBFA;\n",
              "      --hover-fill-color: #174EA6;\n",
              "      --disabled-fill-color: #AAA;\n",
              "      --disabled-bg-color: #DDD;\n",
              "  }\n",
              "\n",
              "  [theme=dark] .colab-df-quickchart {\n",
              "      --bg-color: #3B4455;\n",
              "      --fill-color: #D2E3FC;\n",
              "      --hover-bg-color: #434B5C;\n",
              "      --hover-fill-color: #FFFFFF;\n",
              "      --disabled-bg-color: #3B4455;\n",
              "      --disabled-fill-color: #666;\n",
              "  }\n",
              "\n",
              "  .colab-df-quickchart {\n",
              "    background-color: var(--bg-color);\n",
              "    border: none;\n",
              "    border-radius: 50%;\n",
              "    cursor: pointer;\n",
              "    display: none;\n",
              "    fill: var(--fill-color);\n",
              "    height: 32px;\n",
              "    padding: 0;\n",
              "    width: 32px;\n",
              "  }\n",
              "\n",
              "  .colab-df-quickchart:hover {\n",
              "    background-color: var(--hover-bg-color);\n",
              "    box-shadow: 0 1px 2px rgba(60, 64, 67, 0.3), 0 1px 3px 1px rgba(60, 64, 67, 0.15);\n",
              "    fill: var(--button-hover-fill-color);\n",
              "  }\n",
              "\n",
              "  .colab-df-quickchart-complete:disabled,\n",
              "  .colab-df-quickchart-complete:disabled:hover {\n",
              "    background-color: var(--disabled-bg-color);\n",
              "    fill: var(--disabled-fill-color);\n",
              "    box-shadow: none;\n",
              "  }\n",
              "\n",
              "  .colab-df-spinner {\n",
              "    border: 2px solid var(--fill-color);\n",
              "    border-color: transparent;\n",
              "    border-bottom-color: var(--fill-color);\n",
              "    animation:\n",
              "      spin 1s steps(1) infinite;\n",
              "  }\n",
              "\n",
              "  @keyframes spin {\n",
              "    0% {\n",
              "      border-color: transparent;\n",
              "      border-bottom-color: var(--fill-color);\n",
              "      border-left-color: var(--fill-color);\n",
              "    }\n",
              "    20% {\n",
              "      border-color: transparent;\n",
              "      border-left-color: var(--fill-color);\n",
              "      border-top-color: var(--fill-color);\n",
              "    }\n",
              "    30% {\n",
              "      border-color: transparent;\n",
              "      border-left-color: var(--fill-color);\n",
              "      border-top-color: var(--fill-color);\n",
              "      border-right-color: var(--fill-color);\n",
              "    }\n",
              "    40% {\n",
              "      border-color: transparent;\n",
              "      border-right-color: var(--fill-color);\n",
              "      border-top-color: var(--fill-color);\n",
              "    }\n",
              "    60% {\n",
              "      border-color: transparent;\n",
              "      border-right-color: var(--fill-color);\n",
              "    }\n",
              "    80% {\n",
              "      border-color: transparent;\n",
              "      border-right-color: var(--fill-color);\n",
              "      border-bottom-color: var(--fill-color);\n",
              "    }\n",
              "    90% {\n",
              "      border-color: transparent;\n",
              "      border-bottom-color: var(--fill-color);\n",
              "    }\n",
              "  }\n",
              "</style>\n",
              "\n",
              "  <script>\n",
              "    async function quickchart(key) {\n",
              "      const quickchartButtonEl =\n",
              "        document.querySelector('#' + key + ' button');\n",
              "      quickchartButtonEl.disabled = true;  // To prevent multiple clicks.\n",
              "      quickchartButtonEl.classList.add('colab-df-spinner');\n",
              "      try {\n",
              "        const charts = await google.colab.kernel.invokeFunction(\n",
              "            'suggestCharts', [key], {});\n",
              "      } catch (error) {\n",
              "        console.error('Error during call to suggestCharts:', error);\n",
              "      }\n",
              "      quickchartButtonEl.classList.remove('colab-df-spinner');\n",
              "      quickchartButtonEl.classList.add('colab-df-quickchart-complete');\n",
              "    }\n",
              "    (() => {\n",
              "      let quickchartButtonEl =\n",
              "        document.querySelector('#df-f3bf9558-d3a0-4753-8dbb-71f7d17490bf button');\n",
              "      quickchartButtonEl.style.display =\n",
              "        google.colab.kernel.accessAllowed ? 'block' : 'none';\n",
              "    })();\n",
              "  </script>\n",
              "</div>\n",
              "    </div>\n",
              "  </div>\n"
            ],
            "text/plain": [
              "                  smiles     gap  \\\n",
              "27223  c1c2c(c(o1)N)ocn2  0.1708   \n",
              "10864       CC1OCC(O)CO1  0.3303   \n",
              "83683     OC1C2OCC2C1C#N  0.2714   \n",
              "80018   CC1C2C=CC1C2(C)C  0.2345   \n",
              "14735          COC=NCCCO  0.2719   \n",
              "\n",
              "                                                   graph  \n",
              "27223  Graph(num_nodes=9, num_edges=20,\\n      ndata_...  \n",
              "10864  Graph(num_nodes=8, num_edges=16,\\n      ndata_...  \n",
              "83683  Graph(num_nodes=9, num_edges=20,\\n      ndata_...  \n",
              "80018  Graph(num_nodes=9, num_edges=20,\\n      ndata_...  \n",
              "14735  Graph(num_nodes=8, num_edges=14,\\n      ndata_...  "
            ]
          },
          "execution_count": 12,
          "metadata": {},
          "output_type": "execute_result"
        }
      ],
      "source": [
        "dataset.head(5)"
      ]
    },
    {
      "cell_type": "code",
      "execution_count": 14,
      "metadata": {
        "colab": {
          "base_uri": "https://localhost:8080/"
        },
        "id": "iWEvLTHcujQM",
        "outputId": "7078c339-0716-4bce-bcd5-fbe12b5d2fa2"
      },
      "outputs": [
        {
          "data": {
            "text/plain": [
              "Graph(num_nodes=9, num_edges=20,\n",
              "      ndata_schemes={'hv': Scheme(shape=(74,), dtype=torch.float32)}\n",
              "      edata_schemes={'he': Scheme(shape=(12,), dtype=torch.float32)})"
            ]
          },
          "execution_count": 14,
          "metadata": {},
          "output_type": "execute_result"
        }
      ],
      "source": [
        "dataset.graph[27223]"
      ]
    },
    {
      "cell_type": "code",
      "execution_count": 15,
      "metadata": {
        "colab": {
          "base_uri": "https://localhost:8080/",
          "height": 636
        },
        "id": "w2NaoX4gurZ3",
        "outputId": "5de48235-54c4-4acb-8d9f-1be882fc8398"
      },
      "outputs": [
        {
          "data": {
            "image/png": "[encoded data removed]",
            "text/plain": [
              "<Figure size 800x600 with 1 Axes>"
            ]
          },
          "metadata": {},
          "output_type": "display_data"
        }
      ],
      "source": [
        "graph2nx(dataset.graph[27223])"
      ]
    },
    {
      "cell_type": "code",
      "execution_count": 16,
      "metadata": {
        "colab": {
          "base_uri": "https://localhost:8080/",
          "height": 317
        },
        "id": "IvBMxcV4uyqK",
        "outputId": "65b009ee-ed26-417f-877d-1fad43ebac8b"
      },
      "outputs": [
        {
          "data": {
            "image/png": "[encoded data removed]",
            "text/plain": [
              "<PIL.PngImagePlugin.PngImageFile image mode=RGB size=300x300>"
            ]
          },
          "execution_count": 16,
          "metadata": {},
          "output_type": "execute_result"
        }
      ],
      "source": [
        "mol = Chem.MolFromSmiles(dataset.smiles[27223])\n",
        "Draw.MolToImage(mol)"
      ]
    },
    {
      "cell_type": "markdown",
      "metadata": {
        "id": "eOhc1WzunuEV"
      },
      "source": [
        "Here, we use random splitting with Fast-ML. Other splitters could also be used."
      ]
    },
    {
      "cell_type": "code",
      "execution_count": 17,
      "metadata": {
        "id": "0Uz09CqxF-2f"
      },
      "outputs": [],
      "source": [
        "# import the function to split into train-valid-test\n",
        "from fast_ml.model_development import train_valid_test_split\n",
        "\n",
        "X_train, y_train, X_valid, y_valid, \\\n",
        "X_test, y_test = train_valid_test_split(dataset[[\"graph\",\"gap\"]],\n",
        "                                        target = \"gap\",\n",
        "                                        train_size=0.8,\n",
        "                                        valid_size=0.1,\n",
        "                                        test_size=0.1)"
      ]
    },
    {
      "cell_type": "markdown",
      "metadata": {
        "id": "BHsxYCrFiH4_"
      },
      "source": [
        "### Looking at the dataset"
      ]
    },
    {
      "cell_type": "code",
      "execution_count": 18,
      "metadata": {
        "colab": {
          "base_uri": "https://localhost:8080/",
          "height": 206
        },
        "id": "QsWIQCuFiLTO",
        "outputId": "f5ea7290-b6c6-40c4-ebaa-f294c183496d"
      },
      "outputs": [
        {
          "data": {
            "text/html": [
              "\n",
              "  <div id=\"df-d961f623-9b1b-4459-92ce-ba9b081c7646\" class=\"colab-df-container\">\n",
              "    <div>\n",
              "<style scoped>\n",
              "    .dataframe tbody tr th:only-of-type {\n",
              "        vertical-align: middle;\n",
              "    }\n",
              "\n",
              "    .dataframe tbody tr th {\n",
              "        vertical-align: top;\n",
              "    }\n",
              "\n",
              "    .dataframe thead th {\n",
              "        text-align: right;\n",
              "    }\n",
              "</style>\n",
              "<table border=\"1\" class=\"dataframe\">\n",
              "  <thead>\n",
              "    <tr style=\"text-align: right;\">\n",
              "      <th></th>\n",
              "      <th>graph</th>\n",
              "    </tr>\n",
              "  </thead>\n",
              "  <tbody>\n",
              "    <tr>\n",
              "      <th>10123</th>\n",
              "      <td>Graph(num_nodes=8, num_edges=14,\\n      ndata_...</td>\n",
              "    </tr>\n",
              "    <tr>\n",
              "      <th>106890</th>\n",
              "      <td>Graph(num_nodes=9, num_edges=20,\\n      ndata_...</td>\n",
              "    </tr>\n",
              "    <tr>\n",
              "      <th>87533</th>\n",
              "      <td>Graph(num_nodes=9, num_edges=22,\\n      ndata_...</td>\n",
              "    </tr>\n",
              "    <tr>\n",
              "      <th>1734</th>\n",
              "      <td>Graph(num_nodes=7, num_edges=14,\\n      ndata_...</td>\n",
              "    </tr>\n",
              "    <tr>\n",
              "      <th>52713</th>\n",
              "      <td>Graph(num_nodes=9, num_edges=18,\\n      ndata_...</td>\n",
              "    </tr>\n",
              "  </tbody>\n",
              "</table>\n",
              "</div>\n",
              "    <div class=\"colab-df-buttons\">\n",
              "\n",
              "  <div class=\"colab-df-container\">\n",
              "    <button class=\"colab-df-convert\" onclick=\"convertToInteractive('df-d961f623-9b1b-4459-92ce-ba9b081c7646')\"\n",
              "            title=\"Convert this dataframe to an interactive table.\"\n",
              "            style=\"display:none;\">\n",
              "\n",
              "  <svg xmlns=\"http://www.w3.org/2000/svg\" height=\"24px\" viewBox=\"0 -960 960 960\">\n",
              "    <path d=\"M120-120v-720h720v720H120Zm60-500h600v-160H180v160Zm220 220h160v-160H400v160Zm0 220h160v-160H400v160ZM180-400h160v-160H180v160Zm440 0h160v-160H620v160ZM180-180h160v-160H180v160Zm440 0h160v-160H620v160Z\"/>\n",
              "  </svg>\n",
              "    </button>\n",
              "\n",
              "  <style>\n",
              "    .colab-df-container {\n",
              "      display:flex;\n",
              "      gap: 12px;\n",
              "    }\n",
              "\n",
              "    .colab-df-convert {\n",
              "      background-color: #E8F0FE;\n",
              "      border: none;\n",
              "      border-radius: 50%;\n",
              "      cursor: pointer;\n",
              "      display: none;\n",
              "      fill: #1967D2;\n",
              "      height: 32px;\n",
              "      padding: 0 0 0 0;\n",
              "      width: 32px;\n",
              "    }\n",
              "\n",
              "    .colab-df-convert:hover {\n",
              "      background-color: #E2EBFA;\n",
              "      box-shadow: 0px 1px 2px rgba(60, 64, 67, 0.3), 0px 1px 3px 1px rgba(60, 64, 67, 0.15);\n",
              "      fill: #174EA6;\n",
              "    }\n",
              "\n",
              "    .colab-df-buttons div {\n",
              "      margin-bottom: 4px;\n",
              "    }\n",
              "\n",
              "    [theme=dark] .colab-df-convert {\n",
              "      background-color: #3B4455;\n",
              "      fill: #D2E3FC;\n",
              "    }\n",
              "\n",
              "    [theme=dark] .colab-df-convert:hover {\n",
              "      background-color: #434B5C;\n",
              "      box-shadow: 0px 1px 3px 1px rgba(0, 0, 0, 0.15);\n",
              "      filter: drop-shadow(0px 1px 2px rgba(0, 0, 0, 0.3));\n",
              "      fill: #FFFFFF;\n",
              "    }\n",
              "  </style>\n",
              "\n",
              "    <script>\n",
              "      const buttonEl =\n",
              "        document.querySelector('#df-d961f623-9b1b-4459-92ce-ba9b081c7646 button.colab-df-convert');\n",
              "      buttonEl.style.display =\n",
              "        google.colab.kernel.accessAllowed ? 'block' : 'none';\n",
              "\n",
              "      async function convertToInteractive(key) {\n",
              "        const element = document.querySelector('#df-d961f623-9b1b-4459-92ce-ba9b081c7646');\n",
              "        const dataTable =\n",
              "          await google.colab.kernel.invokeFunction('convertToInteractive',\n",
              "                                                    [key], {});\n",
              "        if (!dataTable) return;\n",
              "\n",
              "        const docLinkHtml = 'Like what you see? Visit the ' +\n",
              "          '<a target=\"_blank\" href=https://colab.research.google.com/notebooks/data_table.ipynb>data table notebook</a>'\n",
              "          + ' to learn more about interactive tables.';\n",
              "        element.innerHTML = '';\n",
              "        dataTable['output_type'] = 'display_data';\n",
              "        await google.colab.output.renderOutput(dataTable, element);\n",
              "        const docLink = document.createElement('div');\n",
              "        docLink.innerHTML = docLinkHtml;\n",
              "        element.appendChild(docLink);\n",
              "      }\n",
              "    </script>\n",
              "  </div>\n",
              "\n",
              "\n",
              "<div id=\"df-1f894214-1222-4861-9fcc-c03a1198e53a\">\n",
              "  <button class=\"colab-df-quickchart\" onclick=\"quickchart('df-1f894214-1222-4861-9fcc-c03a1198e53a')\"\n",
              "            title=\"Suggest charts\"\n",
              "            style=\"display:none;\">\n",
              "\n",
              "<svg xmlns=\"http://www.w3.org/2000/svg\" height=\"24px\"viewBox=\"0 0 24 24\"\n",
              "     width=\"24px\">\n",
              "    <g>\n",
              "        <path d=\"M19 3H5c-1.1 0-2 .9-2 2v14c0 1.1.9 2 2 2h14c1.1 0 2-.9 2-2V5c0-1.1-.9-2-2-2zM9 17H7v-7h2v7zm4 0h-2V7h2v10zm4 0h-2v-4h2v4z\"/>\n",
              "    </g>\n",
              "</svg>\n",
              "  </button>\n",
              "\n",
              "<style>\n",
              "  .colab-df-quickchart {\n",
              "      --bg-color: #E8F0FE;\n",
              "      --fill-color: #1967D2;\n",
              "      --hover-bg-color: #E2EBFA;\n",
              "      --hover-fill-color: #174EA6;\n",
              "      --disabled-fill-color: #AAA;\n",
              "      --disabled-bg-color: #DDD;\n",
              "  }\n",
              "\n",
              "  [theme=dark] .colab-df-quickchart {\n",
              "      --bg-color: #3B4455;\n",
              "      --fill-color: #D2E3FC;\n",
              "      --hover-bg-color: #434B5C;\n",
              "      --hover-fill-color: #FFFFFF;\n",
              "      --disabled-bg-color: #3B4455;\n",
              "      --disabled-fill-color: #666;\n",
              "  }\n",
              "\n",
              "  .colab-df-quickchart {\n",
              "    background-color: var(--bg-color);\n",
              "    border: none;\n",
              "    border-radius: 50%;\n",
              "    cursor: pointer;\n",
              "    display: none;\n",
              "    fill: var(--fill-color);\n",
              "    height: 32px;\n",
              "    padding: 0;\n",
              "    width: 32px;\n",
              "  }\n",
              "\n",
              "  .colab-df-quickchart:hover {\n",
              "    background-color: var(--hover-bg-color);\n",
              "    box-shadow: 0 1px 2px rgba(60, 64, 67, 0.3), 0 1px 3px 1px rgba(60, 64, 67, 0.15);\n",
              "    fill: var(--button-hover-fill-color);\n",
              "  }\n",
              "\n",
              "  .colab-df-quickchart-complete:disabled,\n",
              "  .colab-df-quickchart-complete:disabled:hover {\n",
              "    background-color: var(--disabled-bg-color);\n",
              "    fill: var(--disabled-fill-color);\n",
              "    box-shadow: none;\n",
              "  }\n",
              "\n",
              "  .colab-df-spinner {\n",
              "    border: 2px solid var(--fill-color);\n",
              "    border-color: transparent;\n",
              "    border-bottom-color: var(--fill-color);\n",
              "    animation:\n",
              "      spin 1s steps(1) infinite;\n",
              "  }\n",
              "\n",
              "  @keyframes spin {\n",
              "    0% {\n",
              "      border-color: transparent;\n",
              "      border-bottom-color: var(--fill-color);\n",
              "      border-left-color: var(--fill-color);\n",
              "    }\n",
              "    20% {\n",
              "      border-color: transparent;\n",
              "      border-left-color: var(--fill-color);\n",
              "      border-top-color: var(--fill-color);\n",
              "    }\n",
              "    30% {\n",
              "      border-color: transparent;\n",
              "      border-left-color: var(--fill-color);\n",
              "      border-top-color: var(--fill-color);\n",
              "      border-right-color: var(--fill-color);\n",
              "    }\n",
              "    40% {\n",
              "      border-color: transparent;\n",
              "      border-right-color: var(--fill-color);\n",
              "      border-top-color: var(--fill-color);\n",
              "    }\n",
              "    60% {\n",
              "      border-color: transparent;\n",
              "      border-right-color: var(--fill-color);\n",
              "    }\n",
              "    80% {\n",
              "      border-color: transparent;\n",
              "      border-right-color: var(--fill-color);\n",
              "      border-bottom-color: var(--fill-color);\n",
              "    }\n",
              "    90% {\n",
              "      border-color: transparent;\n",
              "      border-bottom-color: var(--fill-color);\n",
              "    }\n",
              "  }\n",
              "</style>\n",
              "\n",
              "  <script>\n",
              "    async function quickchart(key) {\n",
              "      const quickchartButtonEl =\n",
              "        document.querySelector('#' + key + ' button');\n",
              "      quickchartButtonEl.disabled = true;  // To prevent multiple clicks.\n",
              "      quickchartButtonEl.classList.add('colab-df-spinner');\n",
              "      try {\n",
              "        const charts = await google.colab.kernel.invokeFunction(\n",
              "            'suggestCharts', [key], {});\n",
              "      } catch (error) {\n",
              "        console.error('Error during call to suggestCharts:', error);\n",
              "      }\n",
              "      quickchartButtonEl.classList.remove('colab-df-spinner');\n",
              "      quickchartButtonEl.classList.add('colab-df-quickchart-complete');\n",
              "    }\n",
              "    (() => {\n",
              "      let quickchartButtonEl =\n",
              "        document.querySelector('#df-1f894214-1222-4861-9fcc-c03a1198e53a button');\n",
              "      quickchartButtonEl.style.display =\n",
              "        google.colab.kernel.accessAllowed ? 'block' : 'none';\n",
              "    })();\n",
              "  </script>\n",
              "</div>\n",
              "    </div>\n",
              "  </div>\n"
            ],
            "text/plain": [
              "                                                    graph\n",
              "10123   Graph(num_nodes=8, num_edges=14,\\n      ndata_...\n",
              "106890  Graph(num_nodes=9, num_edges=20,\\n      ndata_...\n",
              "87533   Graph(num_nodes=9, num_edges=22,\\n      ndata_...\n",
              "1734    Graph(num_nodes=7, num_edges=14,\\n      ndata_...\n",
              "52713   Graph(num_nodes=9, num_edges=18,\\n      ndata_..."
            ]
          },
          "execution_count": 18,
          "metadata": {},
          "output_type": "execute_result"
        }
      ],
      "source": [
        "X_test.head(5)"
      ]
    },
    {
      "cell_type": "markdown",
      "metadata": {
        "id": "fu7uSLoJKfjw"
      },
      "source": [
        "### Dataloader\n",
        "\n",
        "The ``DataLoader`` helps in creating batches, shuffling data and feeding the data into to model during training. The dataloader requires the dataset in the form (X,y) where X is the graph and y is the target.\n",
        "\n",
        "The dataloader code below does this transformation. The ``collate_data`` function is need for batching the (X,y) entries before feeding the batches into the model."
      ]
    },
    {
      "cell_type": "code",
      "execution_count": 19,
      "metadata": {
        "id": "wNAZGrMuY8yT"
      },
      "outputs": [],
      "source": [
        "import dgl\n",
        "\n",
        "def collate_data(data):\n",
        "  # our data is in the form of list of (X,y)\n",
        "  # the map function thus maps accordingly\n",
        "  graphs, y = map(list, zip(*data))\n",
        "\n",
        "  # for creating a batch of graph, we use the batch function\n",
        "  batch_graph = dgl.batch(graphs)\n",
        "\n",
        "  # we need to stack the ys for different entries in the batch\n",
        "  y = torch.stack(y, dim=0)\n",
        "\n",
        "  return batch_graph, y"
      ]
    },
    {
      "cell_type": "code",
      "execution_count": 20,
      "metadata": {
        "id": "QG1Ie35wJsiE"
      },
      "outputs": [],
      "source": [
        "# import dataloader\n",
        "import torch\n",
        "from torch.utils.data import DataLoader\n",
        "\n",
        "# create the dataloader for train dataset\n",
        "# dataset should be of form (X,y) according to the collate function\n",
        "# the ys should also be converted to tensors\n",
        "train_dataloader = DataLoader(\n",
        "    dataset=list(zip(X_train[\"graph\"].values.tolist(),\n",
        "                     torch.tensor(y_train.tolist(), dtype=torch.float32))),\n",
        "    batch_size=64, collate_fn=collate_data)"
      ]
    },
    {
      "cell_type": "markdown",
      "metadata": {
        "id": "7b73yfdorVEd"
      },
      "source": [
        "## We can look at the first entry of the train_dataloader :"
      ]
    },
    {
      "cell_type": "code",
      "execution_count": 21,
      "metadata": {
        "colab": {
          "base_uri": "https://localhost:8080/"
        },
        "id": "1gxYN8NYL8P-",
        "outputId": "37ccdb13-8d4c-4de8-c357-bf1e601a2182"
      },
      "outputs": [
        {
          "data": {
            "text/plain": [
              "(Graph(num_nodes=8, num_edges=18,\n",
              "       ndata_schemes={'hv': Scheme(shape=(74,), dtype=torch.float32)}\n",
              "       edata_schemes={'he': Scheme(shape=(12,), dtype=torch.float32)}),\n",
              " tensor(0.3027))"
            ]
          },
          "execution_count": 21,
          "metadata": {},
          "output_type": "execute_result"
        }
      ],
      "source": [
        "train_dataloader.dataset[0]"
      ]
    },
    {
      "cell_type": "markdown",
      "metadata": {
        "id": "9kv-d9Y0ru8S"
      },
      "source": [
        "## Repeat the same for the valid_dataset and test_dataset"
      ]
    },
    {
      "cell_type": "code",
      "execution_count": 22,
      "metadata": {
        "id": "CfmWl76dKpl0"
      },
      "outputs": [],
      "source": [
        "valid_dataloader = DataLoader(\n",
        "    dataset=list(zip(X_valid[\"graph\"].values.tolist(),\n",
        "                     torch.tensor(y_valid.tolist(), dtype=torch.float32))),\n",
        "    batch_size=64, collate_fn=collate_data)\n",
        "\n",
        "test_dataloader = DataLoader(\n",
        "    dataset=list(zip(X_test[\"graph\"].values.tolist(),\n",
        "                     torch.tensor(y_test.tolist(), dtype=torch.float32))),\n",
        "    batch_size=64, collate_fn=collate_data)"
      ]
    },
    {
      "cell_type": "markdown",
      "metadata": {
        "id": "-fotYO2ZHhvi"
      },
      "source": [
        "### Model, loss and optimizer\n",
        "\n",
        "Here, we will use a the MPNN model from dgl-lifesci package. List of available models can be found [here](https://lifesci.dgl.ai/api/model.zoo.html)"
      ]
    },
    {
      "cell_type": "code",
      "execution_count": 23,
      "metadata": {
        "colab": {
          "base_uri": "https://localhost:8080/"
        },
        "id": "AhGhxXPdHQR5",
        "outputId": "068d4fc3-308d-43fb-b839-db430bd0d4c2"
      },
      "outputs": [
        {
          "data": {
            "text/plain": [
              "MPNNPredictor(\n",
              "  (gnn): MPNNGNN(\n",
              "    (project_node_feats): Sequential(\n",
              "      (0): Linear(in_features=74, out_features=64, bias=True)\n",
              "      (1): ReLU()\n",
              "    )\n",
              "    (gnn_layer): NNConv(\n",
              "      (edge_func): Sequential(\n",
              "        (0): Linear(in_features=12, out_features=128, bias=True)\n",
              "        (1): ReLU()\n",
              "        (2): Linear(in_features=128, out_features=4096, bias=True)\n",
              "      )\n",
              "    )\n",
              "    (gru): GRU(64, 64)\n",
              "  )\n",
              "  (readout): Set2Set(\n",
              "    n_iters=6\n",
              "    (lstm): LSTM(128, 64, num_layers=3)\n",
              "  )\n",
              "  (predict): Sequential(\n",
              "    (0): Linear(in_features=128, out_features=64, bias=True)\n",
              "    (1): ReLU()\n",
              "    (2): Linear(in_features=64, out_features=1, bias=True)\n",
              "  )\n",
              ")"
            ]
          },
          "execution_count": 23,
          "metadata": {},
          "output_type": "execute_result"
        }
      ],
      "source": [
        "# import MLP model from dgl-lifesci\n",
        "from dgllife.model.model_zoo.mpnn_predictor import MPNNPredictor # Message Passing Neural Network\n",
        "\n",
        "# the atom feature length is 74 and bond is 12\n",
        "model = MPNNPredictor(node_in_feats = 74,\n",
        "                      edge_in_feats = 12,\n",
        "                      node_out_feats = 64,\n",
        "                      edge_hidden_feats = 128,\n",
        "                      n_tasks = 1,\n",
        "                      num_step_message_passing = 6,\n",
        "                      num_step_set2set = 6,\n",
        "                      num_layer_set2set = 3)\n",
        "model"
      ]
    },
    {
      "cell_type": "markdown",
      "metadata": {
        "id": "iV_5vxbS4wz6"
      },
      "source": [
        "## The ``MPNNPredictor`` contains a ``gnn``, ``readout`` and ``predict`` layers."
      ]
    },
    {
      "cell_type": "code",
      "execution_count": 24,
      "metadata": {
        "id": "rtzhleqWJHUg"
      },
      "outputs": [],
      "source": [
        "# loss function for regresssion is usually mean squared error\n",
        "import torch\n",
        "\n",
        "loss_func = torch.nn.MSELoss(reduce=None)"
      ]
    },
    {
      "cell_type": "markdown",
      "metadata": {
        "id": "V6EGwrx15XME"
      },
      "source": [
        "We will use the Adam optimizer for training."
      ]
    },
    {
      "cell_type": "code",
      "execution_count": 25,
      "metadata": {
        "id": "KCe6e4l4Jjft"
      },
      "outputs": [],
      "source": [
        "# adam optimier\n",
        "optimizer = torch.optim.Adam(model.parameters(), lr=0.001)"
      ]
    },
    {
      "cell_type": "markdown",
      "metadata": {
        "id": "Ewu1-wIYMPeQ"
      },
      "source": [
        "### Model training and validation\n",
        "\n",
        "We follow the steps in the overview"
      ]
    },
    {
      "cell_type": "code",
      "execution_count": 26,
      "metadata": {
        "colab": {
          "base_uri": "https://localhost:8080/"
        },
        "id": "is7r-fWuKYMk",
        "outputId": "e213cf6b-bf2c-41d9-b36e-8dff37c77746"
      },
      "outputs": [
        {
          "name": "stdout",
          "output_type": "stream",
          "text": [
            "\n",
            "Starting Epoch 1\n",
            "Training loss 0.0042222002521157265\n",
            "Validation loss  0.0022657690569758415\n",
            "\n",
            "Starting Epoch 2\n",
            "Training loss 0.0023433445021510124\n",
            "Validation loss  0.0023530414327979088\n",
            "\n",
            "Starting Epoch 3\n",
            "Training loss 0.002351653529331088\n",
            "Validation loss  0.0023464991245418787\n",
            "\n",
            "Starting Epoch 4\n",
            "Training loss 0.0023439929354935884\n",
            "Validation loss  0.002306062960997224\n",
            "\n",
            "Starting Epoch 5\n",
            "Training loss 0.0023347351234406233\n",
            "Validation loss  0.002272742334753275\n",
            "\n",
            "Starting Epoch 6\n",
            "Training loss 0.002328048227354884\n",
            "Validation loss  0.0022460436448454857\n",
            "\n",
            "Starting Epoch 7\n",
            "Training loss 0.00232305726967752\n",
            "Validation loss  0.0022256486117839813\n",
            "\n",
            "Starting Epoch 8\n",
            "Training loss 0.002319155726581812\n",
            "Validation loss  0.0022071984130889177\n",
            "\n",
            "Starting Epoch 9\n",
            "Training loss 0.002316222060471773\n",
            "Validation loss  0.002188170561566949\n",
            "\n",
            "Starting Epoch 10\n",
            "Training loss 0.0023137221578508615\n",
            "Validation loss  0.0021721329540014267\n"
          ]
        }
      ],
      "source": [
        "epochs = 10\n",
        "\n",
        "# loop over epochs\n",
        "for epoch in range(epochs):\n",
        "  print(\"\\nStarting Epoch\", epoch+1)\n",
        "\n",
        "  # set the model to train so the parameters can be updated\n",
        "  model.train()\n",
        "  # loop over training batches\n",
        "\n",
        "  train_loss = []\n",
        "  for batch in train_dataloader:\n",
        "\n",
        "    # Do a forward pass\n",
        "    batch_graph, target = batch\n",
        "\n",
        "    # look at the forward function for input\n",
        "    # this model needs graph, node_feats and edge_feats\n",
        "    node_feats = batch_graph.ndata[\"hv\"]\n",
        "    edge_feats = batch_graph.edata[\"he\"]\n",
        "    predictions = model(batch_graph, node_feats, edge_feats)\n",
        "\n",
        "    # Compute loss\n",
        "    loss = (loss_func(predictions, target)).mean()\n",
        "    optimizer.zero_grad()\n",
        "\n",
        "    # Do back propogation and update gradient\n",
        "    loss.backward()\n",
        "    optimizer.step()\n",
        "\n",
        "    # save loss to compute average loss\n",
        "    train_loss.append(loss)\n",
        "\n",
        "  print(\"Training loss\", torch.tensor(train_loss).mean().item())\n",
        "\n",
        "\n",
        "\n",
        "  # set the model to eval so the parameters are not updated\n",
        "  model.eval()\n",
        "  valid_loss = []\n",
        "\n",
        "  # loop over validation batches\n",
        "  with torch.no_grad():\n",
        "    for batch in valid_dataloader:\n",
        "\n",
        "      # Do a forward pass\n",
        "      batch_graph, target = batch\n",
        "      node_feats = batch_graph.ndata[\"hv\"]\n",
        "      edge_feats = batch_graph.edata[\"he\"]\n",
        "      predictions = model(batch_graph, node_feats, edge_feats)\n",
        "\n",
        "      # Compute loss and gradient\n",
        "      loss = (loss_func(predictions, target)).mean()\n",
        "\n",
        "      # save loss to compute average loss\n",
        "      valid_loss.append(loss)\n",
        "\n",
        "  print(\"Validation loss \", torch.tensor(valid_loss).mean().item())\n"
      ]
    },
    {
      "cell_type": "markdown",
      "metadata": {
        "id": "1vMxNdoN7GyW"
      },
      "source": [
        "### Testing the performance\n",
        "\n",
        "We can get a random sample from the test dataset and look at the predicted and true value"
      ]
    },
    {
      "cell_type": "code",
      "execution_count": 27,
      "metadata": {
        "colab": {
          "base_uri": "https://localhost:8080/"
        },
        "id": "VLPTF8QYN-tI",
        "outputId": "cd912a4d-2449-44df-b97f-48ac793a2016"
      },
      "outputs": [
        {
          "name": "stdout",
          "output_type": "stream",
          "text": [
            "True value is  0.1722\n"
          ]
        }
      ],
      "source": [
        "# getting a sample with idx\n",
        "idx = 100\n",
        "graph_sample = X_test[\"graph\"].iloc[idx]\n",
        "y_sample = y_test.iloc[idx]\n",
        "\n",
        "print(\"True value is \",y_sample)"
      ]
    },
    {
      "cell_type": "code",
      "execution_count": 28,
      "metadata": {
        "colab": {
          "base_uri": "https://localhost:8080/"
        },
        "id": "_rwTE1NDYW8S",
        "outputId": "8a65e839-9723-4ecd-ef1d-1317422180f3"
      },
      "outputs": [
        {
          "data": {
            "text/plain": [
              "tensor([[0.2432]], grad_fn=<AddmmBackward0>)"
            ]
          },
          "execution_count": 28,
          "metadata": {},
          "output_type": "execute_result"
        }
      ],
      "source": [
        "# get the prediction\n",
        "model.eval()\n",
        "node_feats = graph_sample.ndata[\"hv\"]\n",
        "edge_feats = graph_sample.edata[\"he\"]\n",
        "model(graph_sample, node_feats, edge_feats)"
      ]
    },
    {
      "cell_type": "markdown",
      "metadata": {
        "id": "WwKcAureNtXm"
      },
      "source": [
        "Let us get prediction over the entire test dataset"
      ]
    },
    {
      "cell_type": "code",
      "execution_count": 29,
      "metadata": {
        "id": "YiRQBhA-hHEp"
      },
      "outputs": [],
      "source": [
        "predicted_values = []\n",
        "true_values = y_test.to_list()\n",
        "\n",
        "model.eval()\n",
        "for graph_sample in X_test[\"graph\"].tolist():\n",
        "  node_feats = graph_sample.ndata[\"hv\"]\n",
        "  edge_feats = graph_sample.edata[\"he\"]\n",
        "  prediction = model(graph_sample, node_feats, edge_feats)\n",
        "  predicted_values.append(prediction.item())"
      ]
    },
    {
      "cell_type": "markdown",
      "metadata": {
        "id": "cseKRc-aK1v5"
      },
      "source": [
        "We can create a scatter plot to look at the correlation"
      ]
    },
    {
      "cell_type": "code",
      "execution_count": 30,
      "metadata": {
        "colab": {
          "base_uri": "https://localhost:8080/",
          "height": 447
        },
        "id": "DpUBNWLKK2r5",
        "outputId": "e4ff4b21-3bb6-40d1-fd8b-455088a4fd21"
      },
      "outputs": [
        {
          "data": {
            "text/plain": [
              "<matplotlib.collections.PathCollection at 0x7a478cd7fb50>"
            ]
          },
          "execution_count": 30,
          "metadata": {},
          "output_type": "execute_result"
        },
        {
          "data": {
            "image/png": "[encoded data removed]",
            "text/plain": [
              "<Figure size 640x480 with 1 Axes>"
            ]
          },
          "metadata": {},
          "output_type": "display_data"
        }
      ],
      "source": [
        "import matplotlib.pyplot as plt\n",
        "\n",
        "plt.scatter(true_values, predicted_values)"
      ]
    },
    {
      "cell_type": "markdown",
      "metadata": {
        "id": "zkc-bg-iOFWr"
      },
      "source": [
        "As we noted before, the model predictions are not good; predicts nearly constant value. We can also arrive at the conclusion from the R<sup>2</sup> score"
      ]
    },
    {
      "cell_type": "code",
      "execution_count": 31,
      "metadata": {
        "colab": {
          "base_uri": "https://localhost:8080/"
        },
        "id": "E_VCh7Qti15_",
        "outputId": "a711ee42-c2a0-4c16-9df7-d0efbd4cbe18"
      },
      "outputs": [
        {
          "name": "stdout",
          "output_type": "stream",
          "text": [
            "R2 score  0.013919247069244856\n",
            "MAE  0.03917297307327612\n"
          ]
        }
      ],
      "source": [
        "from sklearn.metrics import mean_absolute_error, r2_score\n",
        "\n",
        "print(\"R2 score \", r2_score(true_values,predicted_values))\n",
        "print(\"MAE \", mean_absolute_error(true_values,predicted_values))"
      ]
    },
    {
      "cell_type": "markdown",
      "metadata": {
        "id": "8TZlsnJTnxdU"
      },
      "source": [
        "The implementation of the MPNN model on QM9 is reported in [this](https://arxiv.org/abs/1704.01212) article."
      ]
    }
  ],
  "metadata": {
    "accelerator": "GPU",
    "colab": {
      "gpuType": "T4",
      "provenance": []
    },
    "kernelspec": {
      "display_name": "Python 3",
      "name": "python3"
    },
    "language_info": {
      "name": "python"
    }
  },
  "nbformat": 4,
  "nbformat_minor": 0
}
