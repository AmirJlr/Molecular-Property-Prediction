{
  "nbformat": 4,
  "nbformat_minor": 0,
  "metadata": {
    "colab": {
      "provenance": [],
      "authorship_tag": "ABX9TyN5G7BsIB2itUs67i3yG3Kd",
      "include_colab_link": true
    },
    "kernelspec": {
      "name": "python3",
      "display_name": "Python 3"
    },
    "language_info": {
      "name": "python"
    }
  },
  "cells": [
    {
      "cell_type": "markdown",
      "metadata": {
        "id": "view-in-github",
        "colab_type": "text"
      },
      "source": [
        "<a href=\"https://colab.research.google.com/github/AmirJlr/Molecular-Property-Prediction/blob/master/HIVCaseStudy/3_OverSampling.ipynb\" target=\"_parent\"><img src=\"https://colab.research.google.com/assets/colab-badge.svg\" alt=\"Open In Colab\"/></a>"
      ]
    },
    {
      "cell_type": "markdown",
      "source": [
        "## * Output data is available in data folder"
      ],
      "metadata": {
        "id": "YUT7GwzLsG-0"
      }
    },
    {
      "cell_type": "code",
      "source": [
        "# %% Load raw dataset\n",
        "import pandas as pd\n",
        "\n",
        "data = pd.read_csv(\"data/raw/HIV_train.csv\")\n",
        "data.index = data[\"index\"]\n",
        "data[\"HIV_active\"].value_counts()\n",
        "start_index = data.iloc[0][\"index\"]"
      ],
      "metadata": {
        "id": "e_DqUCJpr7In"
      },
      "execution_count": null,
      "outputs": []
    },
    {
      "cell_type": "code",
      "source": [
        "# %% Apply oversampling\n",
        "\n",
        "# Check how many additional samples we need\n",
        "neg_class = data[\"HIV_active\"].value_counts()[0]\n",
        "pos_class = data[\"HIV_active\"].value_counts()[1]\n",
        "multiplier = int(neg_class/pos_class) - 1"
      ],
      "metadata": {
        "id": "IIXb4qxVr7FG"
      },
      "execution_count": null,
      "outputs": []
    },
    {
      "cell_type": "code",
      "source": [
        "# Replicate the dataset for the positive class\n",
        "replicated_pos = [data[data[\"HIV_active\"] == 1]]*multiplier\n",
        "\n",
        "# Append replicated data\n",
        "data = data.append(replicated_pos,\n",
        "                    ignore_index=True)\n",
        "print(data.shape)"
      ],
      "metadata": {
        "id": "YWQvUwoNr65Z"
      },
      "execution_count": null,
      "outputs": []
    },
    {
      "cell_type": "code",
      "source": [
        "# Shuffle dataset\n",
        "data = data.sample(frac=1).reset_index(drop=True)\n",
        "\n",
        "# Re-assign index (This is our ID later)\n",
        "index = range(start_index, start_index + data.shape[0])\n",
        "data.index = index\n",
        "data[\"index\"] = data.index\n",
        "data.head()"
      ],
      "metadata": {
        "id": "61Ui0qM4r6d_"
      },
      "execution_count": null,
      "outputs": []
    },
    {
      "cell_type": "code",
      "execution_count": null,
      "metadata": {
        "id": "qQ_ZUVFErrdx"
      },
      "outputs": [],
      "source": [
        "# %% Save\n",
        "data.to_csv(\"data/raw/HIV_train_oversampled.csv\")"
      ]
    }
  ]
}